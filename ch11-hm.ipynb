{
 "cells": [
  {
   "cell_type": "markdown",
   "metadata": {},
   "source": [
    "# Financial and Economic Data Applications"
   ]
  },
  {
   "cell_type": "code",
   "execution_count": 64,
   "metadata": {},
   "outputs": [],
   "source": [
    "from __future__ import division\n",
    "from pandas import Series, DataFrame\n",
    "import pandas as pd\n",
    "from numpy.random import randn\n",
    "import numpy as np\n",
    "pd.options.display.max_rows = 12\n",
    "np.set_printoptions(precision=4, suppress=True)\n",
    "import matplotlib.pyplot as plt\n",
    "plt.rc('figure', figsize=(12, 6))\n",
    "import pandas_datareader.data as web"
   ]
  },
  {
   "cell_type": "code",
   "execution_count": 2,
   "metadata": {
    "collapsed": true
   },
   "outputs": [],
   "source": [
    "%matplotlib inline"
   ]
  },
  {
   "cell_type": "code",
   "execution_count": 3,
   "metadata": {},
   "outputs": [
    {
     "data": {
      "text/plain": [
       "'C:\\\\Users\\\\moriya\\\\Documents\\\\Python Scripts\\\\Python for data analysis'"
      ]
     },
     "execution_count": 3,
     "metadata": {},
     "output_type": "execute_result"
    }
   ],
   "source": [
    "%pwd"
   ]
  },
  {
   "cell_type": "markdown",
   "metadata": {},
   "source": [
    "## Data munging topics"
   ]
  },
  {
   "cell_type": "markdown",
   "metadata": {},
   "source": [
    "### Time series and cross-section alignment"
   ]
  },
  {
   "cell_type": "code",
   "execution_count": 4,
   "metadata": {
    "collapsed": true
   },
   "outputs": [],
   "source": [
    "close_px = pd.read_csv('ch11/stock_px.csv', parse_dates=True, index_col=0)\n",
    "volume = pd.read_csv('ch11/volume.csv', parse_dates=True, index_col=0)\n",
    "prices = close_px.loc['2011-09-05':'2011-09-14', ['AAPL', 'JNJ', 'SPX', 'XOM']]\n",
    "volume = volume.loc['2011-09-05':'2011-09-12', ['AAPL', 'JNJ', 'XOM']]"
   ]
  },
  {
   "cell_type": "code",
   "execution_count": 138,
   "metadata": {},
   "outputs": [
    {
     "data": {
      "text/html": [
       "<div>\n",
       "<style>\n",
       "    .dataframe thead tr:only-child th {\n",
       "        text-align: right;\n",
       "    }\n",
       "\n",
       "    .dataframe thead th {\n",
       "        text-align: left;\n",
       "    }\n",
       "\n",
       "    .dataframe tbody tr th {\n",
       "        vertical-align: top;\n",
       "    }\n",
       "</style>\n",
       "<table border=\"1\" class=\"dataframe\">\n",
       "  <thead>\n",
       "    <tr style=\"text-align: right;\">\n",
       "      <th></th>\n",
       "      <th>AAPL</th>\n",
       "      <th>JNJ</th>\n",
       "      <th>SPX</th>\n",
       "      <th>XOM</th>\n",
       "    </tr>\n",
       "  </thead>\n",
       "  <tbody>\n",
       "    <tr>\n",
       "      <th>2011-09-06</th>\n",
       "      <td>379.74</td>\n",
       "      <td>64.64</td>\n",
       "      <td>1165.24</td>\n",
       "      <td>71.15</td>\n",
       "    </tr>\n",
       "    <tr>\n",
       "      <th>2011-09-07</th>\n",
       "      <td>383.93</td>\n",
       "      <td>65.43</td>\n",
       "      <td>1198.62</td>\n",
       "      <td>73.65</td>\n",
       "    </tr>\n",
       "    <tr>\n",
       "      <th>2011-09-08</th>\n",
       "      <td>384.14</td>\n",
       "      <td>64.95</td>\n",
       "      <td>1185.90</td>\n",
       "      <td>72.82</td>\n",
       "    </tr>\n",
       "    <tr>\n",
       "      <th>2011-09-09</th>\n",
       "      <td>377.48</td>\n",
       "      <td>63.64</td>\n",
       "      <td>1154.23</td>\n",
       "      <td>71.01</td>\n",
       "    </tr>\n",
       "    <tr>\n",
       "      <th>2011-09-12</th>\n",
       "      <td>379.94</td>\n",
       "      <td>63.59</td>\n",
       "      <td>1162.27</td>\n",
       "      <td>71.84</td>\n",
       "    </tr>\n",
       "    <tr>\n",
       "      <th>2011-09-13</th>\n",
       "      <td>384.62</td>\n",
       "      <td>63.61</td>\n",
       "      <td>1172.87</td>\n",
       "      <td>71.65</td>\n",
       "    </tr>\n",
       "    <tr>\n",
       "      <th>2011-09-14</th>\n",
       "      <td>389.30</td>\n",
       "      <td>63.73</td>\n",
       "      <td>1188.68</td>\n",
       "      <td>72.64</td>\n",
       "    </tr>\n",
       "  </tbody>\n",
       "</table>\n",
       "</div>"
      ],
      "text/plain": [
       "              AAPL    JNJ      SPX    XOM\n",
       "2011-09-06  379.74  64.64  1165.24  71.15\n",
       "2011-09-07  383.93  65.43  1198.62  73.65\n",
       "2011-09-08  384.14  64.95  1185.90  72.82\n",
       "2011-09-09  377.48  63.64  1154.23  71.01\n",
       "2011-09-12  379.94  63.59  1162.27  71.84\n",
       "2011-09-13  384.62  63.61  1172.87  71.65\n",
       "2011-09-14  389.30  63.73  1188.68  72.64"
      ]
     },
     "execution_count": 138,
     "metadata": {},
     "output_type": "execute_result"
    }
   ],
   "source": [
    "prices"
   ]
  },
  {
   "cell_type": "code",
   "execution_count": 139,
   "metadata": {},
   "outputs": [
    {
     "data": {
      "text/html": [
       "<div>\n",
       "<style>\n",
       "    .dataframe thead tr:only-child th {\n",
       "        text-align: right;\n",
       "    }\n",
       "\n",
       "    .dataframe thead th {\n",
       "        text-align: left;\n",
       "    }\n",
       "\n",
       "    .dataframe tbody tr th {\n",
       "        vertical-align: top;\n",
       "    }\n",
       "</style>\n",
       "<table border=\"1\" class=\"dataframe\">\n",
       "  <thead>\n",
       "    <tr style=\"text-align: right;\">\n",
       "      <th></th>\n",
       "      <th>AAPL</th>\n",
       "      <th>JNJ</th>\n",
       "      <th>XOM</th>\n",
       "    </tr>\n",
       "  </thead>\n",
       "  <tbody>\n",
       "    <tr>\n",
       "      <th>2011-09-06</th>\n",
       "      <td>18173500.0</td>\n",
       "      <td>15848300.0</td>\n",
       "      <td>25416300.0</td>\n",
       "    </tr>\n",
       "    <tr>\n",
       "      <th>2011-09-07</th>\n",
       "      <td>12492000.0</td>\n",
       "      <td>10759700.0</td>\n",
       "      <td>23108400.0</td>\n",
       "    </tr>\n",
       "    <tr>\n",
       "      <th>2011-09-08</th>\n",
       "      <td>14839800.0</td>\n",
       "      <td>15551500.0</td>\n",
       "      <td>22434800.0</td>\n",
       "    </tr>\n",
       "    <tr>\n",
       "      <th>2011-09-09</th>\n",
       "      <td>20171900.0</td>\n",
       "      <td>17008200.0</td>\n",
       "      <td>27969100.0</td>\n",
       "    </tr>\n",
       "    <tr>\n",
       "      <th>2011-09-12</th>\n",
       "      <td>16697300.0</td>\n",
       "      <td>13448200.0</td>\n",
       "      <td>26205800.0</td>\n",
       "    </tr>\n",
       "  </tbody>\n",
       "</table>\n",
       "</div>"
      ],
      "text/plain": [
       "                  AAPL         JNJ         XOM\n",
       "2011-09-06  18173500.0  15848300.0  25416300.0\n",
       "2011-09-07  12492000.0  10759700.0  23108400.0\n",
       "2011-09-08  14839800.0  15551500.0  22434800.0\n",
       "2011-09-09  20171900.0  17008200.0  27969100.0\n",
       "2011-09-12  16697300.0  13448200.0  26205800.0"
      ]
     },
     "execution_count": 139,
     "metadata": {},
     "output_type": "execute_result"
    }
   ],
   "source": [
    "volume"
   ]
  },
  {
   "cell_type": "code",
   "execution_count": 140,
   "metadata": {},
   "outputs": [
    {
     "data": {
      "text/html": [
       "<div>\n",
       "<style>\n",
       "    .dataframe thead tr:only-child th {\n",
       "        text-align: right;\n",
       "    }\n",
       "\n",
       "    .dataframe thead th {\n",
       "        text-align: left;\n",
       "    }\n",
       "\n",
       "    .dataframe tbody tr th {\n",
       "        vertical-align: top;\n",
       "    }\n",
       "</style>\n",
       "<table border=\"1\" class=\"dataframe\">\n",
       "  <thead>\n",
       "    <tr style=\"text-align: right;\">\n",
       "      <th></th>\n",
       "      <th>AAPL</th>\n",
       "      <th>JNJ</th>\n",
       "      <th>SPX</th>\n",
       "      <th>XOM</th>\n",
       "    </tr>\n",
       "  </thead>\n",
       "  <tbody>\n",
       "    <tr>\n",
       "      <th>2011-09-06</th>\n",
       "      <td>6.901205e+09</td>\n",
       "      <td>1.024434e+09</td>\n",
       "      <td>NaN</td>\n",
       "      <td>1.808370e+09</td>\n",
       "    </tr>\n",
       "    <tr>\n",
       "      <th>2011-09-07</th>\n",
       "      <td>4.796054e+09</td>\n",
       "      <td>7.040072e+08</td>\n",
       "      <td>NaN</td>\n",
       "      <td>1.701934e+09</td>\n",
       "    </tr>\n",
       "    <tr>\n",
       "      <th>2011-09-08</th>\n",
       "      <td>5.700561e+09</td>\n",
       "      <td>1.010070e+09</td>\n",
       "      <td>NaN</td>\n",
       "      <td>1.633702e+09</td>\n",
       "    </tr>\n",
       "    <tr>\n",
       "      <th>2011-09-09</th>\n",
       "      <td>7.614489e+09</td>\n",
       "      <td>1.082402e+09</td>\n",
       "      <td>NaN</td>\n",
       "      <td>1.986086e+09</td>\n",
       "    </tr>\n",
       "    <tr>\n",
       "      <th>2011-09-12</th>\n",
       "      <td>6.343972e+09</td>\n",
       "      <td>8.551710e+08</td>\n",
       "      <td>NaN</td>\n",
       "      <td>1.882625e+09</td>\n",
       "    </tr>\n",
       "    <tr>\n",
       "      <th>2011-09-13</th>\n",
       "      <td>NaN</td>\n",
       "      <td>NaN</td>\n",
       "      <td>NaN</td>\n",
       "      <td>NaN</td>\n",
       "    </tr>\n",
       "    <tr>\n",
       "      <th>2011-09-14</th>\n",
       "      <td>NaN</td>\n",
       "      <td>NaN</td>\n",
       "      <td>NaN</td>\n",
       "      <td>NaN</td>\n",
       "    </tr>\n",
       "  </tbody>\n",
       "</table>\n",
       "</div>"
      ],
      "text/plain": [
       "                    AAPL           JNJ  SPX           XOM\n",
       "2011-09-06  6.901205e+09  1.024434e+09  NaN  1.808370e+09\n",
       "2011-09-07  4.796054e+09  7.040072e+08  NaN  1.701934e+09\n",
       "2011-09-08  5.700561e+09  1.010070e+09  NaN  1.633702e+09\n",
       "2011-09-09  7.614489e+09  1.082402e+09  NaN  1.986086e+09\n",
       "2011-09-12  6.343972e+09  8.551710e+08  NaN  1.882625e+09\n",
       "2011-09-13           NaN           NaN  NaN           NaN\n",
       "2011-09-14           NaN           NaN  NaN           NaN"
      ]
     },
     "execution_count": 140,
     "metadata": {},
     "output_type": "execute_result"
    }
   ],
   "source": [
    "prices * volume"
   ]
  },
  {
   "cell_type": "markdown",
   "metadata": {},
   "source": [
    "VWAPとは、売買高加重平均価格のことで、当日の取引所で成立した価格を価格ごとの売買高（出来高）で加重平均したものをいいます。 VWAPは、平均的な約定価格として、リアルタイムの日中足チャートに表示されているところもあり、主に機関投資家が株の売買時の目標値として用いています。"
   ]
  },
  {
   "cell_type": "code",
   "execution_count": 141,
   "metadata": {
    "collapsed": true
   },
   "outputs": [],
   "source": [
    "vwap = (prices * volume).sum() / volume.sum()"
   ]
  },
  {
   "cell_type": "code",
   "execution_count": 142,
   "metadata": {},
   "outputs": [
    {
     "data": {
      "text/plain": [
       "AAPL    380.655181\n",
       "JNJ      64.394769\n",
       "SPX            NaN\n",
       "XOM      72.024288\n",
       "dtype: float64"
      ]
     },
     "execution_count": 142,
     "metadata": {},
     "output_type": "execute_result"
    }
   ],
   "source": [
    "vwap"
   ]
  },
  {
   "cell_type": "code",
   "execution_count": 143,
   "metadata": {},
   "outputs": [
    {
     "data": {
      "text/plain": [
       "AAPL    380.655181\n",
       "JNJ      64.394769\n",
       "XOM      72.024288\n",
       "dtype: float64"
      ]
     },
     "execution_count": 143,
     "metadata": {},
     "output_type": "execute_result"
    }
   ],
   "source": [
    "vwap.dropna()"
   ]
  },
  {
   "cell_type": "code",
   "execution_count": 144,
   "metadata": {},
   "outputs": [
    {
     "data": {
      "text/plain": [
       "(              AAPL    JNJ    XOM\n",
       " 2011-09-06  379.74  64.64  71.15\n",
       " 2011-09-07  383.93  65.43  73.65\n",
       " 2011-09-08  384.14  64.95  72.82\n",
       " 2011-09-09  377.48  63.64  71.01\n",
       " 2011-09-12  379.94  63.59  71.84,\n",
       "                   AAPL         JNJ         XOM\n",
       " 2011-09-06  18173500.0  15848300.0  25416300.0\n",
       " 2011-09-07  12492000.0  10759700.0  23108400.0\n",
       " 2011-09-08  14839800.0  15551500.0  22434800.0\n",
       " 2011-09-09  20171900.0  17008200.0  27969100.0\n",
       " 2011-09-12  16697300.0  13448200.0  26205800.0)"
      ]
     },
     "execution_count": 144,
     "metadata": {},
     "output_type": "execute_result"
    }
   ],
   "source": [
    "prices.align(volume, join='inner')"
   ]
  },
  {
   "cell_type": "code",
   "execution_count": 18,
   "metadata": {},
   "outputs": [
    {
     "data": {
      "text/html": [
       "<div>\n",
       "<style>\n",
       "    .dataframe thead tr:only-child th {\n",
       "        text-align: right;\n",
       "    }\n",
       "\n",
       "    .dataframe thead th {\n",
       "        text-align: left;\n",
       "    }\n",
       "\n",
       "    .dataframe tbody tr th {\n",
       "        vertical-align: top;\n",
       "    }\n",
       "</style>\n",
       "<table border=\"1\" class=\"dataframe\">\n",
       "  <thead>\n",
       "    <tr style=\"text-align: right;\">\n",
       "      <th></th>\n",
       "      <th>one</th>\n",
       "      <th>three</th>\n",
       "      <th>two</th>\n",
       "    </tr>\n",
       "  </thead>\n",
       "  <tbody>\n",
       "    <tr>\n",
       "      <th>a</th>\n",
       "      <td>0.0</td>\n",
       "      <td>1.0</td>\n",
       "      <td>NaN</td>\n",
       "    </tr>\n",
       "    <tr>\n",
       "      <th>b</th>\n",
       "      <td>1.0</td>\n",
       "      <td>NaN</td>\n",
       "      <td>1.0</td>\n",
       "    </tr>\n",
       "    <tr>\n",
       "      <th>c</th>\n",
       "      <td>2.0</td>\n",
       "      <td>2.0</td>\n",
       "      <td>2.0</td>\n",
       "    </tr>\n",
       "    <tr>\n",
       "      <th>d</th>\n",
       "      <td>NaN</td>\n",
       "      <td>NaN</td>\n",
       "      <td>0.0</td>\n",
       "    </tr>\n",
       "    <tr>\n",
       "      <th>e</th>\n",
       "      <td>NaN</td>\n",
       "      <td>NaN</td>\n",
       "      <td>3.0</td>\n",
       "    </tr>\n",
       "    <tr>\n",
       "      <th>f</th>\n",
       "      <td>NaN</td>\n",
       "      <td>0.0</td>\n",
       "      <td>NaN</td>\n",
       "    </tr>\n",
       "  </tbody>\n",
       "</table>\n",
       "</div>"
      ],
      "text/plain": [
       "   one  three  two\n",
       "a  0.0    1.0  NaN\n",
       "b  1.0    NaN  1.0\n",
       "c  2.0    2.0  2.0\n",
       "d  NaN    NaN  0.0\n",
       "e  NaN    NaN  3.0\n",
       "f  NaN    0.0  NaN"
      ]
     },
     "execution_count": 18,
     "metadata": {},
     "output_type": "execute_result"
    }
   ],
   "source": [
    "s1 = Series(range(3), index=['a', 'b', 'c'])\n",
    "s2 = Series(range(4), index=['d', 'b', 'c', 'e'])\n",
    "s3 = Series(range(3), index=['f', 'a', 'c'])\n",
    "DataFrame({'one': s1, 'two': s2, 'three': s3})"
   ]
  },
  {
   "cell_type": "code",
   "execution_count": 19,
   "metadata": {},
   "outputs": [
    {
     "data": {
      "text/html": [
       "<div>\n",
       "<style>\n",
       "    .dataframe thead tr:only-child th {\n",
       "        text-align: right;\n",
       "    }\n",
       "\n",
       "    .dataframe thead th {\n",
       "        text-align: left;\n",
       "    }\n",
       "\n",
       "    .dataframe tbody tr th {\n",
       "        vertical-align: top;\n",
       "    }\n",
       "</style>\n",
       "<table border=\"1\" class=\"dataframe\">\n",
       "  <thead>\n",
       "    <tr style=\"text-align: right;\">\n",
       "      <th></th>\n",
       "      <th>one</th>\n",
       "      <th>three</th>\n",
       "      <th>two</th>\n",
       "    </tr>\n",
       "  </thead>\n",
       "  <tbody>\n",
       "    <tr>\n",
       "      <th>f</th>\n",
       "      <td>NaN</td>\n",
       "      <td>0.0</td>\n",
       "      <td>NaN</td>\n",
       "    </tr>\n",
       "    <tr>\n",
       "      <th>a</th>\n",
       "      <td>0.0</td>\n",
       "      <td>1.0</td>\n",
       "      <td>NaN</td>\n",
       "    </tr>\n",
       "    <tr>\n",
       "      <th>c</th>\n",
       "      <td>2.0</td>\n",
       "      <td>2.0</td>\n",
       "      <td>2.0</td>\n",
       "    </tr>\n",
       "    <tr>\n",
       "      <th>e</th>\n",
       "      <td>NaN</td>\n",
       "      <td>NaN</td>\n",
       "      <td>3.0</td>\n",
       "    </tr>\n",
       "  </tbody>\n",
       "</table>\n",
       "</div>"
      ],
      "text/plain": [
       "   one  three  two\n",
       "f  NaN    0.0  NaN\n",
       "a  0.0    1.0  NaN\n",
       "c  2.0    2.0  2.0\n",
       "e  NaN    NaN  3.0"
      ]
     },
     "execution_count": 19,
     "metadata": {},
     "output_type": "execute_result"
    }
   ],
   "source": [
    "DataFrame({'one': s1, 'two': s2, 'three': s3}, index=list('face'))"
   ]
  },
  {
   "cell_type": "markdown",
   "metadata": {},
   "source": [
    "### Operations with time series of different frequencies"
   ]
  },
  {
   "cell_type": "code",
   "execution_count": 145,
   "metadata": {},
   "outputs": [
    {
     "data": {
      "text/plain": [
       "2012-06-13   -0.871903\n",
       "2012-06-20    0.519593\n",
       "2012-06-27   -0.413622\n",
       "Freq: W-WED, dtype: float64"
      ]
     },
     "execution_count": 145,
     "metadata": {},
     "output_type": "execute_result"
    }
   ],
   "source": [
    "ts1 = Series(np.random.randn(3),\n",
    "             index=pd.date_range('2012-6-13', periods=3, freq='W-WED'))\n",
    "ts1"
   ]
  },
  {
   "cell_type": "code",
   "execution_count": 147,
   "metadata": {},
   "outputs": [
    {
     "data": {
      "text/plain": [
       "2012-06-13   -0.871903\n",
       "2012-06-20    0.519593\n",
       "2012-06-27   -0.413622\n",
       "dtype: float64"
      ]
     },
     "execution_count": 147,
     "metadata": {},
     "output_type": "execute_result"
    }
   ],
   "source": [
    "ts1.resample('B').mean().dropna()\n"
   ]
  },
  {
   "cell_type": "code",
   "execution_count": 22,
   "metadata": {},
   "outputs": [
    {
     "name": "stderr",
     "output_type": "stream",
     "text": [
      "C:\\Users\\moriya\\Anaconda3\\lib\\site-packages\\ipykernel_launcher.py:1: FutureWarning: fill_method is deprecated to .resample()\n",
      "the new syntax is .resample(...).ffill()\n",
      "  \"\"\"Entry point for launching an IPython kernel.\n"
     ]
    },
    {
     "data": {
      "text/plain": [
       "2012-06-13    0.006811\n",
       "2012-06-14    0.006811\n",
       "2012-06-15    0.006811\n",
       "2012-06-18    0.006811\n",
       "2012-06-19    0.006811\n",
       "2012-06-20   -0.566421\n",
       "2012-06-21   -0.566421\n",
       "2012-06-22   -0.566421\n",
       "2012-06-25   -0.566421\n",
       "2012-06-26   -0.566421\n",
       "2012-06-27   -0.997091\n",
       "Freq: B, dtype: float64"
      ]
     },
     "execution_count": 22,
     "metadata": {},
     "output_type": "execute_result"
    }
   ],
   "source": [
    "ts1.resample('B', fill_method='ffill')"
   ]
  },
  {
   "cell_type": "code",
   "execution_count": 24,
   "metadata": {},
   "outputs": [
    {
     "data": {
      "text/plain": [
       "2012-06-13    0.006811\n",
       "2012-06-14    0.006811\n",
       "2012-06-15    0.006811\n",
       "2012-06-18    0.006811\n",
       "2012-06-19    0.006811\n",
       "2012-06-20   -0.566421\n",
       "2012-06-21   -0.566421\n",
       "2012-06-22   -0.566421\n",
       "2012-06-25   -0.566421\n",
       "2012-06-26   -0.566421\n",
       "2012-06-27   -0.997091\n",
       "Freq: B, dtype: float64"
      ]
     },
     "execution_count": 24,
     "metadata": {},
     "output_type": "execute_result"
    }
   ],
   "source": [
    "ts1.resample('B').ffill()"
   ]
  },
  {
   "cell_type": "code",
   "execution_count": 148,
   "metadata": {},
   "outputs": [
    {
     "data": {
      "text/plain": [
       "2012-06-12   -2.810509\n",
       "2012-06-17   -1.887290\n",
       "2012-06-18    1.538569\n",
       "2012-06-21    0.152026\n",
       "2012-06-22    0.483591\n",
       "2012-06-29   -1.143373\n",
       "dtype: float64"
      ]
     },
     "execution_count": 148,
     "metadata": {},
     "output_type": "execute_result"
    }
   ],
   "source": [
    "dates = pd.DatetimeIndex(['2012-6-12', '2012-6-17', '2012-6-18',\n",
    "                          '2012-6-21', '2012-6-22', '2012-6-29'])\n",
    "ts2 = Series(np.random.randn(6), index=dates)\n",
    "ts2"
   ]
  },
  {
   "cell_type": "code",
   "execution_count": 149,
   "metadata": {},
   "outputs": [
    {
     "data": {
      "text/plain": [
       "2012-06-12         NaN\n",
       "2012-06-17   -0.871903\n",
       "2012-06-18   -0.871903\n",
       "2012-06-21    0.519593\n",
       "2012-06-22    0.519593\n",
       "2012-06-29   -0.413622\n",
       "dtype: float64"
      ]
     },
     "execution_count": 149,
     "metadata": {},
     "output_type": "execute_result"
    }
   ],
   "source": [
    "ts1.reindex(ts2.index, method='ffill')"
   ]
  },
  {
   "cell_type": "code",
   "execution_count": 151,
   "metadata": {},
   "outputs": [
    {
     "data": {
      "text/plain": [
       "2012-06-12         NaN\n",
       "2012-06-17   -2.759194\n",
       "2012-06-18    0.666666\n",
       "2012-06-21    0.671619\n",
       "2012-06-22    1.003184\n",
       "2012-06-29   -1.556996\n",
       "dtype: float64"
      ]
     },
     "execution_count": 151,
     "metadata": {},
     "output_type": "execute_result"
    }
   ],
   "source": [
    "ts2 + ts1.reindex(ts2.index, method='ffill')"
   ]
  },
  {
   "cell_type": "markdown",
   "metadata": {},
   "source": [
    "#### Using periods instead of timestamps"
   ]
  },
  {
   "cell_type": "code",
   "execution_count": 152,
   "metadata": {},
   "outputs": [
    {
     "data": {
      "text/plain": [
       "1984Q2    1.78\n",
       "1984Q3    1.94\n",
       "1984Q4    2.08\n",
       "1985Q1    2.01\n",
       "1985Q2    2.15\n",
       "1985Q3    2.31\n",
       "1985Q4    2.46\n",
       "Freq: Q-SEP, dtype: float64"
      ]
     },
     "execution_count": 152,
     "metadata": {},
     "output_type": "execute_result"
    }
   ],
   "source": [
    "gdp = Series([1.78, 1.94, 2.08, 2.01, 2.15, 2.31, 2.46],\n",
    "             index=pd.period_range('1984Q2', periods=7, freq='Q-SEP'))\n",
    "infl = Series([0.025, 0.045, 0.037, 0.04],\n",
    "              index=pd.period_range('1982', periods=4, freq='A-DEC'))\n",
    "gdp"
   ]
  },
  {
   "cell_type": "code",
   "execution_count": 153,
   "metadata": {},
   "outputs": [
    {
     "data": {
      "text/plain": [
       "Int64Index([12], dtype='int64')"
      ]
     },
     "execution_count": 153,
     "metadata": {},
     "output_type": "execute_result"
    }
   ],
   "source": [
    "infl.index[0:1].month\n"
   ]
  },
  {
   "cell_type": "code",
   "execution_count": 156,
   "metadata": {},
   "outputs": [
    {
     "data": {
      "text/plain": [
       "1982    0.025\n",
       "1983    0.045\n",
       "1984    0.037\n",
       "1985    0.040\n",
       "Freq: A-DEC, dtype: float64"
      ]
     },
     "execution_count": 156,
     "metadata": {},
     "output_type": "execute_result"
    }
   ],
   "source": [
    "infl"
   ]
  },
  {
   "cell_type": "code",
   "execution_count": 157,
   "metadata": {
    "collapsed": true
   },
   "outputs": [],
   "source": [
    "infl_q = infl.asfreq('Q-SEP', how='end')"
   ]
  },
  {
   "cell_type": "code",
   "execution_count": 158,
   "metadata": {},
   "outputs": [
    {
     "data": {
      "text/plain": [
       "1983Q1    0.025\n",
       "1984Q1    0.045\n",
       "1985Q1    0.037\n",
       "1986Q1    0.040\n",
       "Freq: Q-SEP, dtype: float64"
      ]
     },
     "execution_count": 158,
     "metadata": {},
     "output_type": "execute_result"
    }
   ],
   "source": [
    "infl_q"
   ]
  },
  {
   "cell_type": "code",
   "execution_count": 159,
   "metadata": {},
   "outputs": [
    {
     "data": {
      "text/plain": [
       "1984Q2    0.045\n",
       "1984Q3    0.045\n",
       "1984Q4    0.045\n",
       "1985Q1    0.037\n",
       "1985Q2    0.037\n",
       "1985Q3    0.037\n",
       "1985Q4    0.037\n",
       "Freq: Q-SEP, dtype: float64"
      ]
     },
     "execution_count": 159,
     "metadata": {},
     "output_type": "execute_result"
    }
   ],
   "source": [
    "infl_q.reindex(gdp.index, method='ffill')"
   ]
  },
  {
   "cell_type": "markdown",
   "metadata": {},
   "source": [
    "### Time of day and \"as of\" data selection"
   ]
  },
  {
   "cell_type": "code",
   "execution_count": 33,
   "metadata": {},
   "outputs": [
    {
     "data": {
      "text/plain": [
       "2012-06-01 09:30:00       0.0\n",
       "2012-06-01 09:31:00       1.0\n",
       "2012-06-01 09:32:00       2.0\n",
       "2012-06-01 09:33:00       3.0\n",
       "2012-06-01 09:34:00       4.0\n",
       "2012-06-01 09:35:00       5.0\n",
       "                        ...  \n",
       "2012-06-06 15:54:00    1554.0\n",
       "2012-06-06 15:55:00    1555.0\n",
       "2012-06-06 15:56:00    1556.0\n",
       "2012-06-06 15:57:00    1557.0\n",
       "2012-06-06 15:58:00    1558.0\n",
       "2012-06-06 15:59:00    1559.0\n",
       "Length: 1560, dtype: float64"
      ]
     },
     "execution_count": 33,
     "metadata": {},
     "output_type": "execute_result"
    }
   ],
   "source": [
    "# Make an intraday date range and time series\n",
    "rng = pd.date_range('2012-06-01 09:30', '2012-06-01 15:59', freq='T')\n",
    "# Make a 5-day series of 9:30-15:59 values\n",
    "rng = rng.append([rng + pd.offsets.BDay(i) for i in range(1, 4)])\n",
    "ts = Series(np.arange(len(rng), dtype=float), index=rng)\n",
    "ts"
   ]
  },
  {
   "cell_type": "code",
   "execution_count": 34,
   "metadata": {},
   "outputs": [
    {
     "data": {
      "text/plain": [
       "2012-06-01 10:00:00      30.0\n",
       "2012-06-04 10:00:00     420.0\n",
       "2012-06-05 10:00:00     810.0\n",
       "2012-06-06 10:00:00    1200.0\n",
       "dtype: float64"
      ]
     },
     "execution_count": 34,
     "metadata": {},
     "output_type": "execute_result"
    }
   ],
   "source": [
    "from datetime import time\n",
    "ts[time(10, 0)]"
   ]
  },
  {
   "cell_type": "code",
   "execution_count": 35,
   "metadata": {},
   "outputs": [
    {
     "data": {
      "text/plain": [
       "2012-06-01 10:00:00      30.0\n",
       "2012-06-04 10:00:00     420.0\n",
       "2012-06-05 10:00:00     810.0\n",
       "2012-06-06 10:00:00    1200.0\n",
       "dtype: float64"
      ]
     },
     "execution_count": 35,
     "metadata": {},
     "output_type": "execute_result"
    }
   ],
   "source": [
    "ts.at_time(time(10, 0,0))"
   ]
  },
  {
   "cell_type": "code",
   "execution_count": 36,
   "metadata": {},
   "outputs": [
    {
     "data": {
      "text/plain": [
       "2012-06-01 10:00:00      30.0\n",
       "2012-06-01 10:01:00      31.0\n",
       "2012-06-04 10:00:00     420.0\n",
       "2012-06-04 10:01:00     421.0\n",
       "2012-06-05 10:00:00     810.0\n",
       "2012-06-05 10:01:00     811.0\n",
       "2012-06-06 10:00:00    1200.0\n",
       "2012-06-06 10:01:00    1201.0\n",
       "dtype: float64"
      ]
     },
     "execution_count": 36,
     "metadata": {},
     "output_type": "execute_result"
    }
   ],
   "source": [
    "ts.between_time(time(10, 0), time(10, 1))"
   ]
  },
  {
   "cell_type": "code",
   "execution_count": 37,
   "metadata": {
    "collapsed": true
   },
   "outputs": [],
   "source": [
    "np.random.seed(12346)"
   ]
  },
  {
   "cell_type": "code",
   "execution_count": 162,
   "metadata": {},
   "outputs": [
    {
     "data": {
      "text/plain": [
       "2012-06-01 09:50:00    20.0\n",
       "2012-06-01 09:51:00     NaN\n",
       "2012-06-01 09:52:00    22.0\n",
       "2012-06-01 09:53:00    23.0\n",
       "2012-06-01 09:54:00     NaN\n",
       "2012-06-01 09:55:00    25.0\n",
       "2012-06-01 09:56:00     NaN\n",
       "2012-06-01 09:57:00    27.0\n",
       "2012-06-01 09:58:00     NaN\n",
       "2012-06-01 09:59:00     NaN\n",
       "2012-06-01 10:00:00    30.0\n",
       "dtype: float64"
      ]
     },
     "execution_count": 162,
     "metadata": {},
     "output_type": "execute_result"
    }
   ],
   "source": [
    "# Set most of the time series randomly to NA\n",
    "indexer = np.sort(np.random.permutation(len(ts))[700:])\n",
    "irr_ts = ts.copy()\n",
    "irr_ts[indexer] = np.nan\n",
    "irr_ts['2012-06-01 09:50':'2012-06-01 10:00']"
   ]
  },
  {
   "cell_type": "code",
   "execution_count": 161,
   "metadata": {},
   "outputs": [
    {
     "data": {
      "text/plain": [
       "2012-06-01 10:00:00      30.0\n",
       "2012-06-04 10:00:00     415.0\n",
       "2012-06-05 10:00:00     809.0\n",
       "2012-06-06 10:00:00    1199.0\n",
       "Freq: B, dtype: float64"
      ]
     },
     "execution_count": 161,
     "metadata": {},
     "output_type": "execute_result"
    }
   ],
   "source": [
    "selection = pd.date_range('2012-06-01 10:00', periods=4, freq='B')\n",
    "irr_ts.asof(selection)"
   ]
  },
  {
   "cell_type": "markdown",
   "metadata": {},
   "source": [
    "### Splicing together data sources"
   ]
  },
  {
   "cell_type": "code",
   "execution_count": 163,
   "metadata": {},
   "outputs": [
    {
     "data": {
      "text/html": [
       "<div>\n",
       "<style>\n",
       "    .dataframe thead tr:only-child th {\n",
       "        text-align: right;\n",
       "    }\n",
       "\n",
       "    .dataframe thead th {\n",
       "        text-align: left;\n",
       "    }\n",
       "\n",
       "    .dataframe tbody tr th {\n",
       "        vertical-align: top;\n",
       "    }\n",
       "</style>\n",
       "<table border=\"1\" class=\"dataframe\">\n",
       "  <thead>\n",
       "    <tr style=\"text-align: right;\">\n",
       "      <th></th>\n",
       "      <th>a</th>\n",
       "      <th>b</th>\n",
       "      <th>c</th>\n",
       "    </tr>\n",
       "  </thead>\n",
       "  <tbody>\n",
       "    <tr>\n",
       "      <th>2012-06-12</th>\n",
       "      <td>1.0</td>\n",
       "      <td>1.0</td>\n",
       "      <td>1.0</td>\n",
       "    </tr>\n",
       "    <tr>\n",
       "      <th>2012-06-13</th>\n",
       "      <td>1.0</td>\n",
       "      <td>1.0</td>\n",
       "      <td>1.0</td>\n",
       "    </tr>\n",
       "    <tr>\n",
       "      <th>2012-06-14</th>\n",
       "      <td>1.0</td>\n",
       "      <td>1.0</td>\n",
       "      <td>1.0</td>\n",
       "    </tr>\n",
       "    <tr>\n",
       "      <th>2012-06-15</th>\n",
       "      <td>2.0</td>\n",
       "      <td>2.0</td>\n",
       "      <td>2.0</td>\n",
       "    </tr>\n",
       "    <tr>\n",
       "      <th>2012-06-16</th>\n",
       "      <td>2.0</td>\n",
       "      <td>2.0</td>\n",
       "      <td>2.0</td>\n",
       "    </tr>\n",
       "    <tr>\n",
       "      <th>2012-06-17</th>\n",
       "      <td>2.0</td>\n",
       "      <td>2.0</td>\n",
       "      <td>2.0</td>\n",
       "    </tr>\n",
       "    <tr>\n",
       "      <th>2012-06-18</th>\n",
       "      <td>2.0</td>\n",
       "      <td>2.0</td>\n",
       "      <td>2.0</td>\n",
       "    </tr>\n",
       "  </tbody>\n",
       "</table>\n",
       "</div>"
      ],
      "text/plain": [
       "              a    b    c\n",
       "2012-06-12  1.0  1.0  1.0\n",
       "2012-06-13  1.0  1.0  1.0\n",
       "2012-06-14  1.0  1.0  1.0\n",
       "2012-06-15  2.0  2.0  2.0\n",
       "2012-06-16  2.0  2.0  2.0\n",
       "2012-06-17  2.0  2.0  2.0\n",
       "2012-06-18  2.0  2.0  2.0"
      ]
     },
     "execution_count": 163,
     "metadata": {},
     "output_type": "execute_result"
    }
   ],
   "source": [
    "data1 = DataFrame(np.ones((6, 3), dtype=float),\n",
    "                  columns=['a', 'b', 'c'],\n",
    "                  index=pd.date_range('6/12/2012', periods=6))\n",
    "data2 = DataFrame(np.ones((6, 3), dtype=float) * 2,\n",
    "                  columns=['a', 'b', 'c'],\n",
    "                  index=pd.date_range('6/13/2012', periods=6))\n",
    "spliced = pd.concat([data1.loc[:'2012-06-14'], data2.loc['2012-06-15':]])\n",
    "spliced"
   ]
  },
  {
   "cell_type": "code",
   "execution_count": 165,
   "metadata": {},
   "outputs": [
    {
     "data": {
      "text/plain": [
       "array([[ 1.,  1.,  1.],\n",
       "       [ 1.,  1.,  1.],\n",
       "       [ 1.,  1.,  1.],\n",
       "       [ 1.,  1.,  1.],\n",
       "       [ 1.,  1.,  1.],\n",
       "       [ 1.,  1.,  1.]])"
      ]
     },
     "execution_count": 165,
     "metadata": {},
     "output_type": "execute_result"
    }
   ],
   "source": [
    "np.ones((6, 3))"
   ]
  },
  {
   "cell_type": "code",
   "execution_count": 167,
   "metadata": {},
   "outputs": [
    {
     "data": {
      "text/html": [
       "<div>\n",
       "<style>\n",
       "    .dataframe thead tr:only-child th {\n",
       "        text-align: right;\n",
       "    }\n",
       "\n",
       "    .dataframe thead th {\n",
       "        text-align: left;\n",
       "    }\n",
       "\n",
       "    .dataframe tbody tr th {\n",
       "        vertical-align: top;\n",
       "    }\n",
       "</style>\n",
       "<table border=\"1\" class=\"dataframe\">\n",
       "  <thead>\n",
       "    <tr style=\"text-align: right;\">\n",
       "      <th></th>\n",
       "      <th>a</th>\n",
       "      <th>b</th>\n",
       "      <th>c</th>\n",
       "      <th>d</th>\n",
       "    </tr>\n",
       "  </thead>\n",
       "  <tbody>\n",
       "    <tr>\n",
       "      <th>2012-06-12</th>\n",
       "      <td>1.0</td>\n",
       "      <td>1.0</td>\n",
       "      <td>1.0</td>\n",
       "      <td>NaN</td>\n",
       "    </tr>\n",
       "    <tr>\n",
       "      <th>2012-06-13</th>\n",
       "      <td>1.0</td>\n",
       "      <td>1.0</td>\n",
       "      <td>1.0</td>\n",
       "      <td>NaN</td>\n",
       "    </tr>\n",
       "    <tr>\n",
       "      <th>2012-06-14</th>\n",
       "      <td>1.0</td>\n",
       "      <td>1.0</td>\n",
       "      <td>1.0</td>\n",
       "      <td>NaN</td>\n",
       "    </tr>\n",
       "    <tr>\n",
       "      <th>2012-06-15</th>\n",
       "      <td>2.0</td>\n",
       "      <td>2.0</td>\n",
       "      <td>2.0</td>\n",
       "      <td>2.0</td>\n",
       "    </tr>\n",
       "    <tr>\n",
       "      <th>2012-06-16</th>\n",
       "      <td>2.0</td>\n",
       "      <td>2.0</td>\n",
       "      <td>2.0</td>\n",
       "      <td>2.0</td>\n",
       "    </tr>\n",
       "    <tr>\n",
       "      <th>2012-06-17</th>\n",
       "      <td>2.0</td>\n",
       "      <td>2.0</td>\n",
       "      <td>2.0</td>\n",
       "      <td>2.0</td>\n",
       "    </tr>\n",
       "    <tr>\n",
       "      <th>2012-06-18</th>\n",
       "      <td>2.0</td>\n",
       "      <td>2.0</td>\n",
       "      <td>2.0</td>\n",
       "      <td>2.0</td>\n",
       "    </tr>\n",
       "  </tbody>\n",
       "</table>\n",
       "</div>"
      ],
      "text/plain": [
       "              a    b    c    d\n",
       "2012-06-12  1.0  1.0  1.0  NaN\n",
       "2012-06-13  1.0  1.0  1.0  NaN\n",
       "2012-06-14  1.0  1.0  1.0  NaN\n",
       "2012-06-15  2.0  2.0  2.0  2.0\n",
       "2012-06-16  2.0  2.0  2.0  2.0\n",
       "2012-06-17  2.0  2.0  2.0  2.0\n",
       "2012-06-18  2.0  2.0  2.0  2.0"
      ]
     },
     "execution_count": 167,
     "metadata": {},
     "output_type": "execute_result"
    }
   ],
   "source": [
    "data2 = DataFrame(np.ones((6, 4), dtype=float) * 2,\n",
    "                  columns=['a', 'b', 'c', 'd'],\n",
    "                  index=pd.date_range('6/13/2012', periods=6))\n",
    "spliced = pd.concat([data1.loc[:'2012-06-14'], data2.loc['2012-06-15':]])\n",
    "spliced"
   ]
  },
  {
   "cell_type": "code",
   "execution_count": 44,
   "metadata": {},
   "outputs": [
    {
     "data": {
      "text/html": [
       "<div>\n",
       "<style>\n",
       "    .dataframe thead tr:only-child th {\n",
       "        text-align: right;\n",
       "    }\n",
       "\n",
       "    .dataframe thead th {\n",
       "        text-align: left;\n",
       "    }\n",
       "\n",
       "    .dataframe tbody tr th {\n",
       "        vertical-align: top;\n",
       "    }\n",
       "</style>\n",
       "<table border=\"1\" class=\"dataframe\">\n",
       "  <thead>\n",
       "    <tr style=\"text-align: right;\">\n",
       "      <th></th>\n",
       "      <th>a</th>\n",
       "      <th>b</th>\n",
       "      <th>c</th>\n",
       "      <th>d</th>\n",
       "    </tr>\n",
       "  </thead>\n",
       "  <tbody>\n",
       "    <tr>\n",
       "      <th>2012-06-12</th>\n",
       "      <td>1.0</td>\n",
       "      <td>1.0</td>\n",
       "      <td>1.0</td>\n",
       "      <td>NaN</td>\n",
       "    </tr>\n",
       "    <tr>\n",
       "      <th>2012-06-13</th>\n",
       "      <td>1.0</td>\n",
       "      <td>1.0</td>\n",
       "      <td>1.0</td>\n",
       "      <td>2.0</td>\n",
       "    </tr>\n",
       "    <tr>\n",
       "      <th>2012-06-14</th>\n",
       "      <td>1.0</td>\n",
       "      <td>1.0</td>\n",
       "      <td>1.0</td>\n",
       "      <td>2.0</td>\n",
       "    </tr>\n",
       "    <tr>\n",
       "      <th>2012-06-15</th>\n",
       "      <td>2.0</td>\n",
       "      <td>2.0</td>\n",
       "      <td>2.0</td>\n",
       "      <td>2.0</td>\n",
       "    </tr>\n",
       "    <tr>\n",
       "      <th>2012-06-16</th>\n",
       "      <td>2.0</td>\n",
       "      <td>2.0</td>\n",
       "      <td>2.0</td>\n",
       "      <td>2.0</td>\n",
       "    </tr>\n",
       "    <tr>\n",
       "      <th>2012-06-17</th>\n",
       "      <td>2.0</td>\n",
       "      <td>2.0</td>\n",
       "      <td>2.0</td>\n",
       "      <td>2.0</td>\n",
       "    </tr>\n",
       "    <tr>\n",
       "      <th>2012-06-18</th>\n",
       "      <td>2.0</td>\n",
       "      <td>2.0</td>\n",
       "      <td>2.0</td>\n",
       "      <td>2.0</td>\n",
       "    </tr>\n",
       "  </tbody>\n",
       "</table>\n",
       "</div>"
      ],
      "text/plain": [
       "              a    b    c    d\n",
       "2012-06-12  1.0  1.0  1.0  NaN\n",
       "2012-06-13  1.0  1.0  1.0  2.0\n",
       "2012-06-14  1.0  1.0  1.0  2.0\n",
       "2012-06-15  2.0  2.0  2.0  2.0\n",
       "2012-06-16  2.0  2.0  2.0  2.0\n",
       "2012-06-17  2.0  2.0  2.0  2.0\n",
       "2012-06-18  2.0  2.0  2.0  2.0"
      ]
     },
     "execution_count": 44,
     "metadata": {},
     "output_type": "execute_result"
    }
   ],
   "source": [
    "spliced_filled = spliced.combine_first(data2)\n",
    "spliced_filled"
   ]
  },
  {
   "cell_type": "code",
   "execution_count": 45,
   "metadata": {
    "collapsed": true
   },
   "outputs": [],
   "source": [
    "spliced.update(data2, overwrite=False)"
   ]
  },
  {
   "cell_type": "code",
   "execution_count": 46,
   "metadata": {},
   "outputs": [
    {
     "data": {
      "text/html": [
       "<div>\n",
       "<style>\n",
       "    .dataframe thead tr:only-child th {\n",
       "        text-align: right;\n",
       "    }\n",
       "\n",
       "    .dataframe thead th {\n",
       "        text-align: left;\n",
       "    }\n",
       "\n",
       "    .dataframe tbody tr th {\n",
       "        vertical-align: top;\n",
       "    }\n",
       "</style>\n",
       "<table border=\"1\" class=\"dataframe\">\n",
       "  <thead>\n",
       "    <tr style=\"text-align: right;\">\n",
       "      <th></th>\n",
       "      <th>a</th>\n",
       "      <th>b</th>\n",
       "      <th>c</th>\n",
       "      <th>d</th>\n",
       "    </tr>\n",
       "  </thead>\n",
       "  <tbody>\n",
       "    <tr>\n",
       "      <th>2012-06-12</th>\n",
       "      <td>1.0</td>\n",
       "      <td>1.0</td>\n",
       "      <td>1.0</td>\n",
       "      <td>NaN</td>\n",
       "    </tr>\n",
       "    <tr>\n",
       "      <th>2012-06-13</th>\n",
       "      <td>1.0</td>\n",
       "      <td>1.0</td>\n",
       "      <td>1.0</td>\n",
       "      <td>2.0</td>\n",
       "    </tr>\n",
       "    <tr>\n",
       "      <th>2012-06-14</th>\n",
       "      <td>1.0</td>\n",
       "      <td>1.0</td>\n",
       "      <td>1.0</td>\n",
       "      <td>2.0</td>\n",
       "    </tr>\n",
       "    <tr>\n",
       "      <th>2012-06-15</th>\n",
       "      <td>2.0</td>\n",
       "      <td>2.0</td>\n",
       "      <td>2.0</td>\n",
       "      <td>2.0</td>\n",
       "    </tr>\n",
       "    <tr>\n",
       "      <th>2012-06-16</th>\n",
       "      <td>2.0</td>\n",
       "      <td>2.0</td>\n",
       "      <td>2.0</td>\n",
       "      <td>2.0</td>\n",
       "    </tr>\n",
       "    <tr>\n",
       "      <th>2012-06-17</th>\n",
       "      <td>2.0</td>\n",
       "      <td>2.0</td>\n",
       "      <td>2.0</td>\n",
       "      <td>2.0</td>\n",
       "    </tr>\n",
       "    <tr>\n",
       "      <th>2012-06-18</th>\n",
       "      <td>2.0</td>\n",
       "      <td>2.0</td>\n",
       "      <td>2.0</td>\n",
       "      <td>2.0</td>\n",
       "    </tr>\n",
       "  </tbody>\n",
       "</table>\n",
       "</div>"
      ],
      "text/plain": [
       "              a    b    c    d\n",
       "2012-06-12  1.0  1.0  1.0  NaN\n",
       "2012-06-13  1.0  1.0  1.0  2.0\n",
       "2012-06-14  1.0  1.0  1.0  2.0\n",
       "2012-06-15  2.0  2.0  2.0  2.0\n",
       "2012-06-16  2.0  2.0  2.0  2.0\n",
       "2012-06-17  2.0  2.0  2.0  2.0\n",
       "2012-06-18  2.0  2.0  2.0  2.0"
      ]
     },
     "execution_count": 46,
     "metadata": {},
     "output_type": "execute_result"
    }
   ],
   "source": [
    "spliced"
   ]
  },
  {
   "cell_type": "code",
   "execution_count": 47,
   "metadata": {},
   "outputs": [
    {
     "data": {
      "text/html": [
       "<div>\n",
       "<style>\n",
       "    .dataframe thead tr:only-child th {\n",
       "        text-align: right;\n",
       "    }\n",
       "\n",
       "    .dataframe thead th {\n",
       "        text-align: left;\n",
       "    }\n",
       "\n",
       "    .dataframe tbody tr th {\n",
       "        vertical-align: top;\n",
       "    }\n",
       "</style>\n",
       "<table border=\"1\" class=\"dataframe\">\n",
       "  <thead>\n",
       "    <tr style=\"text-align: right;\">\n",
       "      <th></th>\n",
       "      <th>a</th>\n",
       "      <th>b</th>\n",
       "      <th>c</th>\n",
       "      <th>d</th>\n",
       "    </tr>\n",
       "  </thead>\n",
       "  <tbody>\n",
       "    <tr>\n",
       "      <th>2012-06-12</th>\n",
       "      <td>1.0</td>\n",
       "      <td>1.0</td>\n",
       "      <td>1.0</td>\n",
       "      <td>NaN</td>\n",
       "    </tr>\n",
       "    <tr>\n",
       "      <th>2012-06-13</th>\n",
       "      <td>1.0</td>\n",
       "      <td>1.0</td>\n",
       "      <td>1.0</td>\n",
       "      <td>2.0</td>\n",
       "    </tr>\n",
       "    <tr>\n",
       "      <th>2012-06-14</th>\n",
       "      <td>1.0</td>\n",
       "      <td>1.0</td>\n",
       "      <td>1.0</td>\n",
       "      <td>2.0</td>\n",
       "    </tr>\n",
       "    <tr>\n",
       "      <th>2012-06-15</th>\n",
       "      <td>1.0</td>\n",
       "      <td>2.0</td>\n",
       "      <td>1.0</td>\n",
       "      <td>2.0</td>\n",
       "    </tr>\n",
       "    <tr>\n",
       "      <th>2012-06-16</th>\n",
       "      <td>1.0</td>\n",
       "      <td>2.0</td>\n",
       "      <td>1.0</td>\n",
       "      <td>2.0</td>\n",
       "    </tr>\n",
       "    <tr>\n",
       "      <th>2012-06-17</th>\n",
       "      <td>1.0</td>\n",
       "      <td>2.0</td>\n",
       "      <td>1.0</td>\n",
       "      <td>2.0</td>\n",
       "    </tr>\n",
       "    <tr>\n",
       "      <th>2012-06-18</th>\n",
       "      <td>NaN</td>\n",
       "      <td>2.0</td>\n",
       "      <td>NaN</td>\n",
       "      <td>2.0</td>\n",
       "    </tr>\n",
       "  </tbody>\n",
       "</table>\n",
       "</div>"
      ],
      "text/plain": [
       "              a    b    c    d\n",
       "2012-06-12  1.0  1.0  1.0  NaN\n",
       "2012-06-13  1.0  1.0  1.0  2.0\n",
       "2012-06-14  1.0  1.0  1.0  2.0\n",
       "2012-06-15  1.0  2.0  1.0  2.0\n",
       "2012-06-16  1.0  2.0  1.0  2.0\n",
       "2012-06-17  1.0  2.0  1.0  2.0\n",
       "2012-06-18  NaN  2.0  NaN  2.0"
      ]
     },
     "execution_count": 47,
     "metadata": {},
     "output_type": "execute_result"
    }
   ],
   "source": [
    "cp_spliced = spliced.copy()\n",
    "cp_spliced[['a', 'c']] = data1[['a', 'c']]\n",
    "cp_spliced"
   ]
  },
  {
   "cell_type": "markdown",
   "metadata": {},
   "source": [
    "### Return indexes and cumulative returns\n",
    "\n",
    "pip install pandas-datareader"
   ]
  },
  {
   "cell_type": "code",
   "execution_count": 111,
   "metadata": {},
   "outputs": [
    {
     "ename": "ImportError",
     "evalue": "The pandas.io.data module is moved to a separate package (pandas-datareader). After installing the pandas-datareader package (https://github.com/pydata/pandas-datareader), you can change the import ``from pandas.io import data, wb`` to ``from pandas_datareader import data, wb``.",
     "output_type": "error",
     "traceback": [
      "\u001b[1;31m---------------------------------------------------------------------------\u001b[0m",
      "\u001b[1;31mImportError\u001b[0m                               Traceback (most recent call last)",
      "\u001b[1;32m<ipython-input-111-ff155d323e9e>\u001b[0m in \u001b[0;36m<module>\u001b[1;34m()\u001b[0m\n\u001b[1;32m----> 1\u001b[1;33m \u001b[1;32mimport\u001b[0m \u001b[0mpandas\u001b[0m\u001b[1;33m.\u001b[0m\u001b[0mio\u001b[0m\u001b[1;33m.\u001b[0m\u001b[0mdata\u001b[0m \u001b[1;32mas\u001b[0m \u001b[0mweb\u001b[0m\u001b[1;33m\u001b[0m\u001b[0m\n\u001b[0m\u001b[0;32m      2\u001b[0m \u001b[0mprice\u001b[0m \u001b[1;33m=\u001b[0m \u001b[0mweb\u001b[0m\u001b[1;33m.\u001b[0m\u001b[0mget_data_yahoo\u001b[0m\u001b[1;33m(\u001b[0m\u001b[1;34m'AAPL'\u001b[0m\u001b[1;33m,\u001b[0m \u001b[1;34m'2011-01-01'\u001b[0m\u001b[1;33m)\u001b[0m\u001b[1;33m[\u001b[0m\u001b[1;34m'Adj Close'\u001b[0m\u001b[1;33m]\u001b[0m\u001b[1;33m\u001b[0m\u001b[0m\n\u001b[0;32m      3\u001b[0m \u001b[0mprice\u001b[0m\u001b[1;33m[\u001b[0m\u001b[1;33m-\u001b[0m\u001b[1;36m5\u001b[0m\u001b[1;33m:\u001b[0m\u001b[1;33m]\u001b[0m\u001b[1;33m\u001b[0m\u001b[0m\n",
      "\u001b[1;32m~\\Anaconda3\\lib\\site-packages\\pandas\\io\\data.py\u001b[0m in \u001b[0;36m<module>\u001b[1;34m()\u001b[0m\n\u001b[0;32m      1\u001b[0m raise ImportError(\n\u001b[1;32m----> 2\u001b[1;33m     \u001b[1;34m\"The pandas.io.data module is moved to a separate package \"\u001b[0m\u001b[1;33m\u001b[0m\u001b[0m\n\u001b[0m\u001b[0;32m      3\u001b[0m     \u001b[1;34m\"(pandas-datareader). After installing the pandas-datareader package \"\u001b[0m\u001b[1;33m\u001b[0m\u001b[0m\n\u001b[0;32m      4\u001b[0m     \u001b[1;34m\"(https://github.com/pydata/pandas-datareader), you can change \"\u001b[0m\u001b[1;33m\u001b[0m\u001b[0m\n\u001b[0;32m      5\u001b[0m     \u001b[1;34m\"the import ``from pandas.io import data, wb`` to \"\u001b[0m\u001b[1;33m\u001b[0m\u001b[0m\n",
      "\u001b[1;31mImportError\u001b[0m: The pandas.io.data module is moved to a separate package (pandas-datareader). After installing the pandas-datareader package (https://github.com/pydata/pandas-datareader), you can change the import ``from pandas.io import data, wb`` to ``from pandas_datareader import data, wb``."
     ]
    }
   ],
   "source": [
    "import pandas.io.data as web\n",
    "price = web.get_data_yahoo('AAPL', '2011-01-01')['Adj Close']\n",
    "price[-5:]"
   ]
  },
  {
   "cell_type": "code",
   "execution_count": 112,
   "metadata": {},
   "outputs": [
    {
     "data": {
      "text/plain": [
       "Date\n",
       "2017-09-26    153.139999\n",
       "2017-09-27    154.229996\n",
       "2017-09-28    153.279999\n",
       "2017-09-29    154.119995\n",
       "2017-10-02    153.809998\n",
       "Name: Adj Close, dtype: float64"
      ]
     },
     "execution_count": 112,
     "metadata": {},
     "output_type": "execute_result"
    }
   ],
   "source": [
    "import pandas_datareader.data as web\n",
    "price = web.get_data_yahoo('AAPL', '2011-01-01')['Adj Close']\n",
    "price[-5:]"
   ]
  },
  {
   "cell_type": "code",
   "execution_count": 50,
   "metadata": {},
   "outputs": [
    {
     "data": {
      "text/plain": [
       "0.072399855099073873"
      ]
     },
     "execution_count": 50,
     "metadata": {},
     "output_type": "execute_result"
    }
   ],
   "source": [
    "price['2011-10-03'] / price['2011-3-01'] - 1"
   ]
  },
  {
   "cell_type": "code",
   "execution_count": 51,
   "metadata": {},
   "outputs": [
    {
     "data": {
      "text/plain": [
       "Date\n",
       "2010-12-31    1.000000\n",
       "2011-01-03    1.021732\n",
       "2011-01-04    1.027065\n",
       "2011-01-05    1.035466\n",
       "2011-01-06    1.034629\n",
       "2011-01-07    1.042039\n",
       "                ...   \n",
       "2017-09-25    3.631548\n",
       "2017-09-26    3.694023\n",
       "2017-09-27    3.720316\n",
       "2017-09-28    3.697400\n",
       "2017-09-29    3.717663\n",
       "2017-10-02    3.710185\n",
       "Name: Adj Close, Length: 1700, dtype: float64"
      ]
     },
     "execution_count": 51,
     "metadata": {},
     "output_type": "execute_result"
    }
   ],
   "source": [
    "returns = price.pct_change()\n",
    "ret_index = (1 + returns).cumprod()\n",
    "ret_index[0] = 1  # Set first value to 1\n",
    "ret_index"
   ]
  },
  {
   "cell_type": "code",
   "execution_count": 52,
   "metadata": {},
   "outputs": [
    {
     "data": {
      "text/plain": [
       "Date\n",
       "2012-01-31    0.127111\n",
       "2012-02-29    0.188311\n",
       "2012-03-30    0.105284\n",
       "2012-04-30   -0.025970\n",
       "2012-05-31   -0.010702\n",
       "2012-06-29    0.010853\n",
       "2012-07-31    0.045822\n",
       "2012-08-31    0.093877\n",
       "2012-09-28    0.002796\n",
       "2012-10-31   -0.107600\n",
       "2012-11-30   -0.012375\n",
       "2012-12-31   -0.090743\n",
       "Freq: BM, Name: Adj Close, dtype: float64"
      ]
     },
     "execution_count": 52,
     "metadata": {},
     "output_type": "execute_result"
    }
   ],
   "source": [
    "m_returns = ret_index.resample('BM').last().pct_change()\n",
    "m_returns['2012']"
   ]
  },
  {
   "cell_type": "code",
   "execution_count": 51,
   "metadata": {},
   "outputs": [
    {
     "name": "stderr",
     "output_type": "stream",
     "text": [
      "C:\\Users\\moriya\\Anaconda3\\lib\\site-packages\\ipykernel\\__main__.py:1: FutureWarning: how in .resample() is deprecated\n",
      "the new syntax is .resample(...).prod()\n",
      "  if __name__ == '__main__':\n"
     ]
    },
    {
     "data": {
      "text/plain": [
       "Date\n",
       "2012-01    0.127111\n",
       "2012-02    0.188311\n",
       "2012-03    0.105284\n",
       "2012-04   -0.025970\n",
       "2012-05   -0.010702\n",
       "2012-06    0.010853\n",
       "2012-07    0.045822\n",
       "2012-08    0.093877\n",
       "2012-09    0.002796\n",
       "2012-10   -0.107600\n",
       "2012-11   -0.012375\n",
       "2012-12   -0.090743\n",
       "Freq: M, Name: Adj Close, dtype: float64"
      ]
     },
     "execution_count": 51,
     "metadata": {},
     "output_type": "execute_result"
    }
   ],
   "source": [
    "m_rets = (1 + returns).resample('M', how='prod', kind='period') - 1\n",
    "m_rets['2012']"
   ]
  },
  {
   "cell_type": "code",
   "execution_count": 57,
   "metadata": {},
   "outputs": [
    {
     "data": {
      "text/plain": [
       "Date\n",
       "2012-01    0.127111\n",
       "2012-02    0.188311\n",
       "2012-03    0.105284\n",
       "2012-04   -0.025970\n",
       "2012-05   -0.010702\n",
       "2012-06    0.010853\n",
       "2012-07    0.045822\n",
       "2012-08    0.093877\n",
       "2012-09    0.002796\n",
       "2012-10   -0.107600\n",
       "2012-11   -0.012375\n",
       "2012-12   -0.090743\n",
       "Freq: M, Name: Adj Close, dtype: float64"
      ]
     },
     "execution_count": 57,
     "metadata": {},
     "output_type": "execute_result"
    }
   ],
   "source": [
    "m_rets = (1 + returns).resample('M',kind='period').prod()-1\n",
    "m_rets['2012']"
   ]
  },
  {
   "cell_type": "raw",
   "metadata": {},
   "source": [
    "returns[dividend_dates] += dividend_pcts"
   ]
  },
  {
   "cell_type": "markdown",
   "metadata": {},
   "source": [
    "## Group transforms and analysis"
   ]
  },
  {
   "cell_type": "code",
   "execution_count": 22,
   "metadata": {
    "collapsed": true
   },
   "outputs": [],
   "source": [
    "pd.options.display.max_rows = 100\n",
    "pd.options.display.max_columns = 10\n",
    "np.random.seed(12345)"
   ]
  },
  {
   "cell_type": "markdown",
   "metadata": {},
   "source": [
    "ランダムにティッカーを作る"
   ]
  },
  {
   "cell_type": "code",
   "execution_count": 6,
   "metadata": {
    "collapsed": true
   },
   "outputs": [],
   "source": [
    "import random; random.seed(0)\n",
    "import string\n",
    "\n",
    "N = 1000\n",
    "def rands(n):\n",
    "    choices = string.ascii_uppercase\n",
    "    return ''.join([random.choice(choices) for _ in range(n)])\n",
    "tickers = np.array([rands(5) for _ in range(N)])"
   ]
  },
  {
   "cell_type": "markdown",
   "metadata": {},
   "source": [
    "ランダムに選ばれたティッカーにMomentum,Value,ShortInterestという要素を与えている。なぜ200で割るかはわからない。\n",
    "- np.random.randn:\n",
    "Return a sample (or samples) from the “standard normal” distribution."
   ]
  },
  {
   "cell_type": "code",
   "execution_count": 7,
   "metadata": {
    "collapsed": true
   },
   "outputs": [],
   "source": [
    "M = 500\n",
    "df = DataFrame({'Momentum' : np.random.randn(M) / 200 + 0.03,\n",
    "                'Value' : np.random.randn(M) / 200 + 0.08,\n",
    "                'ShortInterest' : np.random.randn(M) / 200 - 0.02},\n",
    "                index=tickers[:M])"
   ]
  },
  {
   "cell_type": "markdown",
   "metadata": {},
   "source": [
    "FINANCIAL,TECHという産業をつくり、それをランダムにティッカ―に割り当て、それをindustriesというSeriesにする。"
   ]
  },
  {
   "cell_type": "code",
   "execution_count": 8,
   "metadata": {},
   "outputs": [
    {
     "name": "stdout",
     "output_type": "stream",
     "text": [
      "MYNBI    FINANCIAL\n",
      "QPMZJ    FINANCIAL\n",
      "PLSGQ    FINANCIAL\n",
      "EJEYD    FINANCIAL\n",
      "TZIRW         TECH\n",
      "ZTEJD         TECH\n",
      "XCVKP         TECH\n",
      "RDLNK         TECH\n",
      "TUGRP    FINANCIAL\n",
      "OQIBZ    FINANCIAL\n",
      "RACXM    FINANCIAL\n",
      "WZVUA    FINANCIAL\n",
      "TPKHX         TECH\n",
      "KWCGS         TECH\n",
      "HHZEZ    FINANCIAL\n",
      "ROCCK    FINANCIAL\n",
      "QPDJR         TECH\n",
      "JWDRK         TECH\n",
      "RGZTR    FINANCIAL\n",
      "SJOCT         TECH\n",
      "ZMKSH    FINANCIAL\n",
      "JFGFB         TECH\n",
      "TVIPC         TECH\n",
      "CVYEE         TECH\n",
      "BCWRV    FINANCIAL\n",
      "MWQIQ         TECH\n",
      "ZHGVS         TECH\n",
      "NSIOP    FINANCIAL\n",
      "VUWZL         TECH\n",
      "CKTDP    FINANCIAL\n",
      "SUKGH         TECH\n",
      "AXIDW         TECH\n",
      "HLZFK         TECH\n",
      "NBDZE    FINANCIAL\n",
      "WHBSU    FINANCIAL\n",
      "RTVCA         TECH\n",
      "DUGTS    FINANCIAL\n",
      "DMCLD    FINANCIAL\n",
      "BTAGF    FINANCIAL\n",
      "WDPGX    FINANCIAL\n",
      "ZBVAR    FINANCIAL\n",
      "NTDIC    FINANCIAL\n",
      "HCUJL         TECH\n",
      "NFBQO    FINANCIAL\n",
      "BTDWM         TECH\n",
      "GILXP    FINANCIAL\n",
      "SFWVG         TECH\n",
      "YBZVF    FINANCIAL\n",
      "FKQID    FINANCIAL\n",
      "TOVFA         TECH\n",
      "           ...    \n",
      "XUZXX    FINANCIAL\n",
      "UMYTA    FINANCIAL\n",
      "VGTXP    FINANCIAL\n",
      "NYMFE         TECH\n",
      "VNMOX         TECH\n",
      "XUXGI    FINANCIAL\n",
      "CWFSA         TECH\n",
      "JXFDE    FINANCIAL\n",
      "IFMIQ    FINANCIAL\n",
      "UNKRX    FINANCIAL\n",
      "NPODI         TECH\n",
      "TKIIX    FINANCIAL\n",
      "JMTQA    FINANCIAL\n",
      "PUQQG         TECH\n",
      "NIXUY         TECH\n",
      "NXBAN    FINANCIAL\n",
      "RCZIW    FINANCIAL\n",
      "ZAAPV         TECH\n",
      "ZMRLR    FINANCIAL\n",
      "PQORX    FINANCIAL\n",
      "XWPSF         TECH\n",
      "ZSYAT         TECH\n",
      "LGJNC         TECH\n",
      "HDFZT    FINANCIAL\n",
      "OUEPK         TECH\n",
      "OWEPZ         TECH\n",
      "IPKWQ    FINANCIAL\n",
      "XZHYB         TECH\n",
      "LQIMR         TECH\n",
      "UTDJE         TECH\n",
      "QEECK         TECH\n",
      "GBAPP    FINANCIAL\n",
      "CSQBE         TECH\n",
      "UOSES         TECH\n",
      "ICJLE    FINANCIAL\n",
      "OLBKD    FINANCIAL\n",
      "DTVDJ    FINANCIAL\n",
      "VJSLF    FINANCIAL\n",
      "YAVYP         TECH\n",
      "MMUGC    FINANCIAL\n",
      "NIPNV    FINANCIAL\n",
      "PMENZ    FINANCIAL\n",
      "GYNUY    FINANCIAL\n",
      "GICZE         TECH\n",
      "OKLJZ         TECH\n",
      "ZOKHF    FINANCIAL\n",
      "OEWKZ         TECH\n",
      "HPEDR         TECH\n",
      "STOXK    FINANCIAL\n",
      "FCVKF         TECH\n",
      "Name: industry, Length: 1000, dtype: object\n"
     ]
    }
   ],
   "source": [
    "ind_names = np.array(['FINANCIAL', 'TECH'])\n",
    "sampler = np.random.randint(0, len(ind_names), N)\n",
    "industries = Series(ind_names[sampler], index=tickers,\n",
    "                    name='industry')\n",
    "print(industries)"
   ]
  },
  {
   "cell_type": "code",
   "execution_count": 9,
   "metadata": {},
   "outputs": [
    {
     "data": {
      "text/html": [
       "<div>\n",
       "<style>\n",
       "    .dataframe thead tr:only-child th {\n",
       "        text-align: right;\n",
       "    }\n",
       "\n",
       "    .dataframe thead th {\n",
       "        text-align: left;\n",
       "    }\n",
       "\n",
       "    .dataframe tbody tr th {\n",
       "        vertical-align: top;\n",
       "    }\n",
       "</style>\n",
       "<table border=\"1\" class=\"dataframe\">\n",
       "  <thead>\n",
       "    <tr style=\"text-align: right;\">\n",
       "      <th></th>\n",
       "      <th>Momentum</th>\n",
       "      <th>ShortInterest</th>\n",
       "      <th>Value</th>\n",
       "    </tr>\n",
       "    <tr>\n",
       "      <th>industry</th>\n",
       "      <th></th>\n",
       "      <th></th>\n",
       "      <th></th>\n",
       "    </tr>\n",
       "  </thead>\n",
       "  <tbody>\n",
       "    <tr>\n",
       "      <th>FINANCIAL</th>\n",
       "      <td>0.029485</td>\n",
       "      <td>-0.020739</td>\n",
       "      <td>0.079929</td>\n",
       "    </tr>\n",
       "    <tr>\n",
       "      <th>TECH</th>\n",
       "      <td>0.030407</td>\n",
       "      <td>-0.019609</td>\n",
       "      <td>0.080113</td>\n",
       "    </tr>\n",
       "  </tbody>\n",
       "</table>\n",
       "</div>"
      ],
      "text/plain": [
       "           Momentum  ShortInterest     Value\n",
       "industry                                    \n",
       "FINANCIAL  0.029485      -0.020739  0.079929\n",
       "TECH       0.030407      -0.019609  0.080113"
      ]
     },
     "execution_count": 9,
     "metadata": {},
     "output_type": "execute_result"
    }
   ],
   "source": [
    "by_industry = df.groupby(industries)\n",
    "by_industry.mean()"
   ]
  },
  {
   "cell_type": "code",
   "execution_count": 10,
   "metadata": {},
   "outputs": [
    {
     "data": {
      "text/html": [
       "<div>\n",
       "<style>\n",
       "    .dataframe thead tr:only-child th {\n",
       "        text-align: right;\n",
       "    }\n",
       "\n",
       "    .dataframe thead th {\n",
       "        text-align: left;\n",
       "    }\n",
       "\n",
       "    .dataframe tbody tr th {\n",
       "        vertical-align: top;\n",
       "    }\n",
       "</style>\n",
       "<table border=\"1\" class=\"dataframe\">\n",
       "  <thead>\n",
       "    <tr>\n",
       "      <th></th>\n",
       "      <th colspan=\"5\" halign=\"left\">Momentum</th>\n",
       "      <th>...</th>\n",
       "      <th colspan=\"5\" halign=\"left\">Value</th>\n",
       "    </tr>\n",
       "    <tr>\n",
       "      <th></th>\n",
       "      <th>count</th>\n",
       "      <th>mean</th>\n",
       "      <th>std</th>\n",
       "      <th>min</th>\n",
       "      <th>25%</th>\n",
       "      <th>...</th>\n",
       "      <th>min</th>\n",
       "      <th>25%</th>\n",
       "      <th>50%</th>\n",
       "      <th>75%</th>\n",
       "      <th>max</th>\n",
       "    </tr>\n",
       "    <tr>\n",
       "      <th>industry</th>\n",
       "      <th></th>\n",
       "      <th></th>\n",
       "      <th></th>\n",
       "      <th></th>\n",
       "      <th></th>\n",
       "      <th></th>\n",
       "      <th></th>\n",
       "      <th></th>\n",
       "      <th></th>\n",
       "      <th></th>\n",
       "      <th></th>\n",
       "    </tr>\n",
       "  </thead>\n",
       "  <tbody>\n",
       "    <tr>\n",
       "      <th>FINANCIAL</th>\n",
       "      <td>246.0</td>\n",
       "      <td>0.029485</td>\n",
       "      <td>0.004802</td>\n",
       "      <td>0.017210</td>\n",
       "      <td>0.026263</td>\n",
       "      <td>...</td>\n",
       "      <td>0.067025</td>\n",
       "      <td>0.076638</td>\n",
       "      <td>0.079804</td>\n",
       "      <td>0.082718</td>\n",
       "      <td>0.093334</td>\n",
       "    </tr>\n",
       "    <tr>\n",
       "      <th>TECH</th>\n",
       "      <td>254.0</td>\n",
       "      <td>0.030407</td>\n",
       "      <td>0.005303</td>\n",
       "      <td>0.016778</td>\n",
       "      <td>0.026456</td>\n",
       "      <td>...</td>\n",
       "      <td>0.065253</td>\n",
       "      <td>0.076737</td>\n",
       "      <td>0.080296</td>\n",
       "      <td>0.083353</td>\n",
       "      <td>0.093081</td>\n",
       "    </tr>\n",
       "  </tbody>\n",
       "</table>\n",
       "<p>2 rows × 24 columns</p>\n",
       "</div>"
      ],
      "text/plain": [
       "          Momentum                                            ...     \\\n",
       "             count      mean       std       min       25%    ...      \n",
       "industry                                                      ...      \n",
       "FINANCIAL    246.0  0.029485  0.004802  0.017210  0.026263    ...      \n",
       "TECH         254.0  0.030407  0.005303  0.016778  0.026456    ...      \n",
       "\n",
       "              Value                                          \n",
       "                min       25%       50%       75%       max  \n",
       "industry                                                     \n",
       "FINANCIAL  0.067025  0.076638  0.079804  0.082718  0.093334  \n",
       "TECH       0.065253  0.076737  0.080296  0.083353  0.093081  \n",
       "\n",
       "[2 rows x 24 columns]"
      ]
     },
     "execution_count": 10,
     "metadata": {},
     "output_type": "execute_result"
    }
   ],
   "source": [
    "by_industry.describe()"
   ]
  },
  {
   "cell_type": "code",
   "execution_count": 11,
   "metadata": {
    "collapsed": true
   },
   "outputs": [],
   "source": [
    "# Within-Industry Standardize\n",
    "def zscore(group):\n",
    "    return (group - group.mean()) / group.std()\n",
    "\n",
    "df_stand = by_industry.apply(zscore)"
   ]
  },
  {
   "cell_type": "markdown",
   "metadata": {},
   "source": [
    "<pre>\n",
    "DataFrameGroupBy.agg(arg, *args, **kwargs)[source]\n",
    "Aggregate using callable, string, dict, or list of string/callables\n",
    "</pre>"
   ]
  },
  {
   "cell_type": "code",
   "execution_count": 12,
   "metadata": {},
   "outputs": [
    {
     "data": {
      "text/html": [
       "<div>\n",
       "<style>\n",
       "    .dataframe thead tr:only-child th {\n",
       "        text-align: right;\n",
       "    }\n",
       "\n",
       "    .dataframe thead th {\n",
       "        text-align: left;\n",
       "    }\n",
       "\n",
       "    .dataframe tbody tr th {\n",
       "        vertical-align: top;\n",
       "    }\n",
       "</style>\n",
       "<table border=\"1\" class=\"dataframe\">\n",
       "  <thead>\n",
       "    <tr>\n",
       "      <th></th>\n",
       "      <th colspan=\"2\" halign=\"left\">Momentum</th>\n",
       "      <th colspan=\"2\" halign=\"left\">ShortInterest</th>\n",
       "      <th colspan=\"2\" halign=\"left\">Value</th>\n",
       "    </tr>\n",
       "    <tr>\n",
       "      <th></th>\n",
       "      <th>mean</th>\n",
       "      <th>std</th>\n",
       "      <th>mean</th>\n",
       "      <th>std</th>\n",
       "      <th>mean</th>\n",
       "      <th>std</th>\n",
       "    </tr>\n",
       "    <tr>\n",
       "      <th>industry</th>\n",
       "      <th></th>\n",
       "      <th></th>\n",
       "      <th></th>\n",
       "      <th></th>\n",
       "      <th></th>\n",
       "      <th></th>\n",
       "    </tr>\n",
       "  </thead>\n",
       "  <tbody>\n",
       "    <tr>\n",
       "      <th>FINANCIAL</th>\n",
       "      <td>1.114736e-15</td>\n",
       "      <td>1.0</td>\n",
       "      <td>3.081772e-15</td>\n",
       "      <td>1.0</td>\n",
       "      <td>8.001278e-15</td>\n",
       "      <td>1.0</td>\n",
       "    </tr>\n",
       "    <tr>\n",
       "      <th>TECH</th>\n",
       "      <td>-2.779929e-16</td>\n",
       "      <td>1.0</td>\n",
       "      <td>-1.910982e-15</td>\n",
       "      <td>1.0</td>\n",
       "      <td>-7.139521e-15</td>\n",
       "      <td>1.0</td>\n",
       "    </tr>\n",
       "  </tbody>\n",
       "</table>\n",
       "</div>"
      ],
      "text/plain": [
       "               Momentum      ShortInterest              Value     \n",
       "                   mean  std          mean  std          mean  std\n",
       "industry                                                          \n",
       "FINANCIAL  1.114736e-15  1.0  3.081772e-15  1.0  8.001278e-15  1.0\n",
       "TECH      -2.779929e-16  1.0 -1.910982e-15  1.0 -7.139521e-15  1.0"
      ]
     },
     "execution_count": 12,
     "metadata": {},
     "output_type": "execute_result"
    }
   ],
   "source": [
    "df_stand.groupby(industries).agg(['mean', 'std'])"
   ]
  },
  {
   "cell_type": "markdown",
   "metadata": {},
   "source": [
    "<pre>\n",
    "DataFrame.rank(axis=0, method='average', numeric_only=None, na_option='keep', ascending=True, pct=False)[source]\n",
    "Compute numerical data ranks (1 through n) along axis. Equal values are assigned a rank that is the average of the ranks of those values\n",
    "</pre>"
   ]
  },
  {
   "cell_type": "code",
   "execution_count": 13,
   "metadata": {},
   "outputs": [
    {
     "data": {
      "text/html": [
       "<div>\n",
       "<style>\n",
       "    .dataframe thead tr:only-child th {\n",
       "        text-align: right;\n",
       "    }\n",
       "\n",
       "    .dataframe thead th {\n",
       "        text-align: left;\n",
       "    }\n",
       "\n",
       "    .dataframe tbody tr th {\n",
       "        vertical-align: top;\n",
       "    }\n",
       "</style>\n",
       "<table border=\"1\" class=\"dataframe\">\n",
       "  <thead>\n",
       "    <tr>\n",
       "      <th></th>\n",
       "      <th colspan=\"2\" halign=\"left\">Momentum</th>\n",
       "      <th colspan=\"2\" halign=\"left\">ShortInterest</th>\n",
       "      <th colspan=\"2\" halign=\"left\">Value</th>\n",
       "    </tr>\n",
       "    <tr>\n",
       "      <th></th>\n",
       "      <th>min</th>\n",
       "      <th>max</th>\n",
       "      <th>min</th>\n",
       "      <th>max</th>\n",
       "      <th>min</th>\n",
       "      <th>max</th>\n",
       "    </tr>\n",
       "    <tr>\n",
       "      <th>industry</th>\n",
       "      <th></th>\n",
       "      <th></th>\n",
       "      <th></th>\n",
       "      <th></th>\n",
       "      <th></th>\n",
       "      <th></th>\n",
       "    </tr>\n",
       "  </thead>\n",
       "  <tbody>\n",
       "    <tr>\n",
       "      <th>FINANCIAL</th>\n",
       "      <td>1.0</td>\n",
       "      <td>246.0</td>\n",
       "      <td>1.0</td>\n",
       "      <td>246.0</td>\n",
       "      <td>1.0</td>\n",
       "      <td>246.0</td>\n",
       "    </tr>\n",
       "    <tr>\n",
       "      <th>TECH</th>\n",
       "      <td>1.0</td>\n",
       "      <td>254.0</td>\n",
       "      <td>1.0</td>\n",
       "      <td>254.0</td>\n",
       "      <td>1.0</td>\n",
       "      <td>254.0</td>\n",
       "    </tr>\n",
       "  </tbody>\n",
       "</table>\n",
       "</div>"
      ],
      "text/plain": [
       "          Momentum        ShortInterest        Value       \n",
       "               min    max           min    max   min    max\n",
       "industry                                                   \n",
       "FINANCIAL      1.0  246.0           1.0  246.0   1.0  246.0\n",
       "TECH           1.0  254.0           1.0  254.0   1.0  254.0"
      ]
     },
     "execution_count": 13,
     "metadata": {},
     "output_type": "execute_result"
    }
   ],
   "source": [
    "# Within-industry rank descending\n",
    "ind_rank = by_industry.rank(ascending=False)\n",
    "ind_rank.groupby(industries).agg(['min', 'max'])"
   ]
  },
  {
   "cell_type": "code",
   "execution_count": 21,
   "metadata": {},
   "outputs": [
    {
     "data": {
      "text/html": [
       "<div>\n",
       "<style>\n",
       "    .dataframe thead tr:only-child th {\n",
       "        text-align: right;\n",
       "    }\n",
       "\n",
       "    .dataframe thead th {\n",
       "        text-align: left;\n",
       "    }\n",
       "\n",
       "    .dataframe tbody tr th {\n",
       "        vertical-align: top;\n",
       "    }\n",
       "</style>\n",
       "<table border=\"1\" class=\"dataframe\">\n",
       "  <thead>\n",
       "    <tr style=\"text-align: right;\">\n",
       "      <th></th>\n",
       "      <th>Momentum</th>\n",
       "      <th>ShortInterest</th>\n",
       "      <th>Value</th>\n",
       "    </tr>\n",
       "    <tr>\n",
       "      <th>industry</th>\n",
       "      <th></th>\n",
       "      <th></th>\n",
       "      <th></th>\n",
       "    </tr>\n",
       "  </thead>\n",
       "  <tbody>\n",
       "    <tr>\n",
       "      <th>FINANCIAL</th>\n",
       "      <td>123.5</td>\n",
       "      <td>123.5</td>\n",
       "      <td>123.5</td>\n",
       "    </tr>\n",
       "    <tr>\n",
       "      <th>TECH</th>\n",
       "      <td>127.5</td>\n",
       "      <td>127.5</td>\n",
       "      <td>127.5</td>\n",
       "    </tr>\n",
       "  </tbody>\n",
       "</table>\n",
       "</div>"
      ],
      "text/plain": [
       "           Momentum  ShortInterest  Value\n",
       "industry                                 \n",
       "FINANCIAL     123.5          123.5  123.5\n",
       "TECH          127.5          127.5  127.5"
      ]
     },
     "execution_count": 21,
     "metadata": {},
     "output_type": "execute_result"
    }
   ],
   "source": [
    "# Within-industry rank descending\n",
    "ind_rank = by_industry.rank(ascending=False)\n",
    "ind_rank.groupby(industries).mean()"
   ]
  },
  {
   "cell_type": "code",
   "execution_count": 23,
   "metadata": {},
   "outputs": [
    {
     "data": {
      "text/html": [
       "<div>\n",
       "<style>\n",
       "    .dataframe thead tr:only-child th {\n",
       "        text-align: right;\n",
       "    }\n",
       "\n",
       "    .dataframe thead th {\n",
       "        text-align: left;\n",
       "    }\n",
       "\n",
       "    .dataframe tbody tr th {\n",
       "        vertical-align: top;\n",
       "    }\n",
       "</style>\n",
       "<table border=\"1\" class=\"dataframe\">\n",
       "  <thead>\n",
       "    <tr style=\"text-align: right;\">\n",
       "      <th></th>\n",
       "      <th>Momentum</th>\n",
       "      <th>ShortInterest</th>\n",
       "      <th>Value</th>\n",
       "    </tr>\n",
       "  </thead>\n",
       "  <tbody>\n",
       "    <tr>\n",
       "      <th>MYNBI</th>\n",
       "      <td>-0.091346</td>\n",
       "      <td>-0.976696</td>\n",
       "      <td>-1.004802</td>\n",
       "    </tr>\n",
       "    <tr>\n",
       "      <th>QPMZJ</th>\n",
       "      <td>0.794005</td>\n",
       "      <td>1.299919</td>\n",
       "      <td>-0.358356</td>\n",
       "    </tr>\n",
       "    <tr>\n",
       "      <th>PLSGQ</th>\n",
       "      <td>-0.541047</td>\n",
       "      <td>-0.836164</td>\n",
       "      <td>-1.679355</td>\n",
       "    </tr>\n",
       "    <tr>\n",
       "      <th>EJEYD</th>\n",
       "      <td>-0.583207</td>\n",
       "      <td>-1.623142</td>\n",
       "      <td>0.990749</td>\n",
       "    </tr>\n",
       "    <tr>\n",
       "      <th>TZIRW</th>\n",
       "      <td>1.572120</td>\n",
       "      <td>-0.265423</td>\n",
       "      <td>0.374314</td>\n",
       "    </tr>\n",
       "    <tr>\n",
       "      <th>ZTEJD</th>\n",
       "      <td>1.395171</td>\n",
       "      <td>0.360703</td>\n",
       "      <td>-1.436006</td>\n",
       "    </tr>\n",
       "    <tr>\n",
       "      <th>XCVKP</th>\n",
       "      <td>-0.074863</td>\n",
       "      <td>0.632931</td>\n",
       "      <td>-0.660154</td>\n",
       "    </tr>\n",
       "    <tr>\n",
       "      <th>RDLNK</th>\n",
       "      <td>0.238200</td>\n",
       "      <td>-0.319869</td>\n",
       "      <td>0.102086</td>\n",
       "    </tr>\n",
       "    <tr>\n",
       "      <th>TUGRP</th>\n",
       "      <td>1.075068</td>\n",
       "      <td>1.665302</td>\n",
       "      <td>1.580983</td>\n",
       "    </tr>\n",
       "    <tr>\n",
       "      <th>OQIBZ</th>\n",
       "      <td>1.412345</td>\n",
       "      <td>0.358356</td>\n",
       "      <td>-1.313972</td>\n",
       "    </tr>\n",
       "    <tr>\n",
       "      <th>RACXM</th>\n",
       "      <td>1.229653</td>\n",
       "      <td>1.257760</td>\n",
       "      <td>-0.822111</td>\n",
       "    </tr>\n",
       "    <tr>\n",
       "      <th>WZVUA</th>\n",
       "      <td>-1.426398</td>\n",
       "      <td>-0.625366</td>\n",
       "      <td>-0.934536</td>\n",
       "    </tr>\n",
       "    <tr>\n",
       "      <th>TPKHX</th>\n",
       "      <td>0.224589</td>\n",
       "      <td>-0.156531</td>\n",
       "      <td>1.313503</td>\n",
       "    </tr>\n",
       "    <tr>\n",
       "      <th>KWCGS</th>\n",
       "      <td>0.142920</td>\n",
       "      <td>0.741823</td>\n",
       "      <td>0.619320</td>\n",
       "    </tr>\n",
       "    <tr>\n",
       "      <th>HHZEZ</th>\n",
       "      <td>1.538823</td>\n",
       "      <td>0.597260</td>\n",
       "      <td>-1.566930</td>\n",
       "    </tr>\n",
       "    <tr>\n",
       "      <th>ROCCK</th>\n",
       "      <td>1.117228</td>\n",
       "      <td>-1.510717</td>\n",
       "      <td>0.428622</td>\n",
       "    </tr>\n",
       "    <tr>\n",
       "      <th>QPDJR</th>\n",
       "      <td>-1.640177</td>\n",
       "      <td>0.700989</td>\n",
       "      <td>0.755434</td>\n",
       "    </tr>\n",
       "    <tr>\n",
       "      <th>JWDRK</th>\n",
       "      <td>-0.537651</td>\n",
       "      <td>1.572120</td>\n",
       "      <td>0.714600</td>\n",
       "    </tr>\n",
       "    <tr>\n",
       "      <th>RGZTR</th>\n",
       "      <td>1.637195</td>\n",
       "      <td>-0.555101</td>\n",
       "      <td>0.442675</td>\n",
       "    </tr>\n",
       "    <tr>\n",
       "      <th>SJOCT</th>\n",
       "      <td>-0.619320</td>\n",
       "      <td>-0.469594</td>\n",
       "      <td>0.088474</td>\n",
       "    </tr>\n",
       "    <tr>\n",
       "      <th>ZMKSH</th>\n",
       "      <td>-0.555101</td>\n",
       "      <td>0.259984</td>\n",
       "      <td>-1.468557</td>\n",
       "    </tr>\n",
       "    <tr>\n",
       "      <th>JFGFB</th>\n",
       "      <td>0.524040</td>\n",
       "      <td>-0.496817</td>\n",
       "      <td>-1.721846</td>\n",
       "    </tr>\n",
       "    <tr>\n",
       "      <th>TVIPC</th>\n",
       "      <td>1.708234</td>\n",
       "      <td>0.034029</td>\n",
       "      <td>0.796269</td>\n",
       "    </tr>\n",
       "    <tr>\n",
       "      <th>CVYEE</th>\n",
       "      <td>-1.259057</td>\n",
       "      <td>0.673766</td>\n",
       "      <td>0.115697</td>\n",
       "    </tr>\n",
       "    <tr>\n",
       "      <th>BCWRV</th>\n",
       "      <td>-0.639420</td>\n",
       "      <td>0.920483</td>\n",
       "      <td>1.426398</td>\n",
       "    </tr>\n",
       "    <tr>\n",
       "      <th>MWQIQ</th>\n",
       "      <td>-0.020417</td>\n",
       "      <td>-1.612954</td>\n",
       "      <td>-1.626566</td>\n",
       "    </tr>\n",
       "    <tr>\n",
       "      <th>ZHGVS</th>\n",
       "      <td>0.265423</td>\n",
       "      <td>1.177388</td>\n",
       "      <td>1.272668</td>\n",
       "    </tr>\n",
       "    <tr>\n",
       "      <th>NSIOP</th>\n",
       "      <td>0.836164</td>\n",
       "      <td>1.552876</td>\n",
       "      <td>1.679355</td>\n",
       "    </tr>\n",
       "    <tr>\n",
       "      <th>VUWZL</th>\n",
       "      <td>-0.142920</td>\n",
       "      <td>-0.564874</td>\n",
       "      <td>-0.306257</td>\n",
       "    </tr>\n",
       "    <tr>\n",
       "      <th>CKTDP</th>\n",
       "      <td>1.496664</td>\n",
       "      <td>0.302143</td>\n",
       "      <td>-1.257760</td>\n",
       "    </tr>\n",
       "    <tr>\n",
       "      <th>SUKGH</th>\n",
       "      <td>-0.864326</td>\n",
       "      <td>0.020417</td>\n",
       "      <td>0.864326</td>\n",
       "    </tr>\n",
       "    <tr>\n",
       "      <th>AXIDW</th>\n",
       "      <td>-0.986828</td>\n",
       "      <td>-0.102086</td>\n",
       "      <td>-0.877937</td>\n",
       "    </tr>\n",
       "    <tr>\n",
       "      <th>HLZFK</th>\n",
       "      <td>-1.667400</td>\n",
       "      <td>-1.585731</td>\n",
       "      <td>-0.850714</td>\n",
       "    </tr>\n",
       "    <tr>\n",
       "      <th>NBDZE</th>\n",
       "      <td>-1.623142</td>\n",
       "      <td>-0.259984</td>\n",
       "      <td>0.836164</td>\n",
       "    </tr>\n",
       "    <tr>\n",
       "      <th>WHBSU</th>\n",
       "      <td>-0.962643</td>\n",
       "      <td>1.426398</td>\n",
       "      <td>0.583207</td>\n",
       "    </tr>\n",
       "    <tr>\n",
       "      <th>RTVCA</th>\n",
       "      <td>0.632931</td>\n",
       "      <td>1.653788</td>\n",
       "      <td>0.224589</td>\n",
       "    </tr>\n",
       "    <tr>\n",
       "      <th>DUGTS</th>\n",
       "      <td>-1.398291</td>\n",
       "      <td>-1.243706</td>\n",
       "      <td>1.145334</td>\n",
       "    </tr>\n",
       "    <tr>\n",
       "      <th>DMCLD</th>\n",
       "      <td>0.456728</td>\n",
       "      <td>0.639420</td>\n",
       "      <td>-0.007027</td>\n",
       "    </tr>\n",
       "    <tr>\n",
       "      <th>BTAGF</th>\n",
       "      <td>-1.201547</td>\n",
       "      <td>-1.089121</td>\n",
       "      <td>-0.920483</td>\n",
       "    </tr>\n",
       "    <tr>\n",
       "      <th>WDPGX</th>\n",
       "      <td>0.597260</td>\n",
       "      <td>-0.021080</td>\n",
       "      <td>-0.049186</td>\n",
       "    </tr>\n",
       "    <tr>\n",
       "      <th>ZBVAR</th>\n",
       "      <td>-1.707461</td>\n",
       "      <td>-1.004802</td>\n",
       "      <td>-1.426398</td>\n",
       "    </tr>\n",
       "    <tr>\n",
       "      <th>NTDIC</th>\n",
       "      <td>-0.077292</td>\n",
       "      <td>-1.454504</td>\n",
       "      <td>-0.512941</td>\n",
       "    </tr>\n",
       "    <tr>\n",
       "      <th>HCUJL</th>\n",
       "      <td>-1.517674</td>\n",
       "      <td>-1.299891</td>\n",
       "      <td>-0.455983</td>\n",
       "    </tr>\n",
       "    <tr>\n",
       "      <th>NFBQO</th>\n",
       "      <td>-1.103175</td>\n",
       "      <td>-1.145334</td>\n",
       "      <td>-0.484835</td>\n",
       "    </tr>\n",
       "    <tr>\n",
       "      <th>BTDWM</th>\n",
       "      <td>-1.422394</td>\n",
       "      <td>0.483206</td>\n",
       "      <td>0.142920</td>\n",
       "    </tr>\n",
       "    <tr>\n",
       "      <th>GILXP</th>\n",
       "      <td>0.526994</td>\n",
       "      <td>-0.063239</td>\n",
       "      <td>0.302143</td>\n",
       "    </tr>\n",
       "    <tr>\n",
       "      <th>SFWVG</th>\n",
       "      <td>0.292646</td>\n",
       "      <td>-1.463228</td>\n",
       "      <td>0.551263</td>\n",
       "    </tr>\n",
       "    <tr>\n",
       "      <th>YBZVF</th>\n",
       "      <td>-0.892377</td>\n",
       "      <td>-1.426398</td>\n",
       "      <td>0.245931</td>\n",
       "    </tr>\n",
       "    <tr>\n",
       "      <th>FKQID</th>\n",
       "      <td>0.583207</td>\n",
       "      <td>-1.187494</td>\n",
       "      <td>0.470782</td>\n",
       "    </tr>\n",
       "    <tr>\n",
       "      <th>TOVFA</th>\n",
       "      <td>1.367948</td>\n",
       "      <td>0.183754</td>\n",
       "      <td>-1.150166</td>\n",
       "    </tr>\n",
       "    <tr>\n",
       "      <th>...</th>\n",
       "      <td>...</td>\n",
       "      <td>...</td>\n",
       "      <td>...</td>\n",
       "    </tr>\n",
       "    <tr>\n",
       "      <th>UWQDW</th>\n",
       "      <td>-1.068497</td>\n",
       "      <td>-0.292646</td>\n",
       "      <td>-1.163777</td>\n",
       "    </tr>\n",
       "    <tr>\n",
       "      <th>YUWGT</th>\n",
       "      <td>-0.105399</td>\n",
       "      <td>1.018856</td>\n",
       "      <td>1.524770</td>\n",
       "    </tr>\n",
       "    <tr>\n",
       "      <th>UTQDI</th>\n",
       "      <td>0.347091</td>\n",
       "      <td>1.449617</td>\n",
       "      <td>1.014051</td>\n",
       "    </tr>\n",
       "    <tr>\n",
       "      <th>WXTFM</th>\n",
       "      <td>-0.667526</td>\n",
       "      <td>0.498888</td>\n",
       "      <td>1.201547</td>\n",
       "    </tr>\n",
       "    <tr>\n",
       "      <th>CZBAD</th>\n",
       "      <td>-0.288090</td>\n",
       "      <td>-0.878324</td>\n",
       "      <td>-0.077292</td>\n",
       "    </tr>\n",
       "    <tr>\n",
       "      <th>LXPKD</th>\n",
       "      <td>0.864271</td>\n",
       "      <td>-0.161612</td>\n",
       "      <td>1.004802</td>\n",
       "    </tr>\n",
       "    <tr>\n",
       "      <th>VOLSW</th>\n",
       "      <td>-1.299891</td>\n",
       "      <td>1.504063</td>\n",
       "      <td>-1.558508</td>\n",
       "    </tr>\n",
       "    <tr>\n",
       "      <th>IVPZY</th>\n",
       "      <td>1.381560</td>\n",
       "      <td>-1.286280</td>\n",
       "      <td>-1.408783</td>\n",
       "    </tr>\n",
       "    <tr>\n",
       "      <th>HFRRC</th>\n",
       "      <td>-1.580983</td>\n",
       "      <td>1.538823</td>\n",
       "      <td>-0.653473</td>\n",
       "    </tr>\n",
       "    <tr>\n",
       "      <th>YQFAU</th>\n",
       "      <td>-1.082108</td>\n",
       "      <td>0.210977</td>\n",
       "      <td>-1.272668</td>\n",
       "    </tr>\n",
       "    <tr>\n",
       "      <th>FQNTV</th>\n",
       "      <td>0.782657</td>\n",
       "      <td>0.496817</td>\n",
       "      <td>-0.646543</td>\n",
       "    </tr>\n",
       "    <tr>\n",
       "      <th>GOWVM</th>\n",
       "      <td>-1.510717</td>\n",
       "      <td>-0.667526</td>\n",
       "      <td>-0.948590</td>\n",
       "    </tr>\n",
       "    <tr>\n",
       "      <th>IASEM</th>\n",
       "      <td>0.483206</td>\n",
       "      <td>1.640177</td>\n",
       "      <td>-0.782657</td>\n",
       "    </tr>\n",
       "    <tr>\n",
       "      <th>FOSBM</th>\n",
       "      <td>-0.333480</td>\n",
       "      <td>-0.115697</td>\n",
       "      <td>0.442371</td>\n",
       "    </tr>\n",
       "    <tr>\n",
       "      <th>ZCUSM</th>\n",
       "      <td>-0.808058</td>\n",
       "      <td>-0.007027</td>\n",
       "      <td>-1.046962</td>\n",
       "    </tr>\n",
       "    <tr>\n",
       "      <th>KHQOB</th>\n",
       "      <td>0.414569</td>\n",
       "      <td>0.962643</td>\n",
       "      <td>-0.681579</td>\n",
       "    </tr>\n",
       "    <tr>\n",
       "      <th>PTDIQ</th>\n",
       "      <td>-0.496817</td>\n",
       "      <td>-1.544897</td>\n",
       "      <td>-0.741823</td>\n",
       "    </tr>\n",
       "    <tr>\n",
       "      <th>PRUMP</th>\n",
       "      <td>0.401537</td>\n",
       "      <td>-1.504063</td>\n",
       "      <td>1.082108</td>\n",
       "    </tr>\n",
       "    <tr>\n",
       "      <th>IFHRL</th>\n",
       "      <td>0.700989</td>\n",
       "      <td>1.163777</td>\n",
       "      <td>-0.115697</td>\n",
       "    </tr>\n",
       "    <tr>\n",
       "      <th>FJTEO</th>\n",
       "      <td>0.660154</td>\n",
       "      <td>1.286280</td>\n",
       "      <td>-0.374314</td>\n",
       "    </tr>\n",
       "    <tr>\n",
       "      <th>CCPMS</th>\n",
       "      <td>0.358356</td>\n",
       "      <td>0.245931</td>\n",
       "      <td>-0.105399</td>\n",
       "    </tr>\n",
       "    <tr>\n",
       "      <th>NRCIP</th>\n",
       "      <td>-0.469594</td>\n",
       "      <td>-1.653788</td>\n",
       "      <td>-1.490451</td>\n",
       "    </tr>\n",
       "    <tr>\n",
       "      <th>HDJEL</th>\n",
       "      <td>-0.836164</td>\n",
       "      <td>-0.119452</td>\n",
       "      <td>-0.175665</td>\n",
       "    </tr>\n",
       "    <tr>\n",
       "      <th>ZDEVB</th>\n",
       "      <td>0.484835</td>\n",
       "      <td>-1.538823</td>\n",
       "      <td>1.103175</td>\n",
       "    </tr>\n",
       "    <tr>\n",
       "      <th>VESRG</th>\n",
       "      <td>-0.687377</td>\n",
       "      <td>1.367948</td>\n",
       "      <td>0.279034</td>\n",
       "    </tr>\n",
       "    <tr>\n",
       "      <th>ABMRW</th>\n",
       "      <td>0.319869</td>\n",
       "      <td>-0.646543</td>\n",
       "      <td>-1.122943</td>\n",
       "    </tr>\n",
       "    <tr>\n",
       "      <th>YTPWW</th>\n",
       "      <td>-1.061015</td>\n",
       "      <td>1.117228</td>\n",
       "      <td>-1.707461</td>\n",
       "    </tr>\n",
       "    <tr>\n",
       "      <th>DPRLY</th>\n",
       "      <td>-0.251811</td>\n",
       "      <td>-1.436006</td>\n",
       "      <td>-0.891549</td>\n",
       "    </tr>\n",
       "    <tr>\n",
       "      <th>KDVAH</th>\n",
       "      <td>-1.637195</td>\n",
       "      <td>1.229653</td>\n",
       "      <td>-0.344303</td>\n",
       "    </tr>\n",
       "    <tr>\n",
       "      <th>HPJIH</th>\n",
       "      <td>1.408783</td>\n",
       "      <td>0.809880</td>\n",
       "      <td>0.592097</td>\n",
       "    </tr>\n",
       "    <tr>\n",
       "      <th>APLQK</th>\n",
       "      <td>1.463228</td>\n",
       "      <td>0.279034</td>\n",
       "      <td>0.469594</td>\n",
       "    </tr>\n",
       "    <tr>\n",
       "      <th>CCJSN</th>\n",
       "      <td>0.578486</td>\n",
       "      <td>1.544897</td>\n",
       "      <td>-1.259057</td>\n",
       "    </tr>\n",
       "    <tr>\n",
       "      <th>HXLMY</th>\n",
       "      <td>-0.415149</td>\n",
       "      <td>1.476840</td>\n",
       "      <td>0.319869</td>\n",
       "    </tr>\n",
       "    <tr>\n",
       "      <th>EHJGX</th>\n",
       "      <td>1.014051</td>\n",
       "      <td>-1.558508</td>\n",
       "      <td>1.681011</td>\n",
       "    </tr>\n",
       "    <tr>\n",
       "      <th>YPVZL</th>\n",
       "      <td>-0.088474</td>\n",
       "      <td>-0.632931</td>\n",
       "      <td>-0.837103</td>\n",
       "    </tr>\n",
       "    <tr>\n",
       "      <th>JMTEY</th>\n",
       "      <td>-1.626566</td>\n",
       "      <td>-0.401537</td>\n",
       "      <td>1.354337</td>\n",
       "    </tr>\n",
       "    <tr>\n",
       "      <th>DMLQP</th>\n",
       "      <td>-1.089121</td>\n",
       "      <td>-0.892377</td>\n",
       "      <td>-1.299919</td>\n",
       "    </tr>\n",
       "    <tr>\n",
       "      <th>HUWLU</th>\n",
       "      <td>0.344303</td>\n",
       "      <td>1.328025</td>\n",
       "      <td>1.046962</td>\n",
       "    </tr>\n",
       "    <tr>\n",
       "      <th>LNILM</th>\n",
       "      <td>-0.006806</td>\n",
       "      <td>-1.572120</td>\n",
       "      <td>-1.327114</td>\n",
       "    </tr>\n",
       "    <tr>\n",
       "      <th>YYWJD</th>\n",
       "      <td>-0.646543</td>\n",
       "      <td>-0.428760</td>\n",
       "      <td>-0.074863</td>\n",
       "    </tr>\n",
       "    <tr>\n",
       "      <th>PJDOE</th>\n",
       "      <td>-0.737792</td>\n",
       "      <td>-0.948590</td>\n",
       "      <td>-0.962643</td>\n",
       "    </tr>\n",
       "    <tr>\n",
       "      <th>LHXFK</th>\n",
       "      <td>1.046962</td>\n",
       "      <td>-1.440451</td>\n",
       "      <td>1.566930</td>\n",
       "    </tr>\n",
       "    <tr>\n",
       "      <th>PHDVM</th>\n",
       "      <td>-0.709686</td>\n",
       "      <td>1.454504</td>\n",
       "      <td>-1.173440</td>\n",
       "    </tr>\n",
       "    <tr>\n",
       "      <th>MOQOS</th>\n",
       "      <td>1.082108</td>\n",
       "      <td>1.109331</td>\n",
       "      <td>1.708234</td>\n",
       "    </tr>\n",
       "    <tr>\n",
       "      <th>THVMQ</th>\n",
       "      <td>0.891549</td>\n",
       "      <td>-1.721846</td>\n",
       "      <td>-0.796269</td>\n",
       "    </tr>\n",
       "    <tr>\n",
       "      <th>JPHKQ</th>\n",
       "      <td>-0.238200</td>\n",
       "      <td>0.401537</td>\n",
       "      <td>0.074863</td>\n",
       "    </tr>\n",
       "    <tr>\n",
       "      <th>VACPK</th>\n",
       "      <td>1.681011</td>\n",
       "      <td>-1.395171</td>\n",
       "      <td>-0.238200</td>\n",
       "    </tr>\n",
       "    <tr>\n",
       "      <th>MHNBS</th>\n",
       "      <td>0.673766</td>\n",
       "      <td>1.490451</td>\n",
       "      <td>-1.313503</td>\n",
       "    </tr>\n",
       "    <tr>\n",
       "      <th>YBNCI</th>\n",
       "      <td>1.623142</td>\n",
       "      <td>0.541047</td>\n",
       "      <td>0.976696</td>\n",
       "    </tr>\n",
       "    <tr>\n",
       "      <th>GXKFD</th>\n",
       "      <td>1.286280</td>\n",
       "      <td>1.463228</td>\n",
       "      <td>1.381560</td>\n",
       "    </tr>\n",
       "  </tbody>\n",
       "</table>\n",
       "<p>500 rows × 3 columns</p>\n",
       "</div>"
      ],
      "text/plain": [
       "       Momentum  ShortInterest     Value\n",
       "MYNBI -0.091346      -0.976696 -1.004802\n",
       "QPMZJ  0.794005       1.299919 -0.358356\n",
       "PLSGQ -0.541047      -0.836164 -1.679355\n",
       "EJEYD -0.583207      -1.623142  0.990749\n",
       "TZIRW  1.572120      -0.265423  0.374314\n",
       "ZTEJD  1.395171       0.360703 -1.436006\n",
       "XCVKP -0.074863       0.632931 -0.660154\n",
       "RDLNK  0.238200      -0.319869  0.102086\n",
       "TUGRP  1.075068       1.665302  1.580983\n",
       "OQIBZ  1.412345       0.358356 -1.313972\n",
       "RACXM  1.229653       1.257760 -0.822111\n",
       "WZVUA -1.426398      -0.625366 -0.934536\n",
       "TPKHX  0.224589      -0.156531  1.313503\n",
       "KWCGS  0.142920       0.741823  0.619320\n",
       "HHZEZ  1.538823       0.597260 -1.566930\n",
       "ROCCK  1.117228      -1.510717  0.428622\n",
       "QPDJR -1.640177       0.700989  0.755434\n",
       "JWDRK -0.537651       1.572120  0.714600\n",
       "RGZTR  1.637195      -0.555101  0.442675\n",
       "SJOCT -0.619320      -0.469594  0.088474\n",
       "ZMKSH -0.555101       0.259984 -1.468557\n",
       "JFGFB  0.524040      -0.496817 -1.721846\n",
       "TVIPC  1.708234       0.034029  0.796269\n",
       "CVYEE -1.259057       0.673766  0.115697\n",
       "BCWRV -0.639420       0.920483  1.426398\n",
       "MWQIQ -0.020417      -1.612954 -1.626566\n",
       "ZHGVS  0.265423       1.177388  1.272668\n",
       "NSIOP  0.836164       1.552876  1.679355\n",
       "VUWZL -0.142920      -0.564874 -0.306257\n",
       "CKTDP  1.496664       0.302143 -1.257760\n",
       "SUKGH -0.864326       0.020417  0.864326\n",
       "AXIDW -0.986828      -0.102086 -0.877937\n",
       "HLZFK -1.667400      -1.585731 -0.850714\n",
       "NBDZE -1.623142      -0.259984  0.836164\n",
       "WHBSU -0.962643       1.426398  0.583207\n",
       "RTVCA  0.632931       1.653788  0.224589\n",
       "DUGTS -1.398291      -1.243706  1.145334\n",
       "DMCLD  0.456728       0.639420 -0.007027\n",
       "BTAGF -1.201547      -1.089121 -0.920483\n",
       "WDPGX  0.597260      -0.021080 -0.049186\n",
       "ZBVAR -1.707461      -1.004802 -1.426398\n",
       "NTDIC -0.077292      -1.454504 -0.512941\n",
       "HCUJL -1.517674      -1.299891 -0.455983\n",
       "NFBQO -1.103175      -1.145334 -0.484835\n",
       "BTDWM -1.422394       0.483206  0.142920\n",
       "GILXP  0.526994      -0.063239  0.302143\n",
       "SFWVG  0.292646      -1.463228  0.551263\n",
       "YBZVF -0.892377      -1.426398  0.245931\n",
       "FKQID  0.583207      -1.187494  0.470782\n",
       "TOVFA  1.367948       0.183754 -1.150166\n",
       "...         ...            ...       ...\n",
       "UWQDW -1.068497      -0.292646 -1.163777\n",
       "YUWGT -0.105399       1.018856  1.524770\n",
       "UTQDI  0.347091       1.449617  1.014051\n",
       "WXTFM -0.667526       0.498888  1.201547\n",
       "CZBAD -0.288090      -0.878324 -0.077292\n",
       "LXPKD  0.864271      -0.161612  1.004802\n",
       "VOLSW -1.299891       1.504063 -1.558508\n",
       "IVPZY  1.381560      -1.286280 -1.408783\n",
       "HFRRC -1.580983       1.538823 -0.653473\n",
       "YQFAU -1.082108       0.210977 -1.272668\n",
       "FQNTV  0.782657       0.496817 -0.646543\n",
       "GOWVM -1.510717      -0.667526 -0.948590\n",
       "IASEM  0.483206       1.640177 -0.782657\n",
       "FOSBM -0.333480      -0.115697  0.442371\n",
       "ZCUSM -0.808058      -0.007027 -1.046962\n",
       "KHQOB  0.414569       0.962643 -0.681579\n",
       "PTDIQ -0.496817      -1.544897 -0.741823\n",
       "PRUMP  0.401537      -1.504063  1.082108\n",
       "IFHRL  0.700989       1.163777 -0.115697\n",
       "FJTEO  0.660154       1.286280 -0.374314\n",
       "CCPMS  0.358356       0.245931 -0.105399\n",
       "NRCIP -0.469594      -1.653788 -1.490451\n",
       "HDJEL -0.836164      -0.119452 -0.175665\n",
       "ZDEVB  0.484835      -1.538823  1.103175\n",
       "VESRG -0.687377       1.367948  0.279034\n",
       "ABMRW  0.319869      -0.646543 -1.122943\n",
       "YTPWW -1.061015       1.117228 -1.707461\n",
       "DPRLY -0.251811      -1.436006 -0.891549\n",
       "KDVAH -1.637195       1.229653 -0.344303\n",
       "HPJIH  1.408783       0.809880  0.592097\n",
       "APLQK  1.463228       0.279034  0.469594\n",
       "CCJSN  0.578486       1.544897 -1.259057\n",
       "HXLMY -0.415149       1.476840  0.319869\n",
       "EHJGX  1.014051      -1.558508  1.681011\n",
       "YPVZL -0.088474      -0.632931 -0.837103\n",
       "JMTEY -1.626566      -0.401537  1.354337\n",
       "DMLQP -1.089121      -0.892377 -1.299919\n",
       "HUWLU  0.344303       1.328025  1.046962\n",
       "LNILM -0.006806      -1.572120 -1.327114\n",
       "YYWJD -0.646543      -0.428760 -0.074863\n",
       "PJDOE -0.737792      -0.948590 -0.962643\n",
       "LHXFK  1.046962      -1.440451  1.566930\n",
       "PHDVM -0.709686       1.454504 -1.173440\n",
       "MOQOS  1.082108       1.109331  1.708234\n",
       "THVMQ  0.891549      -1.721846 -0.796269\n",
       "JPHKQ -0.238200       0.401537  0.074863\n",
       "VACPK  1.681011      -1.395171 -0.238200\n",
       "MHNBS  0.673766       1.490451 -1.313503\n",
       "YBNCI  1.623142       0.541047  0.976696\n",
       "GXKFD  1.286280       1.463228  1.381560\n",
       "\n",
       "[500 rows x 3 columns]"
      ]
     },
     "execution_count": 23,
     "metadata": {},
     "output_type": "execute_result"
    }
   ],
   "source": [
    "# Industry rank and standardize\n",
    "by_industry.apply(lambda x: zscore(x.rank()))"
   ]
  },
  {
   "cell_type": "markdown",
   "metadata": {},
   "source": [
    "### Group factor exposures"
   ]
  },
  {
   "cell_type": "code",
   "execution_count": 15,
   "metadata": {
    "collapsed": true
   },
   "outputs": [],
   "source": [
    "from numpy.random import rand\n",
    "fac1, fac2, fac3 = np.random.rand(3, 1000)\n",
    "\n",
    "ticker_subset = tickers.take(np.random.permutation(N)[:1000])\n",
    "\n",
    "# Weighted sum of factors plus noise\n",
    "port = Series(0.7 * fac1 - 1.2 * fac2 + 0.3 * fac3 + rand(1000),\n",
    "              index=ticker_subset)\n",
    "factors = DataFrame({'f1': fac1, 'f2': fac2, 'f3': fac3},\n",
    "                    index=ticker_subset)"
   ]
  },
  {
   "cell_type": "code",
   "execution_count": 16,
   "metadata": {},
   "outputs": [
    {
     "data": {
      "text/html": [
       "<div>\n",
       "<style>\n",
       "    .dataframe thead tr:only-child th {\n",
       "        text-align: right;\n",
       "    }\n",
       "\n",
       "    .dataframe thead th {\n",
       "        text-align: left;\n",
       "    }\n",
       "\n",
       "    .dataframe tbody tr th {\n",
       "        vertical-align: top;\n",
       "    }\n",
       "</style>\n",
       "<table border=\"1\" class=\"dataframe\">\n",
       "  <thead>\n",
       "    <tr style=\"text-align: right;\">\n",
       "      <th></th>\n",
       "      <th>f1</th>\n",
       "      <th>f2</th>\n",
       "      <th>f3</th>\n",
       "    </tr>\n",
       "  </thead>\n",
       "  <tbody>\n",
       "    <tr>\n",
       "      <th>FZFPV</th>\n",
       "      <td>0.265639</td>\n",
       "      <td>0.075042</td>\n",
       "      <td>0.623549</td>\n",
       "    </tr>\n",
       "    <tr>\n",
       "      <th>DTPES</th>\n",
       "      <td>0.928075</td>\n",
       "      <td>0.606129</td>\n",
       "      <td>0.121780</td>\n",
       "    </tr>\n",
       "    <tr>\n",
       "      <th>UJKFH</th>\n",
       "      <td>0.723554</td>\n",
       "      <td>0.672966</td>\n",
       "      <td>0.175533</td>\n",
       "    </tr>\n",
       "    <tr>\n",
       "      <th>YKCGU</th>\n",
       "      <td>0.397491</td>\n",
       "      <td>0.492140</td>\n",
       "      <td>0.487649</td>\n",
       "    </tr>\n",
       "    <tr>\n",
       "      <th>XAYZH</th>\n",
       "      <td>0.167037</td>\n",
       "      <td>0.052508</td>\n",
       "      <td>0.824024</td>\n",
       "    </tr>\n",
       "    <tr>\n",
       "      <th>XKGUD</th>\n",
       "      <td>0.935998</td>\n",
       "      <td>0.153964</td>\n",
       "      <td>0.751013</td>\n",
       "    </tr>\n",
       "    <tr>\n",
       "      <th>RACXM</th>\n",
       "      <td>0.884392</td>\n",
       "      <td>0.355995</td>\n",
       "      <td>0.484717</td>\n",
       "    </tr>\n",
       "    <tr>\n",
       "      <th>ADOXQ</th>\n",
       "      <td>0.397835</td>\n",
       "      <td>0.209999</td>\n",
       "      <td>0.778081</td>\n",
       "    </tr>\n",
       "    <tr>\n",
       "      <th>WIEAP</th>\n",
       "      <td>0.971362</td>\n",
       "      <td>0.300408</td>\n",
       "      <td>0.939537</td>\n",
       "    </tr>\n",
       "    <tr>\n",
       "      <th>FYNCS</th>\n",
       "      <td>0.963876</td>\n",
       "      <td>0.816643</td>\n",
       "      <td>0.541790</td>\n",
       "    </tr>\n",
       "    <tr>\n",
       "      <th>MTSHZ</th>\n",
       "      <td>0.443230</td>\n",
       "      <td>0.134781</td>\n",
       "      <td>0.178255</td>\n",
       "    </tr>\n",
       "    <tr>\n",
       "      <th>OMLRE</th>\n",
       "      <td>0.116055</td>\n",
       "      <td>0.335071</td>\n",
       "      <td>0.367684</td>\n",
       "    </tr>\n",
       "    <tr>\n",
       "      <th>OCNQR</th>\n",
       "      <td>0.125795</td>\n",
       "      <td>0.464679</td>\n",
       "      <td>0.049747</td>\n",
       "    </tr>\n",
       "    <tr>\n",
       "      <th>XRHDX</th>\n",
       "      <td>0.838966</td>\n",
       "      <td>0.089336</td>\n",
       "      <td>0.841383</td>\n",
       "    </tr>\n",
       "    <tr>\n",
       "      <th>TASQL</th>\n",
       "      <td>0.269079</td>\n",
       "      <td>0.732308</td>\n",
       "      <td>0.660539</td>\n",
       "    </tr>\n",
       "    <tr>\n",
       "      <th>PVKPP</th>\n",
       "      <td>0.674520</td>\n",
       "      <td>0.544443</td>\n",
       "      <td>0.571214</td>\n",
       "    </tr>\n",
       "    <tr>\n",
       "      <th>IVPZY</th>\n",
       "      <td>0.669450</td>\n",
       "      <td>0.887890</td>\n",
       "      <td>0.624449</td>\n",
       "    </tr>\n",
       "    <tr>\n",
       "      <th>VOLSW</th>\n",
       "      <td>0.782693</td>\n",
       "      <td>0.905052</td>\n",
       "      <td>0.880894</td>\n",
       "    </tr>\n",
       "    <tr>\n",
       "      <th>FEZAR</th>\n",
       "      <td>0.707902</td>\n",
       "      <td>0.968558</td>\n",
       "      <td>0.232684</td>\n",
       "    </tr>\n",
       "    <tr>\n",
       "      <th>PMAJQ</th>\n",
       "      <td>0.138977</td>\n",
       "      <td>0.474286</td>\n",
       "      <td>0.112594</td>\n",
       "    </tr>\n",
       "    <tr>\n",
       "      <th>QVNVN</th>\n",
       "      <td>0.633033</td>\n",
       "      <td>0.441609</td>\n",
       "      <td>0.109232</td>\n",
       "    </tr>\n",
       "    <tr>\n",
       "      <th>EHYML</th>\n",
       "      <td>0.229385</td>\n",
       "      <td>0.549903</td>\n",
       "      <td>0.608799</td>\n",
       "    </tr>\n",
       "    <tr>\n",
       "      <th>UNKRX</th>\n",
       "      <td>0.882514</td>\n",
       "      <td>0.198014</td>\n",
       "      <td>0.474800</td>\n",
       "    </tr>\n",
       "    <tr>\n",
       "      <th>ENSNC</th>\n",
       "      <td>0.209917</td>\n",
       "      <td>0.001187</td>\n",
       "      <td>0.089083</td>\n",
       "    </tr>\n",
       "    <tr>\n",
       "      <th>ZHLDR</th>\n",
       "      <td>0.640543</td>\n",
       "      <td>0.180974</td>\n",
       "      <td>0.992550</td>\n",
       "    </tr>\n",
       "    <tr>\n",
       "      <th>IVBAI</th>\n",
       "      <td>0.841518</td>\n",
       "      <td>0.249473</td>\n",
       "      <td>0.013671</td>\n",
       "    </tr>\n",
       "    <tr>\n",
       "      <th>PRBQK</th>\n",
       "      <td>0.237100</td>\n",
       "      <td>0.638404</td>\n",
       "      <td>0.329988</td>\n",
       "    </tr>\n",
       "    <tr>\n",
       "      <th>AGSGC</th>\n",
       "      <td>0.232973</td>\n",
       "      <td>0.679667</td>\n",
       "      <td>0.986714</td>\n",
       "    </tr>\n",
       "    <tr>\n",
       "      <th>SVXRV</th>\n",
       "      <td>0.982908</td>\n",
       "      <td>0.979891</td>\n",
       "      <td>0.345168</td>\n",
       "    </tr>\n",
       "    <tr>\n",
       "      <th>DBEKB</th>\n",
       "      <td>0.385321</td>\n",
       "      <td>0.771988</td>\n",
       "      <td>0.337900</td>\n",
       "    </tr>\n",
       "    <tr>\n",
       "      <th>BKQRA</th>\n",
       "      <td>0.547456</td>\n",
       "      <td>0.695407</td>\n",
       "      <td>0.007959</td>\n",
       "    </tr>\n",
       "    <tr>\n",
       "      <th>COIXS</th>\n",
       "      <td>0.776022</td>\n",
       "      <td>0.063251</td>\n",
       "      <td>0.658006</td>\n",
       "    </tr>\n",
       "    <tr>\n",
       "      <th>JPHKQ</th>\n",
       "      <td>0.049126</td>\n",
       "      <td>0.196378</td>\n",
       "      <td>0.553400</td>\n",
       "    </tr>\n",
       "    <tr>\n",
       "      <th>AVAXF</th>\n",
       "      <td>0.322165</td>\n",
       "      <td>0.801439</td>\n",
       "      <td>0.069410</td>\n",
       "    </tr>\n",
       "    <tr>\n",
       "      <th>TMUIV</th>\n",
       "      <td>0.324377</td>\n",
       "      <td>0.428030</td>\n",
       "      <td>0.694194</td>\n",
       "    </tr>\n",
       "    <tr>\n",
       "      <th>OLSES</th>\n",
       "      <td>0.900552</td>\n",
       "      <td>0.148062</td>\n",
       "      <td>0.478495</td>\n",
       "    </tr>\n",
       "    <tr>\n",
       "      <th>XHBMA</th>\n",
       "      <td>0.171105</td>\n",
       "      <td>0.222618</td>\n",
       "      <td>0.742479</td>\n",
       "    </tr>\n",
       "    <tr>\n",
       "      <th>PVNSQ</th>\n",
       "      <td>0.691365</td>\n",
       "      <td>0.851851</td>\n",
       "      <td>0.456624</td>\n",
       "    </tr>\n",
       "    <tr>\n",
       "      <th>DSUDQ</th>\n",
       "      <td>0.124977</td>\n",
       "      <td>0.065939</td>\n",
       "      <td>0.035419</td>\n",
       "    </tr>\n",
       "    <tr>\n",
       "      <th>VAUBQ</th>\n",
       "      <td>0.567321</td>\n",
       "      <td>0.832183</td>\n",
       "      <td>0.579130</td>\n",
       "    </tr>\n",
       "    <tr>\n",
       "      <th>WFHYR</th>\n",
       "      <td>0.863557</td>\n",
       "      <td>0.240774</td>\n",
       "      <td>0.823490</td>\n",
       "    </tr>\n",
       "    <tr>\n",
       "      <th>KOZRX</th>\n",
       "      <td>0.682423</td>\n",
       "      <td>0.036760</td>\n",
       "      <td>0.178826</td>\n",
       "    </tr>\n",
       "    <tr>\n",
       "      <th>KZXXM</th>\n",
       "      <td>0.773329</td>\n",
       "      <td>0.876992</td>\n",
       "      <td>0.079991</td>\n",
       "    </tr>\n",
       "    <tr>\n",
       "      <th>DQVOX</th>\n",
       "      <td>0.804502</td>\n",
       "      <td>0.043582</td>\n",
       "      <td>0.730842</td>\n",
       "    </tr>\n",
       "    <tr>\n",
       "      <th>DOUUI</th>\n",
       "      <td>0.116732</td>\n",
       "      <td>0.858988</td>\n",
       "      <td>0.732503</td>\n",
       "    </tr>\n",
       "    <tr>\n",
       "      <th>SXQGF</th>\n",
       "      <td>0.093883</td>\n",
       "      <td>0.417810</td>\n",
       "      <td>0.079614</td>\n",
       "    </tr>\n",
       "    <tr>\n",
       "      <th>ZCWOH</th>\n",
       "      <td>0.394635</td>\n",
       "      <td>0.743154</td>\n",
       "      <td>0.578529</td>\n",
       "    </tr>\n",
       "    <tr>\n",
       "      <th>ZIAVV</th>\n",
       "      <td>0.969293</td>\n",
       "      <td>0.519789</td>\n",
       "      <td>0.544555</td>\n",
       "    </tr>\n",
       "    <tr>\n",
       "      <th>DMLQP</th>\n",
       "      <td>0.576365</td>\n",
       "      <td>0.732399</td>\n",
       "      <td>0.548428</td>\n",
       "    </tr>\n",
       "    <tr>\n",
       "      <th>QJVKH</th>\n",
       "      <td>0.224777</td>\n",
       "      <td>0.629425</td>\n",
       "      <td>0.854514</td>\n",
       "    </tr>\n",
       "    <tr>\n",
       "      <th>...</th>\n",
       "      <td>...</td>\n",
       "      <td>...</td>\n",
       "      <td>...</td>\n",
       "    </tr>\n",
       "    <tr>\n",
       "      <th>NFBQO</th>\n",
       "      <td>0.511235</td>\n",
       "      <td>0.739294</td>\n",
       "      <td>0.496900</td>\n",
       "    </tr>\n",
       "    <tr>\n",
       "      <th>GIXMH</th>\n",
       "      <td>0.031344</td>\n",
       "      <td>0.611753</td>\n",
       "      <td>0.415659</td>\n",
       "    </tr>\n",
       "    <tr>\n",
       "      <th>XCVKP</th>\n",
       "      <td>0.086302</td>\n",
       "      <td>0.875867</td>\n",
       "      <td>0.464729</td>\n",
       "    </tr>\n",
       "    <tr>\n",
       "      <th>DWDMM</th>\n",
       "      <td>0.581602</td>\n",
       "      <td>0.031481</td>\n",
       "      <td>0.846493</td>\n",
       "    </tr>\n",
       "    <tr>\n",
       "      <th>DBKFY</th>\n",
       "      <td>0.682386</td>\n",
       "      <td>0.523727</td>\n",
       "      <td>0.027897</td>\n",
       "    </tr>\n",
       "    <tr>\n",
       "      <th>ZVWZS</th>\n",
       "      <td>0.683859</td>\n",
       "      <td>0.405420</td>\n",
       "      <td>0.989713</td>\n",
       "    </tr>\n",
       "    <tr>\n",
       "      <th>ETQCI</th>\n",
       "      <td>0.100134</td>\n",
       "      <td>0.732404</td>\n",
       "      <td>0.799996</td>\n",
       "    </tr>\n",
       "    <tr>\n",
       "      <th>FWCNT</th>\n",
       "      <td>0.952446</td>\n",
       "      <td>0.826536</td>\n",
       "      <td>0.586283</td>\n",
       "    </tr>\n",
       "    <tr>\n",
       "      <th>LUPJS</th>\n",
       "      <td>0.488126</td>\n",
       "      <td>0.235965</td>\n",
       "      <td>0.613774</td>\n",
       "    </tr>\n",
       "    <tr>\n",
       "      <th>YEABT</th>\n",
       "      <td>0.919535</td>\n",
       "      <td>0.383449</td>\n",
       "      <td>0.686391</td>\n",
       "    </tr>\n",
       "    <tr>\n",
       "      <th>PYAGN</th>\n",
       "      <td>0.407879</td>\n",
       "      <td>0.023179</td>\n",
       "      <td>0.727355</td>\n",
       "    </tr>\n",
       "    <tr>\n",
       "      <th>HYFCN</th>\n",
       "      <td>0.405619</td>\n",
       "      <td>0.074606</td>\n",
       "      <td>0.800309</td>\n",
       "    </tr>\n",
       "    <tr>\n",
       "      <th>JHXHC</th>\n",
       "      <td>0.587447</td>\n",
       "      <td>0.903667</td>\n",
       "      <td>0.646966</td>\n",
       "    </tr>\n",
       "    <tr>\n",
       "      <th>OEWKZ</th>\n",
       "      <td>0.829095</td>\n",
       "      <td>0.485795</td>\n",
       "      <td>0.157643</td>\n",
       "    </tr>\n",
       "    <tr>\n",
       "      <th>KGNQQ</th>\n",
       "      <td>0.869176</td>\n",
       "      <td>0.144797</td>\n",
       "      <td>0.043388</td>\n",
       "    </tr>\n",
       "    <tr>\n",
       "      <th>VSQKX</th>\n",
       "      <td>0.596153</td>\n",
       "      <td>0.205906</td>\n",
       "      <td>0.230400</td>\n",
       "    </tr>\n",
       "    <tr>\n",
       "      <th>NPODI</th>\n",
       "      <td>0.561397</td>\n",
       "      <td>0.354560</td>\n",
       "      <td>0.763331</td>\n",
       "    </tr>\n",
       "    <tr>\n",
       "      <th>LCDLW</th>\n",
       "      <td>0.941065</td>\n",
       "      <td>0.431694</td>\n",
       "      <td>0.031500</td>\n",
       "    </tr>\n",
       "    <tr>\n",
       "      <th>HFHAZ</th>\n",
       "      <td>0.791601</td>\n",
       "      <td>0.971156</td>\n",
       "      <td>0.325683</td>\n",
       "    </tr>\n",
       "    <tr>\n",
       "      <th>GWZNZ</th>\n",
       "      <td>0.890584</td>\n",
       "      <td>0.361340</td>\n",
       "      <td>0.556965</td>\n",
       "    </tr>\n",
       "    <tr>\n",
       "      <th>TYNOT</th>\n",
       "      <td>0.412076</td>\n",
       "      <td>0.799181</td>\n",
       "      <td>0.751092</td>\n",
       "    </tr>\n",
       "    <tr>\n",
       "      <th>KTDTC</th>\n",
       "      <td>0.841396</td>\n",
       "      <td>0.551523</td>\n",
       "      <td>0.729407</td>\n",
       "    </tr>\n",
       "    <tr>\n",
       "      <th>VGTXP</th>\n",
       "      <td>0.874861</td>\n",
       "      <td>0.876282</td>\n",
       "      <td>0.821926</td>\n",
       "    </tr>\n",
       "    <tr>\n",
       "      <th>YOHNH</th>\n",
       "      <td>0.426229</td>\n",
       "      <td>0.414317</td>\n",
       "      <td>0.194863</td>\n",
       "    </tr>\n",
       "    <tr>\n",
       "      <th>AXPVV</th>\n",
       "      <td>0.452892</td>\n",
       "      <td>0.712935</td>\n",
       "      <td>0.672885</td>\n",
       "    </tr>\n",
       "    <tr>\n",
       "      <th>NELJF</th>\n",
       "      <td>0.195916</td>\n",
       "      <td>0.270114</td>\n",
       "      <td>0.933271</td>\n",
       "    </tr>\n",
       "    <tr>\n",
       "      <th>KUECW</th>\n",
       "      <td>0.307901</td>\n",
       "      <td>0.848315</td>\n",
       "      <td>0.143100</td>\n",
       "    </tr>\n",
       "    <tr>\n",
       "      <th>BTGAL</th>\n",
       "      <td>0.518962</td>\n",
       "      <td>0.150577</td>\n",
       "      <td>0.709564</td>\n",
       "    </tr>\n",
       "    <tr>\n",
       "      <th>VMIXC</th>\n",
       "      <td>0.944364</td>\n",
       "      <td>0.399372</td>\n",
       "      <td>0.883147</td>\n",
       "    </tr>\n",
       "    <tr>\n",
       "      <th>QAHSC</th>\n",
       "      <td>0.890302</td>\n",
       "      <td>0.719278</td>\n",
       "      <td>0.596699</td>\n",
       "    </tr>\n",
       "    <tr>\n",
       "      <th>VWJVC</th>\n",
       "      <td>0.635183</td>\n",
       "      <td>0.278636</td>\n",
       "      <td>0.615433</td>\n",
       "    </tr>\n",
       "    <tr>\n",
       "      <th>RTVCA</th>\n",
       "      <td>0.466463</td>\n",
       "      <td>0.248713</td>\n",
       "      <td>0.267657</td>\n",
       "    </tr>\n",
       "    <tr>\n",
       "      <th>AEGXS</th>\n",
       "      <td>0.985768</td>\n",
       "      <td>0.511554</td>\n",
       "      <td>0.898837</td>\n",
       "    </tr>\n",
       "    <tr>\n",
       "      <th>VYSHG</th>\n",
       "      <td>0.378173</td>\n",
       "      <td>0.148686</td>\n",
       "      <td>0.125986</td>\n",
       "    </tr>\n",
       "    <tr>\n",
       "      <th>ZRTMY</th>\n",
       "      <td>0.892403</td>\n",
       "      <td>0.462377</td>\n",
       "      <td>0.593728</td>\n",
       "    </tr>\n",
       "    <tr>\n",
       "      <th>YUWGT</th>\n",
       "      <td>0.422613</td>\n",
       "      <td>0.289257</td>\n",
       "      <td>0.377913</td>\n",
       "    </tr>\n",
       "    <tr>\n",
       "      <th>ZGGJQ</th>\n",
       "      <td>0.733364</td>\n",
       "      <td>0.353517</td>\n",
       "      <td>0.351049</td>\n",
       "    </tr>\n",
       "    <tr>\n",
       "      <th>HDTMN</th>\n",
       "      <td>0.879128</td>\n",
       "      <td>0.491494</td>\n",
       "      <td>0.875316</td>\n",
       "    </tr>\n",
       "    <tr>\n",
       "      <th>MZLKZ</th>\n",
       "      <td>0.503447</td>\n",
       "      <td>0.556973</td>\n",
       "      <td>0.186328</td>\n",
       "    </tr>\n",
       "    <tr>\n",
       "      <th>ZNVHT</th>\n",
       "      <td>0.921361</td>\n",
       "      <td>0.893734</td>\n",
       "      <td>0.846065</td>\n",
       "    </tr>\n",
       "    <tr>\n",
       "      <th>GMCLD</th>\n",
       "      <td>0.859081</td>\n",
       "      <td>0.885781</td>\n",
       "      <td>0.342679</td>\n",
       "    </tr>\n",
       "    <tr>\n",
       "      <th>JRNBV</th>\n",
       "      <td>0.733837</td>\n",
       "      <td>0.568917</td>\n",
       "      <td>0.105750</td>\n",
       "    </tr>\n",
       "    <tr>\n",
       "      <th>LKVOU</th>\n",
       "      <td>0.789904</td>\n",
       "      <td>0.604620</td>\n",
       "      <td>0.089430</td>\n",
       "    </tr>\n",
       "    <tr>\n",
       "      <th>AZEME</th>\n",
       "      <td>0.610220</td>\n",
       "      <td>0.108884</td>\n",
       "      <td>0.632632</td>\n",
       "    </tr>\n",
       "    <tr>\n",
       "      <th>PUQQG</th>\n",
       "      <td>0.221228</td>\n",
       "      <td>0.241521</td>\n",
       "      <td>0.129162</td>\n",
       "    </tr>\n",
       "    <tr>\n",
       "      <th>XZHYB</th>\n",
       "      <td>0.994148</td>\n",
       "      <td>0.096528</td>\n",
       "      <td>0.282916</td>\n",
       "    </tr>\n",
       "    <tr>\n",
       "      <th>VESRG</th>\n",
       "      <td>0.906529</td>\n",
       "      <td>0.261134</td>\n",
       "      <td>0.174794</td>\n",
       "    </tr>\n",
       "    <tr>\n",
       "      <th>ARPWX</th>\n",
       "      <td>0.656523</td>\n",
       "      <td>0.952333</td>\n",
       "      <td>0.377645</td>\n",
       "    </tr>\n",
       "    <tr>\n",
       "      <th>PMUCA</th>\n",
       "      <td>0.775668</td>\n",
       "      <td>0.593376</td>\n",
       "      <td>0.720276</td>\n",
       "    </tr>\n",
       "    <tr>\n",
       "      <th>YPVZL</th>\n",
       "      <td>0.493149</td>\n",
       "      <td>0.230171</td>\n",
       "      <td>0.262245</td>\n",
       "    </tr>\n",
       "  </tbody>\n",
       "</table>\n",
       "<p>1000 rows × 3 columns</p>\n",
       "</div>"
      ],
      "text/plain": [
       "             f1        f2        f3\n",
       "FZFPV  0.265639  0.075042  0.623549\n",
       "DTPES  0.928075  0.606129  0.121780\n",
       "UJKFH  0.723554  0.672966  0.175533\n",
       "YKCGU  0.397491  0.492140  0.487649\n",
       "XAYZH  0.167037  0.052508  0.824024\n",
       "XKGUD  0.935998  0.153964  0.751013\n",
       "RACXM  0.884392  0.355995  0.484717\n",
       "ADOXQ  0.397835  0.209999  0.778081\n",
       "WIEAP  0.971362  0.300408  0.939537\n",
       "FYNCS  0.963876  0.816643  0.541790\n",
       "MTSHZ  0.443230  0.134781  0.178255\n",
       "OMLRE  0.116055  0.335071  0.367684\n",
       "OCNQR  0.125795  0.464679  0.049747\n",
       "XRHDX  0.838966  0.089336  0.841383\n",
       "TASQL  0.269079  0.732308  0.660539\n",
       "PVKPP  0.674520  0.544443  0.571214\n",
       "IVPZY  0.669450  0.887890  0.624449\n",
       "VOLSW  0.782693  0.905052  0.880894\n",
       "FEZAR  0.707902  0.968558  0.232684\n",
       "PMAJQ  0.138977  0.474286  0.112594\n",
       "QVNVN  0.633033  0.441609  0.109232\n",
       "EHYML  0.229385  0.549903  0.608799\n",
       "UNKRX  0.882514  0.198014  0.474800\n",
       "ENSNC  0.209917  0.001187  0.089083\n",
       "ZHLDR  0.640543  0.180974  0.992550\n",
       "IVBAI  0.841518  0.249473  0.013671\n",
       "PRBQK  0.237100  0.638404  0.329988\n",
       "AGSGC  0.232973  0.679667  0.986714\n",
       "SVXRV  0.982908  0.979891  0.345168\n",
       "DBEKB  0.385321  0.771988  0.337900\n",
       "BKQRA  0.547456  0.695407  0.007959\n",
       "COIXS  0.776022  0.063251  0.658006\n",
       "JPHKQ  0.049126  0.196378  0.553400\n",
       "AVAXF  0.322165  0.801439  0.069410\n",
       "TMUIV  0.324377  0.428030  0.694194\n",
       "OLSES  0.900552  0.148062  0.478495\n",
       "XHBMA  0.171105  0.222618  0.742479\n",
       "PVNSQ  0.691365  0.851851  0.456624\n",
       "DSUDQ  0.124977  0.065939  0.035419\n",
       "VAUBQ  0.567321  0.832183  0.579130\n",
       "WFHYR  0.863557  0.240774  0.823490\n",
       "KOZRX  0.682423  0.036760  0.178826\n",
       "KZXXM  0.773329  0.876992  0.079991\n",
       "DQVOX  0.804502  0.043582  0.730842\n",
       "DOUUI  0.116732  0.858988  0.732503\n",
       "SXQGF  0.093883  0.417810  0.079614\n",
       "ZCWOH  0.394635  0.743154  0.578529\n",
       "ZIAVV  0.969293  0.519789  0.544555\n",
       "DMLQP  0.576365  0.732399  0.548428\n",
       "QJVKH  0.224777  0.629425  0.854514\n",
       "...         ...       ...       ...\n",
       "NFBQO  0.511235  0.739294  0.496900\n",
       "GIXMH  0.031344  0.611753  0.415659\n",
       "XCVKP  0.086302  0.875867  0.464729\n",
       "DWDMM  0.581602  0.031481  0.846493\n",
       "DBKFY  0.682386  0.523727  0.027897\n",
       "ZVWZS  0.683859  0.405420  0.989713\n",
       "ETQCI  0.100134  0.732404  0.799996\n",
       "FWCNT  0.952446  0.826536  0.586283\n",
       "LUPJS  0.488126  0.235965  0.613774\n",
       "YEABT  0.919535  0.383449  0.686391\n",
       "PYAGN  0.407879  0.023179  0.727355\n",
       "HYFCN  0.405619  0.074606  0.800309\n",
       "JHXHC  0.587447  0.903667  0.646966\n",
       "OEWKZ  0.829095  0.485795  0.157643\n",
       "KGNQQ  0.869176  0.144797  0.043388\n",
       "VSQKX  0.596153  0.205906  0.230400\n",
       "NPODI  0.561397  0.354560  0.763331\n",
       "LCDLW  0.941065  0.431694  0.031500\n",
       "HFHAZ  0.791601  0.971156  0.325683\n",
       "GWZNZ  0.890584  0.361340  0.556965\n",
       "TYNOT  0.412076  0.799181  0.751092\n",
       "KTDTC  0.841396  0.551523  0.729407\n",
       "VGTXP  0.874861  0.876282  0.821926\n",
       "YOHNH  0.426229  0.414317  0.194863\n",
       "AXPVV  0.452892  0.712935  0.672885\n",
       "NELJF  0.195916  0.270114  0.933271\n",
       "KUECW  0.307901  0.848315  0.143100\n",
       "BTGAL  0.518962  0.150577  0.709564\n",
       "VMIXC  0.944364  0.399372  0.883147\n",
       "QAHSC  0.890302  0.719278  0.596699\n",
       "VWJVC  0.635183  0.278636  0.615433\n",
       "RTVCA  0.466463  0.248713  0.267657\n",
       "AEGXS  0.985768  0.511554  0.898837\n",
       "VYSHG  0.378173  0.148686  0.125986\n",
       "ZRTMY  0.892403  0.462377  0.593728\n",
       "YUWGT  0.422613  0.289257  0.377913\n",
       "ZGGJQ  0.733364  0.353517  0.351049\n",
       "HDTMN  0.879128  0.491494  0.875316\n",
       "MZLKZ  0.503447  0.556973  0.186328\n",
       "ZNVHT  0.921361  0.893734  0.846065\n",
       "GMCLD  0.859081  0.885781  0.342679\n",
       "JRNBV  0.733837  0.568917  0.105750\n",
       "LKVOU  0.789904  0.604620  0.089430\n",
       "AZEME  0.610220  0.108884  0.632632\n",
       "PUQQG  0.221228  0.241521  0.129162\n",
       "XZHYB  0.994148  0.096528  0.282916\n",
       "VESRG  0.906529  0.261134  0.174794\n",
       "ARPWX  0.656523  0.952333  0.377645\n",
       "PMUCA  0.775668  0.593376  0.720276\n",
       "YPVZL  0.493149  0.230171  0.262245\n",
       "\n",
       "[1000 rows x 3 columns]"
      ]
     },
     "execution_count": 16,
     "metadata": {},
     "output_type": "execute_result"
    }
   ],
   "source": [
    "factors"
   ]
  },
  {
   "cell_type": "code",
   "execution_count": 17,
   "metadata": {},
   "outputs": [
    {
     "data": {
      "text/plain": [
       "f1    0.402377\n",
       "f2   -0.680980\n",
       "f3    0.168083\n",
       "dtype: float64"
      ]
     },
     "execution_count": 17,
     "metadata": {},
     "output_type": "execute_result"
    }
   ],
   "source": [
    "factors.corrwith(port)"
   ]
  },
  {
   "cell_type": "code",
   "execution_count": 18,
   "metadata": {},
   "outputs": [
    {
     "ename": "AttributeError",
     "evalue": "module 'pandas' has no attribute 'ols'",
     "output_type": "error",
     "traceback": [
      "\u001b[1;31m---------------------------------------------------------------------------\u001b[0m",
      "\u001b[1;31mAttributeError\u001b[0m                            Traceback (most recent call last)",
      "\u001b[1;32m<ipython-input-18-4d8d3825489b>\u001b[0m in \u001b[0;36m<module>\u001b[1;34m()\u001b[0m\n\u001b[1;32m----> 1\u001b[1;33m \u001b[0mpd\u001b[0m\u001b[1;33m.\u001b[0m\u001b[0mols\u001b[0m\u001b[1;33m(\u001b[0m\u001b[0my\u001b[0m\u001b[1;33m=\u001b[0m\u001b[0mport\u001b[0m\u001b[1;33m,\u001b[0m \u001b[0mx\u001b[0m\u001b[1;33m=\u001b[0m\u001b[0mfactors\u001b[0m\u001b[1;33m)\u001b[0m\u001b[1;33m.\u001b[0m\u001b[0mbeta\u001b[0m\u001b[1;33m\u001b[0m\u001b[0m\n\u001b[0m",
      "\u001b[1;31mAttributeError\u001b[0m: module 'pandas' has no attribute 'ols'"
     ]
    }
   ],
   "source": [
    "pd.ols(y=port, x=factors).beta"
   ]
  },
  {
   "cell_type": "code",
   "execution_count": 48,
   "metadata": {},
   "outputs": [
    {
     "data": {
      "text/plain": [
       "array([ 1.0676, -0.9296,  0.572 ])"
      ]
     },
     "execution_count": 48,
     "metadata": {},
     "output_type": "execute_result"
    }
   ],
   "source": [
    "import statsmodels.api as sm\n",
    "X=factors.values\n",
    "Y=port.values\n",
    "sm.OLS(Y, X).fit().params"
   ]
  },
  {
   "cell_type": "code",
   "execution_count": 54,
   "metadata": {
    "collapsed": true
   },
   "outputs": [],
   "source": [
    "def beta_exposure(chunk, factors=None):\n",
    "    return pd.ols(y=chunk, x=factors).beta"
   ]
  },
  {
   "cell_type": "code",
   "execution_count": 55,
   "metadata": {
    "collapsed": true
   },
   "outputs": [],
   "source": [
    "def beta_exposure(chunk, factors=None):\n",
    "    return sm.OLS(Y=chunk, X=factors).fit().params"
   ]
  },
  {
   "cell_type": "code",
   "execution_count": 56,
   "metadata": {},
   "outputs": [
    {
     "data": {
      "text/plain": [
       "<pandas.core.groupby.SeriesGroupBy object at 0x000001AEE5E81A90>"
      ]
     },
     "execution_count": 56,
     "metadata": {},
     "output_type": "execute_result"
    }
   ],
   "source": [
    "by_ind = port.groupby(industries)\n",
    "by_ind"
   ]
  },
  {
   "cell_type": "code",
   "execution_count": 61,
   "metadata": {},
   "outputs": [
    {
     "ename": "TypeError",
     "evalue": "__init__() missing 1 required positional argument: 'endog'",
     "output_type": "error",
     "traceback": [
      "\u001b[1;31m---------------------------------------------------------------------------\u001b[0m",
      "\u001b[1;31mTypeError\u001b[0m                                 Traceback (most recent call last)",
      "\u001b[1;32m<ipython-input-61-9ae084689d5d>\u001b[0m in \u001b[0;36m<module>\u001b[1;34m()\u001b[0m\n\u001b[0;32m      1\u001b[0m \u001b[0mby_ind\u001b[0m \u001b[1;33m=\u001b[0m \u001b[0mport\u001b[0m\u001b[1;33m.\u001b[0m\u001b[0mgroupby\u001b[0m\u001b[1;33m(\u001b[0m\u001b[0mindustries\u001b[0m\u001b[1;33m)\u001b[0m\u001b[1;33m\u001b[0m\u001b[0m\n\u001b[1;32m----> 2\u001b[1;33m \u001b[0mexposures\u001b[0m \u001b[1;33m=\u001b[0m \u001b[0mby_ind\u001b[0m\u001b[1;33m.\u001b[0m\u001b[0mapply\u001b[0m\u001b[1;33m(\u001b[0m\u001b[0mbeta_exposure\u001b[0m\u001b[1;33m(\u001b[0m\u001b[0mY\u001b[0m\u001b[1;33m,\u001b[0m\u001b[0mX\u001b[0m\u001b[1;33m)\u001b[0m\u001b[1;33m)\u001b[0m\u001b[1;33m\u001b[0m\u001b[0m\n\u001b[0m\u001b[0;32m      3\u001b[0m \u001b[0mexposures\u001b[0m\u001b[1;33m.\u001b[0m\u001b[0munstack\u001b[0m\u001b[1;33m(\u001b[0m\u001b[1;33m)\u001b[0m\u001b[1;33m\u001b[0m\u001b[0m\n",
      "\u001b[1;32m<ipython-input-55-1deb00aac857>\u001b[0m in \u001b[0;36mbeta_exposure\u001b[1;34m(chunk, factors)\u001b[0m\n\u001b[0;32m      1\u001b[0m \u001b[1;32mdef\u001b[0m \u001b[0mbeta_exposure\u001b[0m\u001b[1;33m(\u001b[0m\u001b[0mchunk\u001b[0m\u001b[1;33m,\u001b[0m \u001b[0mfactors\u001b[0m\u001b[1;33m=\u001b[0m\u001b[1;32mNone\u001b[0m\u001b[1;33m)\u001b[0m\u001b[1;33m:\u001b[0m\u001b[1;33m\u001b[0m\u001b[0m\n\u001b[1;32m----> 2\u001b[1;33m     \u001b[1;32mreturn\u001b[0m \u001b[0msm\u001b[0m\u001b[1;33m.\u001b[0m\u001b[0mOLS\u001b[0m\u001b[1;33m(\u001b[0m\u001b[0mY\u001b[0m\u001b[1;33m=\u001b[0m\u001b[0mchunk\u001b[0m\u001b[1;33m,\u001b[0m \u001b[0mX\u001b[0m\u001b[1;33m=\u001b[0m\u001b[0mfactors\u001b[0m\u001b[1;33m)\u001b[0m\u001b[1;33m.\u001b[0m\u001b[0mfit\u001b[0m\u001b[1;33m(\u001b[0m\u001b[1;33m)\u001b[0m\u001b[1;33m.\u001b[0m\u001b[0mparams\u001b[0m\u001b[1;33m\u001b[0m\u001b[0m\n\u001b[0m",
      "\u001b[1;31mTypeError\u001b[0m: __init__() missing 1 required positional argument: 'endog'"
     ]
    }
   ],
   "source": [
    "by_ind = port.groupby(industries)\n",
    "exposures = by_ind.apply(beta_exposure(Y,X))\n",
    "exposures.unstack()"
   ]
  },
  {
   "cell_type": "markdown",
   "metadata": {},
   "source": [
    "### Decile and quartile analysis\n",
    "\n",
    "yahoo financeのデータ構造は2017年5月のトラブル以降変化しました。\n",
    "open high low closeは以前は生データでadj_closeのみが配当調整、分割調整されていました。\n",
    "\n",
    "今は\n",
    "open high low closeは分割調節されています。\n"
   ]
  },
  {
   "cell_type": "code",
   "execution_count": 360,
   "metadata": {},
   "outputs": [
    {
     "name": "stdout",
     "output_type": "stream",
     "text": [
      "<class 'pandas.core.frame.DataFrame'>\n",
      "DatetimeIndex: 2962 entries, 2006-01-03 to 2017-10-06\n",
      "Data columns (total 6 columns):\n",
      "Open         2962 non-null float64\n",
      "High         2962 non-null float64\n",
      "Low          2962 non-null float64\n",
      "Close        2962 non-null float64\n",
      "Adj Close    2962 non-null float64\n",
      "Volume       2962 non-null int64\n",
      "dtypes: float64(5), int64(1)\n",
      "memory usage: 162.0 KB\n"
     ]
    }
   ],
   "source": [
    "#import pandas.io.data as web\n",
    "data = web.get_data_yahoo('SPY', '2006-01-01')\n",
    "data.info()"
   ]
  },
  {
   "cell_type": "markdown",
   "metadata": {},
   "source": [
    "<pre>\n",
    "DataFrame.idxmax(axis=0, skipna=True)[source]¶\n",
    "Return index of first occurrence of maximum over requested axis. NA/null values are excluded.\n",
    "\n",
    "This method is the DataFrame version of ndarray.argmax.\n",
    "</pre>"
   ]
  },
  {
   "cell_type": "code",
   "execution_count": 317,
   "metadata": {
    "collapsed": true
   },
   "outputs": [],
   "source": [
    "\"\"\"\n",
    "px = data['Adj Close']\n",
    "returns = px.pct_change()\n",
    "\n",
    "def to_index(rets):\n",
    "    index = (1 + rets).cumprod()\n",
    "    first_loc = max(index.index.get_loc(index.idxmax()) - 1, 0)\n",
    "    index.values[first_loc] = 1\n",
    "    return index\n",
    "\n",
    "def trend_signal(rets, lookback, lag):\n",
    "    signal = pd.rolling_sum(rets, lookback, min_periods=lookback - 5)\n",
    "    return signal.shift(lag)\n",
    "\"\"\""
   ]
  },
  {
   "cell_type": "markdown",
   "metadata": {},
   "source": [
    "このシグナルを用いてこのモメンタムシグナルのトレード戦略を金曜日毎に行いテストすることができる。"
   ]
  },
  {
   "cell_type": "code",
   "execution_count": 336,
   "metadata": {
    "collapsed": true
   },
   "outputs": [],
   "source": [
    "px = data['Adj Close']\n",
    "returns = px.pct_change()\n",
    "\n",
    "def to_index(rets):\n",
    "    index = (1 + rets).cumprod()\n",
    "    first_loc = max(index.index.get_loc(index.idxmax()) - 1, 0)\n",
    "    index.values[first_loc] = 1\n",
    "    return index\n",
    "\n",
    "def trend_signal(rets, lookback, lag):\n",
    "    signal = rets.rolling(lookback, min_periods=lookback - 5).sum()\n",
    "    return signal.shift(lag)"
   ]
  },
  {
   "cell_type": "code",
   "execution_count": 337,
   "metadata": {},
   "outputs": [
    {
     "data": {
      "text/plain": [
       "Date\n",
       "2006-01-03         NaN\n",
       "2006-01-04    1.004736\n",
       "2006-01-05    1.005367\n",
       "2006-01-06    1.013733\n",
       "2006-01-09    1.016338\n",
       "                ...   \n",
       "2017-10-02    2.533155\n",
       "2017-10-03    2.538577\n",
       "2017-10-04    2.541588\n",
       "2017-10-05    2.556648\n",
       "2017-10-06    2.553736\n",
       "Name: Adj Close, Length: 2962, dtype: float64"
      ]
     },
     "execution_count": 337,
     "metadata": {},
     "output_type": "execute_result"
    }
   ],
   "source": [
    "index = (1 + returns).cumprod()\n",
    "index"
   ]
  },
  {
   "cell_type": "markdown",
   "metadata": {},
   "source": [
    "Index.get_loc(key, method=None, tolerance=None)\n",
    "\n",
    "Get integer location for requested label."
   ]
  },
  {
   "cell_type": "code",
   "execution_count": 338,
   "metadata": {},
   "outputs": [
    {
     "data": {
      "text/plain": [
       "2.5415884317048354"
      ]
     },
     "execution_count": 338,
     "metadata": {},
     "output_type": "execute_result"
    }
   ],
   "source": [
    "    first_loc = max(index.index.get_loc(index.idxmax()) - 1, 0)\n",
    "    index[first_loc]"
   ]
  },
  {
   "cell_type": "code",
   "execution_count": 339,
   "metadata": {},
   "outputs": [
    {
     "name": "stderr",
     "output_type": "stream",
     "text": [
      "C:\\Users\\moriya\\Anaconda3\\lib\\site-packages\\ipykernel_launcher.py:2: FutureWarning: \n",
      ".resample() is now a deferred operation\n",
      "You called resample(...) on this deferred object which materialized it into a series\n",
      "by implicitly taking the mean.  Use .resample(...).mean() instead\n",
      "  \n",
      "C:\\Users\\moriya\\Anaconda3\\lib\\site-packages\\ipykernel_launcher.py:2: FutureWarning: fill_method is deprecated to .resample()\n",
      "the new syntax is .resample(...).ffill()\n",
      "  \n"
     ]
    }
   ],
   "source": [
    "\"\"\"\n",
    "signal = trend_signal(returns, 100, 3)\n",
    "trade_friday = signal.resample('W-FRI').resample('B', fill_method='ffill')\n",
    "trade_rets = trade_friday.shift(1) * returns\n",
    "trade_rets = trade_rets[:len(returns)]\n",
    "\"\"\""
   ]
  },
  {
   "cell_type": "code",
   "execution_count": 361,
   "metadata": {},
   "outputs": [
    {
     "data": {
      "text/plain": [
       "<matplotlib.axes._subplots.AxesSubplot at 0x1ae8150a6d8>"
      ]
     },
     "execution_count": 361,
     "metadata": {},
     "output_type": "execute_result"
    },
    {
     "data": {
      "image/png": "[encoded data removed]",
      "text/plain": [
       "<matplotlib.figure.Figure at 0x1ae8172c390>"
      ]
     },
     "metadata": {},
     "output_type": "display_data"
    }
   ],
   "source": [
    "returns.plot()"
   ]
  },
  {
   "cell_type": "code",
   "execution_count": 362,
   "metadata": {},
   "outputs": [
    {
     "data": {
      "text/plain": [
       "<matplotlib.axes._subplots.AxesSubplot at 0x1ae8becb1d0>"
      ]
     },
     "execution_count": 362,
     "metadata": {},
     "output_type": "execute_result"
    },
    {
     "data": {
      "image/png": "[encoded data removed]",
      "text/plain": [
       "<matplotlib.figure.Figure at 0x1ae8172c3c8>"
      ]
     },
     "metadata": {},
     "output_type": "display_data"
    }
   ],
   "source": [
    "lookback=100    \n",
    "signal = returns.rolling(lookback, min_periods=lookback - 5).sum()\n",
    "signal.shift(3).plot()"
   ]
  },
  {
   "cell_type": "code",
   "execution_count": 363,
   "metadata": {},
   "outputs": [
    {
     "data": {
      "text/plain": [
       "<matplotlib.axes._subplots.AxesSubplot at 0x1ae8172c400>"
      ]
     },
     "execution_count": 363,
     "metadata": {},
     "output_type": "execute_result"
    },
    {
     "data": {
      "image/png": "[encoded data removed]",
      "text/plain": [
       "<matplotlib.figure.Figure at 0x1aeeab56160>"
      ]
     },
     "metadata": {},
     "output_type": "display_data"
    }
   ],
   "source": [
    "signal = trend_signal(returns, 100, 3)\n",
    "signal.plot()"
   ]
  },
  {
   "cell_type": "code",
   "execution_count": 364,
   "metadata": {},
   "outputs": [
    {
     "data": {
      "text/plain": [
       "<matplotlib.axes._subplots.AxesSubplot at 0x1aeeadfd6d8>"
      ]
     },
     "execution_count": 364,
     "metadata": {},
     "output_type": "execute_result"
    },
    {
     "data": {
      "image/png": "[encoded data removed]",
      "text/plain": [
       "<matplotlib.figure.Figure at 0x1aeeadf2518>"
      ]
     },
     "metadata": {},
     "output_type": "display_data"
    }
   ],
   "source": [
    "trade_friday = signal.resample('W-FRI').last().resample('B').ffill()#, fill_method='ffill')\n",
    "trade_friday.plot()"
   ]
  },
  {
   "cell_type": "code",
   "execution_count": 365,
   "metadata": {},
   "outputs": [
    {
     "data": {
      "text/plain": [
       "<matplotlib.axes._subplots.AxesSubplot at 0x1ae8b5f3cc0>"
      ]
     },
     "execution_count": 365,
     "metadata": {},
     "output_type": "execute_result"
    },
    {
     "data": {
      "image/png": "[encoded data removed]",
      "text/plain": [
       "<matplotlib.figure.Figure at 0x1ae83a91d30>"
      ]
     },
     "metadata": {},
     "output_type": "display_data"
    }
   ],
   "source": [
    "trade_rets = trade_friday.shift(1) * returns\n",
    "trade_rets.plot()"
   ]
  },
  {
   "cell_type": "code",
   "execution_count": 366,
   "metadata": {},
   "outputs": [
    {
     "data": {
      "text/plain": [
       "<matplotlib.axes._subplots.AxesSubplot at 0x1ae810a1e10>"
      ]
     },
     "execution_count": 366,
     "metadata": {},
     "output_type": "execute_result"
    },
    {
     "data": {
      "image/png": "[encoded data removed]",
      "text/plain": [
       "<matplotlib.figure.Figure at 0x1aeead4e518>"
      ]
     },
     "metadata": {},
     "output_type": "display_data"
    }
   ],
   "source": [
    "trade_rets = trade_rets[:len(returns)]\n",
    "trade_rets.plot()"
   ]
  },
  {
   "cell_type": "code",
   "execution_count": 348,
   "metadata": {},
   "outputs": [
    {
     "data": {
      "text/plain": [
       "<matplotlib.axes._subplots.AxesSubplot at 0x1ae816bd908>"
      ]
     },
     "execution_count": 348,
     "metadata": {},
     "output_type": "execute_result"
    },
    {
     "data": {
      "image/png": "[encoded data removed]",
      "text/plain": [
       "<matplotlib.figure.Figure at 0x1aeeacb95f8>"
      ]
     },
     "metadata": {},
     "output_type": "display_data"
    }
   ],
   "source": [
    "to_index(trade_rets).plot()"
   ]
  },
  {
   "cell_type": "code",
   "execution_count": 317,
   "metadata": {
    "collapsed": true
   },
   "outputs": [],
   "source": [
    "\"\"\"\n",
    "def to_index(rets):\n",
    "    index = (1 + rets).cumprod()\n",
    "    first_loc = max(index.index.get_loc(index.idxmax()) - 1, 0)\n",
    "    index.values[first_loc] = 1\n",
    "    return index\n",
    "\"\"\""
   ]
  },
  {
   "cell_type": "code",
   "execution_count": 367,
   "metadata": {},
   "outputs": [
    {
     "data": {
      "text/plain": [
       "<matplotlib.axes._subplots.AxesSubplot at 0x1ae810ee978>"
      ]
     },
     "execution_count": 367,
     "metadata": {},
     "output_type": "execute_result"
    },
    {
     "data": {
      "image/png": "[encoded data removed]",
      "text/plain": [
       "<matplotlib.figure.Figure at 0x1ae813ef550>"
      ]
     },
     "metadata": {},
     "output_type": "display_data"
    }
   ],
   "source": [
    "index = (1 + trade_rets).cumprod()\n",
    "index.plot()"
   ]
  },
  {
   "cell_type": "code",
   "execution_count": 368,
   "metadata": {},
   "outputs": [
    {
     "data": {
      "text/plain": [
       "828"
      ]
     },
     "execution_count": 368,
     "metadata": {},
     "output_type": "execute_result"
    }
   ],
   "source": [
    "first_loc = max(index.index.get_loc(index.idxmax()) - 1, 0)\n",
    "first_loc"
   ]
  },
  {
   "cell_type": "code",
   "execution_count": 369,
   "metadata": {},
   "outputs": [
    {
     "data": {
      "text/plain": [
       "1.0795151143821187"
      ]
     },
     "execution_count": 369,
     "metadata": {},
     "output_type": "execute_result"
    }
   ],
   "source": [
    "index.values[first_loc]"
   ]
  },
  {
   "cell_type": "code",
   "execution_count": 329,
   "metadata": {
    "collapsed": true
   },
   "outputs": [],
   "source": [
    "vol = returns.rolling( 250, min_periods=200).std() * np.sqrt(250)\n",
    "\n",
    "def sharpe(rets, ann=250):\n",
    "    return rets.mean() / rets.std()  * np.sqrt(ann)"
   ]
  },
  {
   "cell_type": "code",
   "execution_count": 330,
   "metadata": {},
   "outputs": [
    {
     "name": "stdout",
     "output_type": "stream",
     "text": [
      "cats: 2962, trade_rets: 2962, vol: 2962\n"
     ]
    }
   ],
   "source": [
    "cats = pd.qcut(vol, 4)\n",
    "print('cats: %d, trade_rets: %d, vol: %d' % (len(cats), len(trade_rets), len(vol)))"
   ]
  },
  {
   "cell_type": "code",
   "execution_count": 331,
   "metadata": {},
   "outputs": [
    {
     "data": {
      "text/plain": [
       "Adj Close\n",
       "(0.0733, 0.114]    40.921700\n",
       "(0.114, 0.152]     16.755309\n",
       "(0.152, 0.192]      5.775717\n",
       "(0.192, 0.457]      0.690041\n",
       "Name: Adj Close, dtype: float64"
      ]
     },
     "execution_count": 331,
     "metadata": {},
     "output_type": "execute_result"
    }
   ],
   "source": [
    "trade_rets.groupby(cats).agg(sharpe)"
   ]
  },
  {
   "cell_type": "markdown",
   "metadata": {},
   "source": [
    "## More example applications"
   ]
  },
  {
   "cell_type": "markdown",
   "metadata": {},
   "source": [
    "### Signal frontier analysis"
   ]
  },
  {
   "cell_type": "code",
   "execution_count": 219,
   "metadata": {},
   "outputs": [
    {
     "data": {
      "text/html": [
       "<div>\n",
       "<style>\n",
       "    .dataframe thead tr:only-child th {\n",
       "        text-align: right;\n",
       "    }\n",
       "\n",
       "    .dataframe thead th {\n",
       "        text-align: left;\n",
       "    }\n",
       "\n",
       "    .dataframe tbody tr th {\n",
       "        vertical-align: top;\n",
       "    }\n",
       "</style>\n",
       "<table border=\"1\" class=\"dataframe\">\n",
       "  <thead>\n",
       "    <tr style=\"text-align: right;\">\n",
       "      <th></th>\n",
       "      <th>AAPL</th>\n",
       "      <th>GS</th>\n",
       "      <th>MSFT</th>\n",
       "    </tr>\n",
       "    <tr>\n",
       "      <th>Date</th>\n",
       "      <th></th>\n",
       "      <th></th>\n",
       "      <th></th>\n",
       "    </tr>\n",
       "  </thead>\n",
       "  <tbody>\n",
       "    <tr>\n",
       "      <th>2009-12-31</th>\n",
       "      <td>30.104286</td>\n",
       "      <td>168.839996</td>\n",
       "      <td>30.480000</td>\n",
       "    </tr>\n",
       "    <tr>\n",
       "      <th>2010-01-04</th>\n",
       "      <td>30.572857</td>\n",
       "      <td>173.080002</td>\n",
       "      <td>30.950001</td>\n",
       "    </tr>\n",
       "    <tr>\n",
       "      <th>2010-01-05</th>\n",
       "      <td>30.625713</td>\n",
       "      <td>176.139999</td>\n",
       "      <td>30.959999</td>\n",
       "    </tr>\n",
       "    <tr>\n",
       "      <th>2010-01-06</th>\n",
       "      <td>30.138571</td>\n",
       "      <td>174.259995</td>\n",
       "      <td>30.770000</td>\n",
       "    </tr>\n",
       "    <tr>\n",
       "      <th>2010-01-07</th>\n",
       "      <td>30.082857</td>\n",
       "      <td>177.669998</td>\n",
       "      <td>30.450001</td>\n",
       "    </tr>\n",
       "    <tr>\n",
       "      <th>...</th>\n",
       "      <td>...</td>\n",
       "      <td>...</td>\n",
       "      <td>...</td>\n",
       "    </tr>\n",
       "    <tr>\n",
       "      <th>2017-10-02</th>\n",
       "      <td>153.809998</td>\n",
       "      <td>240.649994</td>\n",
       "      <td>74.610001</td>\n",
       "    </tr>\n",
       "    <tr>\n",
       "      <th>2017-10-03</th>\n",
       "      <td>154.479996</td>\n",
       "      <td>241.619995</td>\n",
       "      <td>74.260002</td>\n",
       "    </tr>\n",
       "    <tr>\n",
       "      <th>2017-10-04</th>\n",
       "      <td>153.479996</td>\n",
       "      <td>240.309998</td>\n",
       "      <td>74.690002</td>\n",
       "    </tr>\n",
       "    <tr>\n",
       "      <th>2017-10-05</th>\n",
       "      <td>155.389999</td>\n",
       "      <td>246.059998</td>\n",
       "      <td>75.970001</td>\n",
       "    </tr>\n",
       "    <tr>\n",
       "      <th>2017-10-06</th>\n",
       "      <td>155.300003</td>\n",
       "      <td>246.020004</td>\n",
       "      <td>76.000000</td>\n",
       "    </tr>\n",
       "  </tbody>\n",
       "</table>\n",
       "<p>1956 rows × 3 columns</p>\n",
       "</div>"
      ],
      "text/plain": [
       "                  AAPL          GS       MSFT\n",
       "Date                                         \n",
       "2009-12-31   30.104286  168.839996  30.480000\n",
       "2010-01-04   30.572857  173.080002  30.950001\n",
       "2010-01-05   30.625713  176.139999  30.959999\n",
       "2010-01-06   30.138571  174.259995  30.770000\n",
       "2010-01-07   30.082857  177.669998  30.450001\n",
       "...                ...         ...        ...\n",
       "2017-10-02  153.809998  240.649994  74.610001\n",
       "2017-10-03  154.479996  241.619995  74.260002\n",
       "2017-10-04  153.479996  240.309998  74.690002\n",
       "2017-10-05  155.389999  246.059998  75.970001\n",
       "2017-10-06  155.300003  246.020004  76.000000\n",
       "\n",
       "[1956 rows x 3 columns]"
      ]
     },
     "execution_count": 219,
     "metadata": {},
     "output_type": "execute_result"
    }
   ],
   "source": [
    "names = ['AAPL', 'GS', 'MSFT']#, 'DELL', 'GS', 'MS', 'BAC', 'C']\n",
    "def get_px(stock, start, end):\n",
    "    return web.get_data_yahoo(stock, start, end)['Close']\n",
    "px = DataFrame({n: get_px(n, None, None) for n in names})\n",
    "px"
   ]
  },
  {
   "cell_type": "code",
   "execution_count": 108,
   "metadata": {},
   "outputs": [
    {
     "data": {
      "text/html": [
       "<div>\n",
       "<style>\n",
       "    .dataframe thead tr:only-child th {\n",
       "        text-align: right;\n",
       "    }\n",
       "\n",
       "    .dataframe thead th {\n",
       "        text-align: left;\n",
       "    }\n",
       "\n",
       "    .dataframe tbody tr th {\n",
       "        vertical-align: top;\n",
       "    }\n",
       "</style>\n",
       "<table border=\"1\" class=\"dataframe\">\n",
       "  <thead>\n",
       "    <tr style=\"text-align: right;\">\n",
       "      <th></th>\n",
       "      <th>Unnamed: 0</th>\n",
       "      <th>AA</th>\n",
       "      <th>AAPL</th>\n",
       "      <th>GE</th>\n",
       "      <th>IBM</th>\n",
       "      <th>JNJ</th>\n",
       "      <th>MSFT</th>\n",
       "      <th>PEP</th>\n",
       "      <th>SPX</th>\n",
       "      <th>XOM</th>\n",
       "    </tr>\n",
       "  </thead>\n",
       "  <tbody>\n",
       "    <tr>\n",
       "      <th>0</th>\n",
       "      <td>1990-02-01 00:00:00</td>\n",
       "      <td>4.98</td>\n",
       "      <td>7.86</td>\n",
       "      <td>2.87</td>\n",
       "      <td>16.79</td>\n",
       "      <td>4.27</td>\n",
       "      <td>0.51</td>\n",
       "      <td>6.04</td>\n",
       "      <td>328.79</td>\n",
       "      <td>6.12</td>\n",
       "    </tr>\n",
       "    <tr>\n",
       "      <th>1</th>\n",
       "      <td>1990-02-02 00:00:00</td>\n",
       "      <td>5.04</td>\n",
       "      <td>8.00</td>\n",
       "      <td>2.87</td>\n",
       "      <td>16.89</td>\n",
       "      <td>4.37</td>\n",
       "      <td>0.51</td>\n",
       "      <td>6.09</td>\n",
       "      <td>330.92</td>\n",
       "      <td>6.24</td>\n",
       "    </tr>\n",
       "    <tr>\n",
       "      <th>2</th>\n",
       "      <td>1990-02-05 00:00:00</td>\n",
       "      <td>5.07</td>\n",
       "      <td>8.18</td>\n",
       "      <td>2.87</td>\n",
       "      <td>17.32</td>\n",
       "      <td>4.34</td>\n",
       "      <td>0.51</td>\n",
       "      <td>6.05</td>\n",
       "      <td>331.85</td>\n",
       "      <td>6.25</td>\n",
       "    </tr>\n",
       "    <tr>\n",
       "      <th>3</th>\n",
       "      <td>1990-02-06 00:00:00</td>\n",
       "      <td>5.01</td>\n",
       "      <td>8.12</td>\n",
       "      <td>2.88</td>\n",
       "      <td>17.56</td>\n",
       "      <td>4.32</td>\n",
       "      <td>0.51</td>\n",
       "      <td>6.15</td>\n",
       "      <td>329.66</td>\n",
       "      <td>6.23</td>\n",
       "    </tr>\n",
       "    <tr>\n",
       "      <th>4</th>\n",
       "      <td>1990-02-07 00:00:00</td>\n",
       "      <td>5.04</td>\n",
       "      <td>7.77</td>\n",
       "      <td>2.91</td>\n",
       "      <td>17.93</td>\n",
       "      <td>4.38</td>\n",
       "      <td>0.51</td>\n",
       "      <td>6.17</td>\n",
       "      <td>333.75</td>\n",
       "      <td>6.33</td>\n",
       "    </tr>\n",
       "    <tr>\n",
       "      <th>5</th>\n",
       "      <td>1990-02-08 00:00:00</td>\n",
       "      <td>5.04</td>\n",
       "      <td>7.71</td>\n",
       "      <td>2.92</td>\n",
       "      <td>17.86</td>\n",
       "      <td>4.46</td>\n",
       "      <td>0.51</td>\n",
       "      <td>6.22</td>\n",
       "      <td>332.96</td>\n",
       "      <td>6.35</td>\n",
       "    </tr>\n",
       "    <tr>\n",
       "      <th>...</th>\n",
       "      <td>...</td>\n",
       "      <td>...</td>\n",
       "      <td>...</td>\n",
       "      <td>...</td>\n",
       "      <td>...</td>\n",
       "      <td>...</td>\n",
       "      <td>...</td>\n",
       "      <td>...</td>\n",
       "      <td>...</td>\n",
       "      <td>...</td>\n",
       "    </tr>\n",
       "    <tr>\n",
       "      <th>5466</th>\n",
       "      <td>2011-10-07 00:00:00</td>\n",
       "      <td>9.71</td>\n",
       "      <td>369.80</td>\n",
       "      <td>15.50</td>\n",
       "      <td>182.39</td>\n",
       "      <td>63.13</td>\n",
       "      <td>26.25</td>\n",
       "      <td>61.02</td>\n",
       "      <td>1155.46</td>\n",
       "      <td>73.56</td>\n",
       "    </tr>\n",
       "    <tr>\n",
       "      <th>5467</th>\n",
       "      <td>2011-10-10 00:00:00</td>\n",
       "      <td>10.09</td>\n",
       "      <td>388.81</td>\n",
       "      <td>16.14</td>\n",
       "      <td>186.62</td>\n",
       "      <td>64.43</td>\n",
       "      <td>26.94</td>\n",
       "      <td>61.87</td>\n",
       "      <td>1194.89</td>\n",
       "      <td>76.28</td>\n",
       "    </tr>\n",
       "    <tr>\n",
       "      <th>5468</th>\n",
       "      <td>2011-10-11 00:00:00</td>\n",
       "      <td>10.30</td>\n",
       "      <td>400.29</td>\n",
       "      <td>16.14</td>\n",
       "      <td>185.00</td>\n",
       "      <td>63.96</td>\n",
       "      <td>27.00</td>\n",
       "      <td>60.95</td>\n",
       "      <td>1195.54</td>\n",
       "      <td>76.27</td>\n",
       "    </tr>\n",
       "    <tr>\n",
       "      <th>5469</th>\n",
       "      <td>2011-10-12 00:00:00</td>\n",
       "      <td>10.05</td>\n",
       "      <td>402.19</td>\n",
       "      <td>16.40</td>\n",
       "      <td>186.12</td>\n",
       "      <td>64.33</td>\n",
       "      <td>26.96</td>\n",
       "      <td>62.70</td>\n",
       "      <td>1207.25</td>\n",
       "      <td>77.16</td>\n",
       "    </tr>\n",
       "    <tr>\n",
       "      <th>5470</th>\n",
       "      <td>2011-10-13 00:00:00</td>\n",
       "      <td>10.10</td>\n",
       "      <td>408.43</td>\n",
       "      <td>16.22</td>\n",
       "      <td>186.82</td>\n",
       "      <td>64.23</td>\n",
       "      <td>27.18</td>\n",
       "      <td>62.36</td>\n",
       "      <td>1203.66</td>\n",
       "      <td>76.37</td>\n",
       "    </tr>\n",
       "    <tr>\n",
       "      <th>5471</th>\n",
       "      <td>2011-10-14 00:00:00</td>\n",
       "      <td>10.26</td>\n",
       "      <td>422.00</td>\n",
       "      <td>16.60</td>\n",
       "      <td>190.53</td>\n",
       "      <td>64.72</td>\n",
       "      <td>27.27</td>\n",
       "      <td>62.24</td>\n",
       "      <td>1224.58</td>\n",
       "      <td>78.11</td>\n",
       "    </tr>\n",
       "  </tbody>\n",
       "</table>\n",
       "<p>5472 rows × 10 columns</p>\n",
       "</div>"
      ],
      "text/plain": [
       "               Unnamed: 0     AA    AAPL     GE     IBM    JNJ   MSFT    PEP  \\\n",
       "0     1990-02-01 00:00:00   4.98    7.86   2.87   16.79   4.27   0.51   6.04   \n",
       "1     1990-02-02 00:00:00   5.04    8.00   2.87   16.89   4.37   0.51   6.09   \n",
       "2     1990-02-05 00:00:00   5.07    8.18   2.87   17.32   4.34   0.51   6.05   \n",
       "3     1990-02-06 00:00:00   5.01    8.12   2.88   17.56   4.32   0.51   6.15   \n",
       "4     1990-02-07 00:00:00   5.04    7.77   2.91   17.93   4.38   0.51   6.17   \n",
       "5     1990-02-08 00:00:00   5.04    7.71   2.92   17.86   4.46   0.51   6.22   \n",
       "...                   ...    ...     ...    ...     ...    ...    ...    ...   \n",
       "5466  2011-10-07 00:00:00   9.71  369.80  15.50  182.39  63.13  26.25  61.02   \n",
       "5467  2011-10-10 00:00:00  10.09  388.81  16.14  186.62  64.43  26.94  61.87   \n",
       "5468  2011-10-11 00:00:00  10.30  400.29  16.14  185.00  63.96  27.00  60.95   \n",
       "5469  2011-10-12 00:00:00  10.05  402.19  16.40  186.12  64.33  26.96  62.70   \n",
       "5470  2011-10-13 00:00:00  10.10  408.43  16.22  186.82  64.23  27.18  62.36   \n",
       "5471  2011-10-14 00:00:00  10.26  422.00  16.60  190.53  64.72  27.27  62.24   \n",
       "\n",
       "          SPX    XOM  \n",
       "0      328.79   6.12  \n",
       "1      330.92   6.24  \n",
       "2      331.85   6.25  \n",
       "3      329.66   6.23  \n",
       "4      333.75   6.33  \n",
       "5      332.96   6.35  \n",
       "...       ...    ...  \n",
       "5466  1155.46  73.56  \n",
       "5467  1194.89  76.28  \n",
       "5468  1195.54  76.27  \n",
       "5469  1207.25  77.16  \n",
       "5470  1203.66  76.37  \n",
       "5471  1224.58  78.11  \n",
       "\n",
       "[5472 rows x 10 columns]"
      ]
     },
     "execution_count": 108,
     "metadata": {},
     "output_type": "execute_result"
    }
   ],
   "source": [
    "px = pd.read_csv('ch11/stock_px.csv')\n",
    "px"
   ]
  },
  {
   "cell_type": "code",
   "execution_count": 139,
   "metadata": {
    "collapsed": true
   },
   "outputs": [],
   "source": [
    "plt.close('all')"
   ]
  },
  {
   "cell_type": "markdown",
   "metadata": {},
   "source": [
    "<pre>\n",
    "DataFrame.fillna(value=None, method=None, axis=None, inplace=False, limit=None, downcast=None, **kwargs)[source]¶\n",
    "Fill NA/NaN values using the specified method\n",
    "\n",
    "Parameters:\t\n",
    "value : scalar, dict, Series, or DataFrame\n",
    "Value to use to fill holes (e.g. 0), alternately a dict/Series/DataFrame of values specifying which value to use for each index (for a Series) or column (for a DataFrame). (values not in the dict/Series/DataFrame will not be filled). This value cannot be a list.\n",
    "method : {‘backfill’, ‘bfill’, ‘pad’, ‘ffill’, None}, default None\n",
    "Method to use for filling holes in reindexed Series pad / ffill: propagate last valid observation forward to next valid backfill / bfill: use NEXT valid observation to fill gap\n",
    "axis : {0 or ‘index’, 1 or ‘columns’}\n",
    "inplace : boolean, default False\n",
    "</pre>"
   ]
  },
  {
   "cell_type": "code",
   "execution_count": 140,
   "metadata": {},
   "outputs": [
    {
     "data": {
      "text/html": [
       "<div>\n",
       "<style>\n",
       "    .dataframe thead tr:only-child th {\n",
       "        text-align: right;\n",
       "    }\n",
       "\n",
       "    .dataframe thead th {\n",
       "        text-align: left;\n",
       "    }\n",
       "\n",
       "    .dataframe tbody tr th {\n",
       "        vertical-align: top;\n",
       "    }\n",
       "</style>\n",
       "<table border=\"1\" class=\"dataframe\">\n",
       "  <thead>\n",
       "    <tr style=\"text-align: right;\">\n",
       "      <th></th>\n",
       "      <th>AAPL</th>\n",
       "      <th>GS</th>\n",
       "      <th>MSFT</th>\n",
       "    </tr>\n",
       "    <tr>\n",
       "      <th>Date</th>\n",
       "      <th></th>\n",
       "      <th></th>\n",
       "      <th></th>\n",
       "    </tr>\n",
       "  </thead>\n",
       "  <tbody>\n",
       "    <tr>\n",
       "      <th>2009-12-31</th>\n",
       "      <td>30.104286</td>\n",
       "      <td>168.839996</td>\n",
       "      <td>30.480000</td>\n",
       "    </tr>\n",
       "    <tr>\n",
       "      <th>2010-01-01</th>\n",
       "      <td>30.104286</td>\n",
       "      <td>168.839996</td>\n",
       "      <td>30.480000</td>\n",
       "    </tr>\n",
       "    <tr>\n",
       "      <th>2010-01-04</th>\n",
       "      <td>30.572857</td>\n",
       "      <td>173.080002</td>\n",
       "      <td>30.950001</td>\n",
       "    </tr>\n",
       "    <tr>\n",
       "      <th>2010-01-05</th>\n",
       "      <td>30.625713</td>\n",
       "      <td>176.139999</td>\n",
       "      <td>30.959999</td>\n",
       "    </tr>\n",
       "    <tr>\n",
       "      <th>2010-01-06</th>\n",
       "      <td>30.138571</td>\n",
       "      <td>174.259995</td>\n",
       "      <td>30.770000</td>\n",
       "    </tr>\n",
       "    <tr>\n",
       "      <th>...</th>\n",
       "      <td>...</td>\n",
       "      <td>...</td>\n",
       "      <td>...</td>\n",
       "    </tr>\n",
       "    <tr>\n",
       "      <th>2017-10-02</th>\n",
       "      <td>153.809998</td>\n",
       "      <td>240.649994</td>\n",
       "      <td>74.610001</td>\n",
       "    </tr>\n",
       "    <tr>\n",
       "      <th>2017-10-03</th>\n",
       "      <td>154.479996</td>\n",
       "      <td>241.619995</td>\n",
       "      <td>74.260002</td>\n",
       "    </tr>\n",
       "    <tr>\n",
       "      <th>2017-10-04</th>\n",
       "      <td>153.479996</td>\n",
       "      <td>240.309998</td>\n",
       "      <td>74.690002</td>\n",
       "    </tr>\n",
       "    <tr>\n",
       "      <th>2017-10-05</th>\n",
       "      <td>155.389999</td>\n",
       "      <td>246.059998</td>\n",
       "      <td>75.970001</td>\n",
       "    </tr>\n",
       "    <tr>\n",
       "      <th>2017-10-06</th>\n",
       "      <td>155.300003</td>\n",
       "      <td>246.020004</td>\n",
       "      <td>76.000000</td>\n",
       "    </tr>\n",
       "  </tbody>\n",
       "</table>\n",
       "<p>2027 rows × 3 columns</p>\n",
       "</div>"
      ],
      "text/plain": [
       "                  AAPL          GS       MSFT\n",
       "Date                                         \n",
       "2009-12-31   30.104286  168.839996  30.480000\n",
       "2010-01-01   30.104286  168.839996  30.480000\n",
       "2010-01-04   30.572857  173.080002  30.950001\n",
       "2010-01-05   30.625713  176.139999  30.959999\n",
       "2010-01-06   30.138571  174.259995  30.770000\n",
       "...                ...         ...        ...\n",
       "2017-10-02  153.809998  240.649994  74.610001\n",
       "2017-10-03  154.479996  241.619995  74.260002\n",
       "2017-10-04  153.479996  240.309998  74.690002\n",
       "2017-10-05  155.389999  246.059998  75.970001\n",
       "2017-10-06  155.300003  246.020004  76.000000\n",
       "\n",
       "[2027 rows x 3 columns]"
      ]
     },
     "execution_count": 140,
     "metadata": {},
     "output_type": "execute_result"
    }
   ],
   "source": [
    "px = px.asfreq('B').fillna(method='pad')\n",
    "px"
   ]
  },
  {
   "cell_type": "code",
   "execution_count": 141,
   "metadata": {},
   "outputs": [
    {
     "data": {
      "text/plain": [
       "<matplotlib.axes._subplots.AxesSubplot at 0x1aee8e86c88>"
      ]
     },
     "execution_count": 141,
     "metadata": {},
     "output_type": "execute_result"
    },
    {
     "data": {
      "image/png": "[encoded data removed]",
      "text/plain": [
       "<matplotlib.figure.Figure at 0x1aee78d46d8>"
      ]
     },
     "metadata": {},
     "output_type": "display_data"
    }
   ],
   "source": [
    "rets = px.pct_change()\n",
    "((1 + rets).cumprod() - 1).plot()"
   ]
  },
  {
   "cell_type": "code",
   "execution_count": 143,
   "metadata": {
    "collapsed": true
   },
   "outputs": [],
   "source": [
    "def calc_mom(price, lookback, lag):\n",
    "    mom_ret = price.shift(lag).pct_change(lookback)\n",
    "    ranks = mom_ret.rank(axis=1, ascending=False)\n",
    "    demeaned = ranks.subtract(ranks.mean(axis=1), axis=0)\n",
    "    return demeaned.divide(demeaned.std(axis=1), axis=0)"
   ]
  },
  {
   "cell_type": "code",
   "execution_count": 207,
   "metadata": {},
   "outputs": [
    {
     "data": {
      "text/plain": [
       "'1B'"
      ]
     },
     "execution_count": 207,
     "metadata": {},
     "output_type": "execute_result"
    }
   ],
   "source": [
    "freq='%dB' % 1\n",
    "freq"
   ]
  },
  {
   "cell_type": "code",
   "execution_count": 230,
   "metadata": {},
   "outputs": [
    {
     "name": "stdout",
     "output_type": "stream",
     "text": [
      "                AAPL        GS      MSFT\n",
      "Date                                    \n",
      "2009-12-31       NaN       NaN       NaN\n",
      "2010-01-04  0.015565  0.025113  0.015420\n",
      "2010-01-05  0.001729  0.017680  0.000323\n",
      "2010-01-06 -0.015906 -0.010673 -0.006137\n",
      "2010-01-07 -0.001849  0.019568 -0.010400\n",
      "...              ...       ...       ...\n",
      "2017-10-02 -0.002011  0.014587  0.001611\n",
      "2017-10-03  0.004356  0.004031 -0.004691\n",
      "2017-10-04 -0.006473 -0.005422  0.005790\n",
      "2017-10-05  0.012445  0.023927  0.017137\n",
      "2017-10-06 -0.000579 -0.000163  0.000395\n",
      "\n",
      "[1956 rows x 3 columns]\n"
     ]
    },
    {
     "name": "stderr",
     "output_type": "stream",
     "text": [
      "C:\\Users\\moriya\\Anaconda3\\lib\\site-packages\\ipykernel_launcher.py:8: FutureWarning: \n",
      ".resample() is now a deferred operation\n",
      "You called compound(...) on this deferred object which materialized it into a dataframe\n",
      "by implicitly taking the mean.  Use .resample(...).mean() instead\n",
      "  \n"
     ]
    },
    {
     "data": {
      "image/png": "[encoded data removed]",
      "text/plain": [
       "<matplotlib.figure.Figure at 0x1aee952cd68>"
      ]
     },
     "metadata": {},
     "output_type": "display_data"
    }
   ],
   "source": [
    "port=calc_mom(px,70,lag=1)\n",
    "freq = '%dB' % hold\n",
    "port = port.shift(1).resample(freq).first()\n",
    "port.plot()\n",
    "daily_rets = px.pct_change()\n",
    "print(daily_rets)\n",
    "returns = daily_rets.resample(freq)\n",
    "returns=returns.compound()\n",
    "#returns.plot()"
   ]
  },
  {
   "cell_type": "code",
   "execution_count": 144,
   "metadata": {
    "collapsed": true
   },
   "outputs": [],
   "source": [
    "compound = lambda x : (1 + x).prod() - 1\n",
    "daily_sr = lambda x: x.mean() / x.std()\n",
    "\n",
    "def strat_sr(prices, lb, hold):\n",
    "    # Compute portfolio weights\n",
    "    freq = '%dB' % hold\n",
    "    port = calc_mom(prices, lb, lag=1)\n",
    "\n",
    "    daily_rets = prices.pct_change()\n",
    "\n",
    "    # Compute portfolio returns\n",
    "    port = port.shift(1).resample(freq, how='first')\n",
    "    returns = daily_rets.resample(freq, how=compound)\n",
    "    port_rets = (port * returns).sum(axis=1)\n",
    "\n",
    "    return daily_sr(port_rets) * np.sqrt(252 / hold)"
   ]
  },
  {
   "cell_type": "code",
   "execution_count": 231,
   "metadata": {},
   "outputs": [],
   "source": [
    "compound = lambda x : (1 + x).prod() - 1\n",
    "daily_sr = lambda x: x.mean() / x.std()\n",
    "\n",
    "def strat_sr(prices, lb, hold):\n",
    "    # Compute portfolio weights\n",
    "    freq = '%dB' % hold\n",
    "    port = calc_mom(prices, lb, lag=1)\n",
    "\n",
    " #   #daily_rets = prices.pct_change()\n",
    "    daily_rets = prices.pct_change()\n",
    "    #Compute portfolio returns\n",
    "    port = port.shift(1).resample(freq).first()#, how='first')\n",
    "    #returns = daily_rets.resample(freq).compound()#, how=compound)\n",
    "    returns = daily_rets.resample(freq).compound()#, how=compound)\n",
    "    port_rets = (port * returns).sum(axis=1)\n",
    "    #port_rets = (port * returns).sum()\n",
    "\n",
    "    return daily_sr(port_rets) * np.sqrt(252 / hold)"
   ]
  },
  {
   "cell_type": "code",
   "execution_count": 232,
   "metadata": {},
   "outputs": [
    {
     "name": "stderr",
     "output_type": "stream",
     "text": [
      "C:\\Users\\moriya\\Anaconda3\\lib\\site-packages\\ipykernel_launcher.py:14: FutureWarning: \n",
      ".resample() is now a deferred operation\n",
      "You called compound(...) on this deferred object which materialized it into a dataframe\n",
      "by implicitly taking the mean.  Use .resample(...).mean() instead\n",
      "  \n"
     ]
    },
    {
     "data": {
      "text/plain": [
       "-0.80939043226950713"
      ]
     },
     "execution_count": 232,
     "metadata": {},
     "output_type": "execute_result"
    }
   ],
   "source": [
    "strat_sr(px, 70, 30)"
   ]
  },
  {
   "cell_type": "code",
   "execution_count": 233,
   "metadata": {},
   "outputs": [
    {
     "name": "stderr",
     "output_type": "stream",
     "text": [
      "C:\\Users\\moriya\\Anaconda3\\lib\\site-packages\\ipykernel_launcher.py:14: FutureWarning: \n",
      ".resample() is now a deferred operation\n",
      "You called compound(...) on this deferred object which materialized it into a dataframe\n",
      "by implicitly taking the mean.  Use .resample(...).mean() instead\n",
      "  \n"
     ]
    }
   ],
   "source": [
    "from collections import defaultdict\n",
    "\n",
    "lookbacks = range(20, 90, 5)\n",
    "holdings = range(20, 90, 5)\n",
    "dd = defaultdict(dict)\n",
    "for lb in lookbacks:\n",
    "    for hold in holdings:\n",
    "        dd[lb][hold] = strat_sr(px, lb, hold)\n",
    "\n",
    "ddf = DataFrame(dd)\n",
    "ddf.index.name = 'Holding Period'\n",
    "ddf.columns.name = 'Lookback Period'"
   ]
  },
  {
   "cell_type": "code",
   "execution_count": 234,
   "metadata": {
    "collapsed": true
   },
   "outputs": [],
   "source": [
    "import matplotlib.pyplot as plt\n",
    "\n",
    "def heatmap(df, cmap=plt.cm.gray_r):\n",
    "    fig = plt.figure()\n",
    "    ax = fig.add_subplot(111)\n",
    "    axim = ax.imshow(df.values, cmap=cmap, interpolation='nearest')\n",
    "    ax.set_xlabel(df.columns.name)\n",
    "    ax.set_xticks(np.arange(len(df.columns)))\n",
    "    ax.set_xticklabels(list(df.columns))\n",
    "    ax.set_ylabel(df.index.name)\n",
    "    ax.set_yticks(np.arange(len(df.index)))\n",
    "    ax.set_yticklabels(list(df.index))\n",
    "    plt.colorbar(axim)"
   ]
  },
  {
   "cell_type": "code",
   "execution_count": 235,
   "metadata": {},
   "outputs": [
    {
     "data": {
      "image/png": "[encoded data removed]",
      "text/plain": [
       "<matplotlib.figure.Figure at 0x1aeeb1c3128>"
      ]
     },
     "metadata": {},
     "output_type": "display_data"
    }
   ],
   "source": [
    "heatmap(ddf)"
   ]
  },
  {
   "cell_type": "markdown",
   "metadata": {},
   "source": [
    "### Future contract rolling"
   ]
  },
  {
   "cell_type": "code",
   "execution_count": 120,
   "metadata": {
    "collapsed": true
   },
   "outputs": [],
   "source": [
    "pd.options.display.max_rows = 10"
   ]
  },
  {
   "cell_type": "code",
   "execution_count": 236,
   "metadata": {},
   "outputs": [
    {
     "data": {
      "text/plain": [
       "Date\n",
       "2009-12-31     952.18681\n",
       "2010-01-04     968.33588\n",
       "2010-01-05     970.89912\n",
       "2010-01-06     971.58264\n",
       "2010-01-07     975.68398\n",
       "                 ...    \n",
       "2017-10-02    2523.20007\n",
       "2017-10-03    2528.60001\n",
       "2017-10-04    2531.60004\n",
       "2017-10-05    2546.60004\n",
       "2017-10-06    2543.69995\n",
       "Name: Adj Close, Length: 1956, dtype: float64"
      ]
     },
     "execution_count": 236,
     "metadata": {},
     "output_type": "execute_result"
    }
   ],
   "source": [
    "#import pandas.io.data as web\n",
    "# Approximate price of S&P 500 index\n",
    "px = web.get_data_yahoo('SPY')['Adj Close'] * 10\n",
    "px"
   ]
  },
  {
   "cell_type": "code",
   "execution_count": 237,
   "metadata": {},
   "outputs": [
    {
     "ename": "AttributeError",
     "evalue": "'Series' object has no attribute 'order'",
     "output_type": "error",
     "traceback": [
      "\u001b[1;31m---------------------------------------------------------------------------\u001b[0m",
      "\u001b[1;31mAttributeError\u001b[0m                            Traceback (most recent call last)",
      "\u001b[1;32m<ipython-input-237-4f8a215869a5>\u001b[0m in \u001b[0;36m<module>\u001b[1;34m()\u001b[0m\n\u001b[0;32m      2\u001b[0m expiry = {'ESU2': datetime(2012, 9, 21),\n\u001b[0;32m      3\u001b[0m           'ESZ2': datetime(2012, 12, 21)}\n\u001b[1;32m----> 4\u001b[1;33m \u001b[0mexpiry\u001b[0m \u001b[1;33m=\u001b[0m \u001b[0mSeries\u001b[0m\u001b[1;33m(\u001b[0m\u001b[0mexpiry\u001b[0m\u001b[1;33m)\u001b[0m\u001b[1;33m.\u001b[0m\u001b[0morder\u001b[0m\u001b[1;33m(\u001b[0m\u001b[1;33m)\u001b[0m\u001b[1;33m\u001b[0m\u001b[0m\n\u001b[0m",
      "\u001b[1;32m~\\Anaconda3\\lib\\site-packages\\pandas\\core\\generic.py\u001b[0m in \u001b[0;36m__getattr__\u001b[1;34m(self, name)\u001b[0m\n\u001b[0;32m   3079\u001b[0m             \u001b[1;32mif\u001b[0m \u001b[0mname\u001b[0m \u001b[1;32min\u001b[0m \u001b[0mself\u001b[0m\u001b[1;33m.\u001b[0m\u001b[0m_info_axis\u001b[0m\u001b[1;33m:\u001b[0m\u001b[1;33m\u001b[0m\u001b[0m\n\u001b[0;32m   3080\u001b[0m                 \u001b[1;32mreturn\u001b[0m \u001b[0mself\u001b[0m\u001b[1;33m[\u001b[0m\u001b[0mname\u001b[0m\u001b[1;33m]\u001b[0m\u001b[1;33m\u001b[0m\u001b[0m\n\u001b[1;32m-> 3081\u001b[1;33m             \u001b[1;32mreturn\u001b[0m \u001b[0mobject\u001b[0m\u001b[1;33m.\u001b[0m\u001b[0m__getattribute__\u001b[0m\u001b[1;33m(\u001b[0m\u001b[0mself\u001b[0m\u001b[1;33m,\u001b[0m \u001b[0mname\u001b[0m\u001b[1;33m)\u001b[0m\u001b[1;33m\u001b[0m\u001b[0m\n\u001b[0m\u001b[0;32m   3082\u001b[0m \u001b[1;33m\u001b[0m\u001b[0m\n\u001b[0;32m   3083\u001b[0m     \u001b[1;32mdef\u001b[0m \u001b[0m__setattr__\u001b[0m\u001b[1;33m(\u001b[0m\u001b[0mself\u001b[0m\u001b[1;33m,\u001b[0m \u001b[0mname\u001b[0m\u001b[1;33m,\u001b[0m \u001b[0mvalue\u001b[0m\u001b[1;33m)\u001b[0m\u001b[1;33m:\u001b[0m\u001b[1;33m\u001b[0m\u001b[0m\n",
      "\u001b[1;31mAttributeError\u001b[0m: 'Series' object has no attribute 'order'"
     ]
    }
   ],
   "source": [
    "from datetime import datetime\n",
    "expiry = {'ESU2': datetime(2012, 9, 21),\n",
    "          'ESZ2': datetime(2012, 12, 21)}\n",
    "expiry = Series(expiry).order()"
   ]
  },
  {
   "cell_type": "code",
   "execution_count": 238,
   "metadata": {},
   "outputs": [],
   "source": [
    "from datetime import datetime\n",
    "expiry = {'ESU2': datetime(2012, 9, 21),\n",
    "          'ESZ2': datetime(2012, 12, 21)}\n",
    "expiry = Series(expiry).sort_values()"
   ]
  },
  {
   "cell_type": "code",
   "execution_count": 239,
   "metadata": {},
   "outputs": [
    {
     "data": {
      "text/plain": [
       "ESU2   2012-09-21\n",
       "ESZ2   2012-12-21\n",
       "dtype: datetime64[ns]"
      ]
     },
     "execution_count": 239,
     "metadata": {},
     "output_type": "execute_result"
    }
   ],
   "source": [
    "expiry"
   ]
  },
  {
   "cell_type": "code",
   "execution_count": 242,
   "metadata": {
    "collapsed": true
   },
   "outputs": [],
   "source": [
    "np.random.seed(12347)\n",
    "N = 200\n",
    "walk = (np.random.randint(0, 200, size=N) - 100) * 0.25\n",
    "perturb = (np.random.randint(0, 20, size=N) - 10) * 0.25\n",
    "walk = walk.cumsum()\n",
    "\n",
    "rng = pd.date_range(px.index[0], periods=len(px) + N, freq='B')\n",
    "near = np.concatenate([px.values, px.values[-1] + walk])\n",
    "far = np.concatenate([px.values, px.values[-1] + walk + perturb])\n",
    "prices = DataFrame({'ESU2': near, 'ESZ2': far}, index=rng)"
   ]
  },
  {
   "cell_type": "code",
   "execution_count": 243,
   "metadata": {},
   "outputs": [
    {
     "data": {
      "text/html": [
       "<div>\n",
       "<style>\n",
       "    .dataframe thead tr:only-child th {\n",
       "        text-align: right;\n",
       "    }\n",
       "\n",
       "    .dataframe thead th {\n",
       "        text-align: left;\n",
       "    }\n",
       "\n",
       "    .dataframe tbody tr th {\n",
       "        vertical-align: top;\n",
       "    }\n",
       "</style>\n",
       "<table border=\"1\" class=\"dataframe\">\n",
       "  <thead>\n",
       "    <tr style=\"text-align: right;\">\n",
       "      <th></th>\n",
       "      <th>ESU2</th>\n",
       "      <th>ESZ2</th>\n",
       "    </tr>\n",
       "  </thead>\n",
       "  <tbody>\n",
       "    <tr>\n",
       "      <th>2018-03-30</th>\n",
       "      <td>2572.94995</td>\n",
       "      <td>2574.69995</td>\n",
       "    </tr>\n",
       "    <tr>\n",
       "      <th>2018-04-02</th>\n",
       "      <td>2559.19995</td>\n",
       "      <td>2561.44995</td>\n",
       "    </tr>\n",
       "    <tr>\n",
       "      <th>2018-04-03</th>\n",
       "      <td>2567.19995</td>\n",
       "      <td>2568.94995</td>\n",
       "    </tr>\n",
       "    <tr>\n",
       "      <th>2018-04-04</th>\n",
       "      <td>2583.69995</td>\n",
       "      <td>2582.94995</td>\n",
       "    </tr>\n",
       "    <tr>\n",
       "      <th>2018-04-05</th>\n",
       "      <td>2563.69995</td>\n",
       "      <td>2561.44995</td>\n",
       "    </tr>\n",
       "  </tbody>\n",
       "</table>\n",
       "</div>"
      ],
      "text/plain": [
       "                  ESU2        ESZ2\n",
       "2018-03-30  2572.94995  2574.69995\n",
       "2018-04-02  2559.19995  2561.44995\n",
       "2018-04-03  2567.19995  2568.94995\n",
       "2018-04-04  2583.69995  2582.94995\n",
       "2018-04-05  2563.69995  2561.44995"
      ]
     },
     "execution_count": 243,
     "metadata": {},
     "output_type": "execute_result"
    }
   ],
   "source": [
    "prices.tail()"
   ]
  },
  {
   "cell_type": "code",
   "execution_count": 244,
   "metadata": {
    "collapsed": true
   },
   "outputs": [],
   "source": [
    "def get_roll_weights(start, expiry, items, roll_periods=5):\n",
    "    # start : first date to compute weighting DataFrame\n",
    "    # expiry : Series of ticker -> expiration dates\n",
    "    # items : sequence of contract names\n",
    "\n",
    "    dates = pd.date_range(start, expiry[-1], freq='B')\n",
    "    weights = DataFrame(np.zeros((len(dates), len(items))),\n",
    "                        index=dates, columns=items)\n",
    "\n",
    "    prev_date = weights.index[0]\n",
    "    for i, (item, ex_date) in enumerate(expiry.iteritems()):\n",
    "        if i < len(expiry) - 1:\n",
    "            weights.loc[prev_date:ex_date - pd.offsets.BDay(), item] = 1\n",
    "            roll_rng = pd.date_range(end=ex_date - pd.offsets.BDay(),\n",
    "                                     periods=roll_periods + 1, freq='B')\n",
    "\n",
    "            decay_weights = np.linspace(0, 1, roll_periods + 1)\n",
    "            weights.loc[roll_rng, item] = 1 - decay_weights\n",
    "            weights.loc[roll_rng, expiry.index[i + 1]] = decay_weights\n",
    "        else:\n",
    "            weights.loc[prev_date:, item] = 1\n",
    "\n",
    "        prev_date = ex_date\n",
    "\n",
    "    return weights"
   ]
  },
  {
   "cell_type": "code",
   "execution_count": 245,
   "metadata": {},
   "outputs": [
    {
     "data": {
      "text/html": [
       "<div>\n",
       "<style>\n",
       "    .dataframe thead tr:only-child th {\n",
       "        text-align: right;\n",
       "    }\n",
       "\n",
       "    .dataframe thead th {\n",
       "        text-align: left;\n",
       "    }\n",
       "\n",
       "    .dataframe tbody tr th {\n",
       "        vertical-align: top;\n",
       "    }\n",
       "</style>\n",
       "<table border=\"1\" class=\"dataframe\">\n",
       "  <thead>\n",
       "    <tr style=\"text-align: right;\">\n",
       "      <th></th>\n",
       "      <th>ESU2</th>\n",
       "      <th>ESZ2</th>\n",
       "    </tr>\n",
       "  </thead>\n",
       "  <tbody>\n",
       "    <tr>\n",
       "      <th>2012-09-12</th>\n",
       "      <td>1.0</td>\n",
       "      <td>0.0</td>\n",
       "    </tr>\n",
       "    <tr>\n",
       "      <th>2012-09-13</th>\n",
       "      <td>1.0</td>\n",
       "      <td>0.0</td>\n",
       "    </tr>\n",
       "    <tr>\n",
       "      <th>2012-09-14</th>\n",
       "      <td>0.8</td>\n",
       "      <td>0.2</td>\n",
       "    </tr>\n",
       "    <tr>\n",
       "      <th>2012-09-17</th>\n",
       "      <td>0.6</td>\n",
       "      <td>0.4</td>\n",
       "    </tr>\n",
       "    <tr>\n",
       "      <th>2012-09-18</th>\n",
       "      <td>0.4</td>\n",
       "      <td>0.6</td>\n",
       "    </tr>\n",
       "    <tr>\n",
       "      <th>2012-09-19</th>\n",
       "      <td>0.2</td>\n",
       "      <td>0.8</td>\n",
       "    </tr>\n",
       "    <tr>\n",
       "      <th>2012-09-20</th>\n",
       "      <td>0.0</td>\n",
       "      <td>1.0</td>\n",
       "    </tr>\n",
       "    <tr>\n",
       "      <th>2012-09-21</th>\n",
       "      <td>0.0</td>\n",
       "      <td>1.0</td>\n",
       "    </tr>\n",
       "  </tbody>\n",
       "</table>\n",
       "</div>"
      ],
      "text/plain": [
       "            ESU2  ESZ2\n",
       "2012-09-12   1.0   0.0\n",
       "2012-09-13   1.0   0.0\n",
       "2012-09-14   0.8   0.2\n",
       "2012-09-17   0.6   0.4\n",
       "2012-09-18   0.4   0.6\n",
       "2012-09-19   0.2   0.8\n",
       "2012-09-20   0.0   1.0\n",
       "2012-09-21   0.0   1.0"
      ]
     },
     "execution_count": 245,
     "metadata": {},
     "output_type": "execute_result"
    }
   ],
   "source": [
    "weights = get_roll_weights('6/1/2012', expiry, prices.columns)\n",
    "weights.loc['2012-09-12':'2012-09-21']"
   ]
  },
  {
   "cell_type": "code",
   "execution_count": 246,
   "metadata": {},
   "outputs": [],
   "source": [
    "rolled_returns = (prices.pct_change() * weights).sum(1)"
   ]
  },
  {
   "cell_type": "markdown",
   "metadata": {},
   "source": [
    "### Rolling correlation and linear regression"
   ]
  },
  {
   "cell_type": "code",
   "execution_count": 129,
   "metadata": {
    "collapsed": true
   },
   "outputs": [],
   "source": [
    "aapl = web.get_data_yahoo('AAPL', '2000-01-01')['Adj Close']\n",
    "msft = web.get_data_yahoo('MSFT', '2000-01-01')['Adj Close']\n",
    "\n",
    "aapl_rets = aapl.pct_change()\n",
    "msft_rets = msft.pct_change()"
   ]
  },
  {
   "cell_type": "code",
   "execution_count": 130,
   "metadata": {},
   "outputs": [
    {
     "data": {
      "text/plain": [
       "<matplotlib.figure.Figure at 0x1aee4c4cf28>"
      ]
     },
     "execution_count": 130,
     "metadata": {},
     "output_type": "execute_result"
    },
    {
     "data": {
      "text/plain": [
       "<matplotlib.figure.Figure at 0x1aee4c4cf28>"
      ]
     },
     "metadata": {},
     "output_type": "display_data"
    }
   ],
   "source": [
    "plt.figure()"
   ]
  },
  {
   "cell_type": "code",
   "execution_count": 131,
   "metadata": {},
   "outputs": [
    {
     "name": "stderr",
     "output_type": "stream",
     "text": [
      "C:\\Users\\moriya\\Anaconda3\\lib\\site-packages\\ipykernel_launcher.py:1: FutureWarning: pd.rolling_corr is deprecated for Series and will be removed in a future version, replace with \n",
      "\tSeries.rolling(window=250).corr(other=<Series>)\n",
      "  \"\"\"Entry point for launching an IPython kernel.\n"
     ]
    },
    {
     "data": {
      "text/plain": [
       "<matplotlib.axes._subplots.AxesSubplot at 0x1aee8e0ed30>"
      ]
     },
     "execution_count": 131,
     "metadata": {},
     "output_type": "execute_result"
    },
    {
     "data": {
      "image/png": "[encoded data removed]",
      "text/plain": [
       "<matplotlib.figure.Figure at 0x1aee8d32198>"
      ]
     },
     "metadata": {},
     "output_type": "display_data"
    }
   ],
   "source": [
    "pd.rolling_corr(aapl_rets, msft_rets, 250).plot()"
   ]
  },
  {
   "cell_type": "code",
   "execution_count": 132,
   "metadata": {},
   "outputs": [
    {
     "data": {
      "text/plain": [
       "<matplotlib.axes._subplots.AxesSubplot at 0x1aee9870588>"
      ]
     },
     "execution_count": 132,
     "metadata": {},
     "output_type": "execute_result"
    },
    {
     "data": {
      "image/png": "[encoded data removed]",
      "text/plain": [
       "<matplotlib.figure.Figure at 0x1aee8f0cbe0>"
      ]
     },
     "metadata": {},
     "output_type": "display_data"
    }
   ],
   "source": [
    "aapl_rets.rolling( 250).corr(msft_rets).plot()"
   ]
  },
  {
   "cell_type": "code",
   "execution_count": 247,
   "metadata": {},
   "outputs": [
    {
     "data": {
      "text/plain": [
       "<matplotlib.figure.Figure at 0x1aeead7d8d0>"
      ]
     },
     "execution_count": 247,
     "metadata": {},
     "output_type": "execute_result"
    },
    {
     "data": {
      "text/plain": [
       "<matplotlib.figure.Figure at 0x1aeead7d8d0>"
      ]
     },
     "metadata": {},
     "output_type": "display_data"
    }
   ],
   "source": [
    "plt.figure()"
   ]
  },
  {
   "cell_type": "code",
   "execution_count": 134,
   "metadata": {},
   "outputs": [
    {
     "ename": "AttributeError",
     "evalue": "module 'pandas' has no attribute 'ols'",
     "output_type": "error",
     "traceback": [
      "\u001b[1;31m---------------------------------------------------------------------------\u001b[0m",
      "\u001b[1;31mAttributeError\u001b[0m                            Traceback (most recent call last)",
      "\u001b[1;32m<ipython-input-134-8c6afe974def>\u001b[0m in \u001b[0;36m<module>\u001b[1;34m()\u001b[0m\n\u001b[1;32m----> 1\u001b[1;33m \u001b[0mmodel\u001b[0m \u001b[1;33m=\u001b[0m \u001b[0mpd\u001b[0m\u001b[1;33m.\u001b[0m\u001b[0mols\u001b[0m\u001b[1;33m(\u001b[0m\u001b[0my\u001b[0m\u001b[1;33m=\u001b[0m\u001b[0maapl_rets\u001b[0m\u001b[1;33m,\u001b[0m \u001b[0mx\u001b[0m\u001b[1;33m=\u001b[0m\u001b[1;33m{\u001b[0m\u001b[1;34m'MSFT'\u001b[0m\u001b[1;33m:\u001b[0m \u001b[0mmsft_rets\u001b[0m\u001b[1;33m}\u001b[0m\u001b[1;33m,\u001b[0m \u001b[0mwindow\u001b[0m\u001b[1;33m=\u001b[0m\u001b[1;36m250\u001b[0m\u001b[1;33m)\u001b[0m\u001b[1;33m\u001b[0m\u001b[0m\n\u001b[0m\u001b[0;32m      2\u001b[0m \u001b[0mmodel\u001b[0m\u001b[1;33m.\u001b[0m\u001b[0mbeta\u001b[0m\u001b[1;33m\u001b[0m\u001b[0m\n",
      "\u001b[1;31mAttributeError\u001b[0m: module 'pandas' has no attribute 'ols'"
     ]
    }
   ],
   "source": [
    "model = pd.ols(y=aapl_rets, x={'MSFT': msft_rets}, window=250)\n",
    "model.beta"
   ]
  },
  {
   "cell_type": "code",
   "execution_count": 312,
   "metadata": {},
   "outputs": [
    {
     "name": "stderr",
     "output_type": "stream",
     "text": [
      "C:\\Users\\moriya\\Anaconda3\\lib\\site-packages\\numpy\\linalg\\linalg.py:1574: RuntimeWarning: invalid value encountered in greater\n",
      "  return (S > tol).sum(axis=-1)\n"
     ]
    },
    {
     "data": {
      "text/plain": [
       "[<matplotlib.lines.Line2D at 0x1aeeaba5860>]"
      ]
     },
     "execution_count": 312,
     "metadata": {},
     "output_type": "execute_result"
    },
    {
     "data": {
      "image/png": "[encoded data removed]",
      "text/plain": [
       "<matplotlib.figure.Figure at 0x1aeeab7fcc0>"
      ]
     },
     "metadata": {},
     "output_type": "display_data"
    }
   ],
   "source": [
    "beta=[]\n",
    "da=[]\n",
    "for i in range(250,len(aapl_rets)):\n",
    "    da0=aapl[i:i+1].index.date[0]\n",
    "    Y=aapl_rets.iloc[i-250:i]\n",
    "    X=msft_rets.iloc[i-250:i]\n",
    "    beta.append(sm.OLS(Y, X).fit().params)\n",
    "    da.append(da0)\n",
    "beta=pd.DataFrame(beta,index=da)\n",
    "plt.plot(beta)"
   ]
  },
  {
   "cell_type": "code",
   "execution_count": 135,
   "metadata": {},
   "outputs": [
    {
     "ename": "AttributeError",
     "evalue": "'OLSResults' object has no attribute 'beta'",
     "output_type": "error",
     "traceback": [
      "\u001b[1;31m---------------------------------------------------------------------------\u001b[0m",
      "\u001b[1;31mAttributeError\u001b[0m                            Traceback (most recent call last)",
      "\u001b[1;32m<ipython-input-135-3518a6dfbdb1>\u001b[0m in \u001b[0;36m<module>\u001b[1;34m()\u001b[0m\n\u001b[1;32m----> 1\u001b[1;33m \u001b[0mmodel\u001b[0m\u001b[1;33m.\u001b[0m\u001b[0mbeta\u001b[0m\u001b[1;33m[\u001b[0m\u001b[1;34m'MSFT'\u001b[0m\u001b[1;33m]\u001b[0m\u001b[1;33m.\u001b[0m\u001b[0mplot\u001b[0m\u001b[1;33m(\u001b[0m\u001b[1;33m)\u001b[0m\u001b[1;33m\u001b[0m\u001b[0m\n\u001b[0m",
      "\u001b[1;32m~\\Anaconda3\\lib\\site-packages\\statsmodels\\base\\wrapper.py\u001b[0m in \u001b[0;36m__getattribute__\u001b[1;34m(self, attr)\u001b[0m\n\u001b[0;32m     33\u001b[0m             \u001b[1;32mpass\u001b[0m\u001b[1;33m\u001b[0m\u001b[0m\n\u001b[0;32m     34\u001b[0m \u001b[1;33m\u001b[0m\u001b[0m\n\u001b[1;32m---> 35\u001b[1;33m         \u001b[0mobj\u001b[0m \u001b[1;33m=\u001b[0m \u001b[0mgetattr\u001b[0m\u001b[1;33m(\u001b[0m\u001b[0mresults\u001b[0m\u001b[1;33m,\u001b[0m \u001b[0mattr\u001b[0m\u001b[1;33m)\u001b[0m\u001b[1;33m\u001b[0m\u001b[0m\n\u001b[0m\u001b[0;32m     36\u001b[0m         \u001b[0mdata\u001b[0m \u001b[1;33m=\u001b[0m \u001b[0mresults\u001b[0m\u001b[1;33m.\u001b[0m\u001b[0mmodel\u001b[0m\u001b[1;33m.\u001b[0m\u001b[0mdata\u001b[0m\u001b[1;33m\u001b[0m\u001b[0m\n\u001b[0;32m     37\u001b[0m         \u001b[0mhow\u001b[0m \u001b[1;33m=\u001b[0m \u001b[0mself\u001b[0m\u001b[1;33m.\u001b[0m\u001b[0m_wrap_attrs\u001b[0m\u001b[1;33m.\u001b[0m\u001b[0mget\u001b[0m\u001b[1;33m(\u001b[0m\u001b[0mattr\u001b[0m\u001b[1;33m)\u001b[0m\u001b[1;33m\u001b[0m\u001b[0m\n",
      "\u001b[1;31mAttributeError\u001b[0m: 'OLSResults' object has no attribute 'beta'"
     ]
    }
   ],
   "source": [
    "model.beta['MSFT'].plot()"
   ]
  },
  {
   "cell_type": "code",
   "execution_count": null,
   "metadata": {
    "collapsed": true
   },
   "outputs": [],
   "source": []
  },
  {
   "cell_type": "code",
   "execution_count": null,
   "metadata": {
    "collapsed": true
   },
   "outputs": [],
   "source": []
  }
 ],
 "metadata": {
  "anaconda-cloud": {},
  "kernelspec": {
   "display_name": "Python 3",
   "language": "python",
   "name": "python3"
  },
  "language_info": {
   "codemirror_mode": {
    "name": "ipython",
    "version": 3
   },
   "file_extension": ".py",
   "mimetype": "text/x-python",
   "name": "python",
   "nbconvert_exporter": "python",
   "pygments_lexer": "ipython3",
   "version": "3.5.3"
  }
 },
 "nbformat": 4,
 "nbformat_minor": 1
}
